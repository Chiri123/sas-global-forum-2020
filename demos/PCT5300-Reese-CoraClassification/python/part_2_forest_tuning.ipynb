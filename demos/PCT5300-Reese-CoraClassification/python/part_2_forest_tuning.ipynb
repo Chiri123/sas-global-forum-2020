{
 "cells": [
  {
   "cell_type": "markdown",
   "metadata": {
    "colab_type": "text",
    "id": "u119qylB-fGc"
   },
   "source": [
    "## CAS Connection\n",
    "\n",
    "### Connect to the Cas Server"
   ]
  },
  {
   "cell_type": "code",
   "execution_count": 1,
   "metadata": {
    "colab": {},
    "colab_type": "code",
    "id": "82pdhXqW-fGg",
    "outputId": "c7ef6965-ed0f-4e78-c8e0-ad54407217b0"
   },
   "outputs": [
    {
     "name": "stdout",
     "output_type": "stream",
     "text": [
      "The history saving thread hit an unexpected error (DatabaseError('database disk image is malformed',)).History will not be written to the database.\n"
     ]
    },
    {
     "data": {
      "text/html": [
       "<div class=\"cas-output-area\"></div>\n",
       "<p class=\"cas-results-performance\"><small><span class=\"cas-elapsed\">elapsed 0.0214s</span> &#183; <span class=\"cas-user\">user 0.034s</span> &#183; <span class=\"cas-sys\">sys 0.058s</span> &#183; <span class=\"cas-memory\">mem 16.7MB</span></small></p>"
      ],
      "text/plain": [
       "+ Elapsed: 0.0214s, user: 0.034s, sys: 0.058s, mem: 16.7mb"
      ]
     },
     "execution_count": 1,
     "metadata": {},
     "output_type": "execute_result"
    }
   ],
   "source": [
    "import swat\n",
    "s = swat.CAS(host, port)\n",
    "s.session.setLocale(locale=\"en_US\") \n",
    "s.sessionProp.setSessOpt(timeout=864000)"
   ]
  },
  {
   "cell_type": "markdown",
   "metadata": {
    "colab_type": "text",
    "id": "uXawNh-W-fGu"
   },
   "source": [
    "# Document Classification\n",
    "## Part 2: Forest Models and Autotune\n",
    "In this notebook, you will build forest models that performs the classification task. To improve the model and illustrate the power of SAS Optimization, hyperparameter tuning is automated using the autotune action. The results after autotune give significant improvement over the forest models trained with default parameters."
   ]
  },
  {
   "cell_type": "markdown",
   "metadata": {
    "colab_type": "text",
    "id": "qiAlvePC-fGx"
   },
   "source": [
    "# Load Data\n",
    "\n",
    "The Cora data set is publicly available via [this hyperlink](https://linqs.soe.ucsc.edu/data)."
   ]
  },
  {
   "cell_type": "code",
   "execution_count": 2,
   "metadata": {
    "colab": {},
    "colab_type": "code",
    "id": "-VgDFPCB-fGz",
    "outputId": "f32c8684-d31a-4d9f-c4cd-a0669669a68b"
   },
   "outputs": [
    {
     "name": "stdout",
     "output_type": "stream",
     "text": [
      "NOTE: Added action set 'sampling'.\n",
      "NOTE: Added action set 'pca'.\n",
      "NOTE: Added action set 'fedsql'.\n",
      "NOTE: Added action set 'deepLearn'.\n",
      "NOTE: Added action set 'network'.\n",
      "NOTE: Added action set 'transpose'.\n",
      "NOTE: Added action set 'table'.\n",
      "NOTE: Added action set 'builtins'.\n",
      "NOTE: Added action set 'neuralNet'.\n",
      "NOTE: Added action set 'autotune'.\n",
      "NOTE: Added action set 'session'.\n",
      "NOTE: Added action set 'decisionTree'.\n",
      "NOTE: Added action set 'aStore'.\n",
      "NOTE: Added action set 'aggregation'.\n"
     ]
    }
   ],
   "source": [
    "import document_classification_scripts as scripts\n",
    "import importlib\n",
    "importlib.reload(scripts)\n",
    "from document_classification_scripts import AttributeDict, nClasses, nWords, targetColumn, baseFeatureList\n",
    "demo = scripts.Demo(s)"
   ]
  },
  {
   "cell_type": "code",
   "execution_count": 3,
   "metadata": {
    "colab": {},
    "colab_type": "code",
    "id": "sA-ZJBEr-fG8",
    "outputId": "72384c09-969a-4763-852f-0936706af81d"
   },
   "outputs": [
    {
     "name": "stdout",
     "output_type": "stream",
     "text": [
      "NOTE: Cloud Analytic Services made the uploaded file available as table CONTENT in caslib CASUSERHDFS(brrees).\n",
      "NOTE: The table CONTENT has been created in caslib CASUSERHDFS(brrees) from binary data uploaded to Cloud Analytic Services.\n",
      "NOTE: Cloud Analytic Services made the uploaded file available as table CITES in caslib CASUSERHDFS(brrees).\n",
      "NOTE: The table CITES has been created in caslib CASUSERHDFS(brrees) from binary data uploaded to Cloud Analytic Services.\n"
     ]
    }
   ],
   "source": [
    "demo.loadRawData()"
   ]
  },
  {
   "cell_type": "markdown",
   "metadata": {
    "colab_type": "text",
    "id": "e6knt66D-fHF"
   },
   "source": [
    "# Data Preprocessing\n",
    "### Creates a custom format definition for target labels"
   ]
  },
  {
   "cell_type": "code",
   "execution_count": 4,
   "metadata": {
    "colab": {},
    "colab_type": "code",
    "id": "os8e8dBC-fHH",
    "outputId": "ad7e7aa4-41fc-4b64-97a1-72f56ce09120"
   },
   "outputs": [
    {
     "name": "stdout",
     "output_type": "stream",
     "text": [
      "NOTE: Format library MYFMTLIB added. Format search update using parameter APPEND completed.\n"
     ]
    }
   ],
   "source": [
    "demo.defineTargetVariableFormat()"
   ]
  },
  {
   "cell_type": "markdown",
   "metadata": {
    "colab_type": "text",
    "id": "ngQDNdwL-fHO"
   },
   "source": [
    "### Partitions data into training and test"
   ]
  },
  {
   "cell_type": "code",
   "execution_count": 5,
   "metadata": {
    "colab": {},
    "colab_type": "code",
    "id": "wTCcZQcf-fHQ",
    "outputId": "a6a04f83-e1be-44d6-cddc-e58544ae8431"
   },
   "outputs": [
    {
     "name": "stdout",
     "output_type": "stream",
     "text": [
      "NOTE: Cloud Analytic Services added the caslib 'cora'.\n",
      "NOTE: Cloud Analytic Services made the file contentPartitioned.sashdat available as table CONTENTPARTITIONED in caslib CASUSERHDFS(brrees).\n",
      "NOTE: Cloud Analytic Services made the file contentTrain.sashdat available as table CONTENTTRAIN in caslib CASUSERHDFS(brrees).\n",
      "NOTE: Cloud Analytic Services made the file contentTest.sashdat available as table CONTENTTEST in caslib CASUSERHDFS(brrees).\n"
     ]
    }
   ],
   "source": [
    "demo.loadOrPartitionData()"
   ]
  },
  {
   "cell_type": "markdown",
   "metadata": {
    "colab_type": "text",
    "id": "BUfEZnnf-fHV"
   },
   "source": [
    "### Performs Principal Component Analysis (PCA)"
   ]
  },
  {
   "cell_type": "code",
   "execution_count": 6,
   "metadata": {
    "colab": {},
    "colab_type": "code",
    "id": "jzYzNLgF-fHY",
    "outputId": "762c3cae-e339-4c9d-fb71-36bc416ff340",
    "scrolled": true
   },
   "outputs": [
    {
     "name": "stdout",
     "output_type": "stream",
     "text": [
      "WARNING: The variable w445 in table CONTENTTRAIN is constant.\n"
     ]
    }
   ],
   "source": [
    "nPca = 40\n",
    "demo.performPca(nPca)\n",
    "pcaFeatureList = [f\"pca{i}\" for i in range(1,nPca)]"
   ]
  },
  {
   "cell_type": "markdown",
   "metadata": {
    "colab_type": "text",
    "id": "U1KZvcEb-fHf"
   },
   "source": [
    "### Joins citations and training data targets"
   ]
  },
  {
   "cell_type": "code",
   "execution_count": 7,
   "metadata": {
    "colab": {},
    "colab_type": "code",
    "id": "GAL-yh5M-fHh",
    "outputId": "920296da-b4fe-48a6-9f28-5b2c0d9e5716"
   },
   "outputs": [
    {
     "name": "stdout",
     "output_type": "stream",
     "text": [
      "NOTE: Table CITESTRAIN was created in caslib CASUSERHDFS(brrees) with 3562 rows returned.\n",
      "NOTE: Table CITESCOMBINED was created in caslib CASUSERHDFS(brrees) with 5429 rows returned.\n"
     ]
    }
   ],
   "source": [
    "demo.joinTrainingTargets()"
   ]
  },
  {
   "cell_type": "markdown",
   "metadata": {
    "colab_type": "text",
    "id": "WrhIP2CF-fHn"
   },
   "source": [
    "## Generate Network Features"
   ]
  },
  {
   "cell_type": "code",
   "execution_count": 8,
   "metadata": {
    "colab": {},
    "colab_type": "code",
    "id": "qqih7hos-fHp"
   },
   "outputs": [],
   "source": [
    "%%capture\n",
    "networkParam=AttributeDict({\n",
    "    \"useCentrality\":True,\n",
    "    \"useNodeSimilarity\":True,\n",
    "    \"useCommunity\":True,\n",
    "    \"useCore\":True\n",
    "})\n",
    "\n",
    "tableContentNetwork, networkFeatureList = demo.addNetworkFeatures(\n",
    "    \"contentTrain\", \"citesTrain\", networkParam)\n",
    "tableContentPartitionedNetwork, networkFeatureList = demo.addNetworkFeatures(\n",
    "    \"contentPartitioned\", \"citesCombined\", networkParam)\n",
    "\n",
    "tableContentNetworkPca, networkFeatureList = demo.addNetworkFeatures(\n",
    "    \"contentTrainPca\", \"citesTrain\", networkParam)\n",
    "tableContentPartitionedNetworkPca, networkFeatureList = demo.addNetworkFeatures(\n",
    "    \"contentPartitionedPca\", \"citesCombined\", networkParam)"
   ]
  },
  {
   "cell_type": "code",
   "execution_count": 9,
   "metadata": {
    "colab": {},
    "colab_type": "code",
    "id": "AuJMg6o1-fHz",
    "outputId": "0a945c56-544b-4711-a8b7-49944317cd68"
   },
   "outputs": [
    {
     "name": "stdout",
     "output_type": "stream",
     "text": [
      "contentTestNetwork: (rows, cols) = (542, 1485)\n",
      "contentTestPcaNetwork: (rows, cols) = (542, 92)\n"
     ]
    }
   ],
   "source": [
    "s.datastep.runCode(\n",
    "    code = f\"data contentTestNetwork; set {tableContentPartitionedNetwork}(where=(partition=0)); run;\"\n",
    ")\n",
    "print(f\"contentTestNetwork: (rows, cols) = {s.CASTable('contentTestNetwork').shape}\")\n",
    "\n",
    "s.datastep.runCode(\n",
    "    code = f\"data contentTestPcaNetwork; set {tableContentPartitionedNetworkPca}(where=(partition=0)); run;\"\n",
    ")\n",
    "print(f\"contentTestPcaNetwork: (rows, cols) = {s.CASTable('contentTestPcaNetwork').shape}\")"
   ]
  },
  {
   "cell_type": "markdown",
   "metadata": {
    "colab_type": "text",
    "id": "FlenHwef-fH7"
   },
   "source": [
    "# Build Forest Classifiers\n",
    "Using the Decision Tree action set, you can train a forest model which, with default hyperparameters and baseline features, predicts poorly compared to the neural networks trained in Part 1. Significant improvements are made by adding network features to the model and finding ideal hyperparameters using the tuneForest action in the Autotune action set."
   ]
  },
  {
   "cell_type": "code",
   "execution_count": 10,
   "metadata": {
    "code_folding": [
     0,
     12,
     37
    ],
    "colab": {},
    "colab_type": "code",
    "id": "1kVTRqQD-fH9"
   },
   "outputs": [],
   "source": [
    "def trainForestModel(modelName, tableTrain, featureList, forestParam):\n",
    "    return s.decisionTree.forestTrain(\n",
    "        inputs=featureList,\n",
    "        target=targetColumn,\n",
    "        nominal={targetColumn},\n",
    "        table=tableTrain,\n",
    "        varImp=True,\n",
    "        seed=forestParam.randomSeed,\n",
    "        casOut={\"name\": modelName, \"replace\": True},\n",
    "        saveState={\"name\": f\"{modelName}AStore\", \"replace\": True}\n",
    "    )\n",
    "\n",
    "def scoreForestModel(modelName, tableTest):\n",
    "    r = s.aStore.score(\n",
    "        table=tableTest,\n",
    "        rstore=f\"{modelName}AStore\",\n",
    "        copyVars={\"node\", \"target\"},\n",
    "        casout={\"name\": f\"{modelName}Scored\", \"replace\": True}\n",
    "    )\n",
    "    s.datastep.runCode(\n",
    "        single=\"YES\",\n",
    "        code=f\"\"\"\n",
    "        data {modelName}Scores;\n",
    "           set {modelName}Scored end=_end;\n",
    "           retain correct count 0;\n",
    "           if I_target EQ target then correct = correct+1;\n",
    "           count=count+1;\n",
    "           if _end then do;\n",
    "              accuracy = correct / count;\n",
    "              misclassification = 1 - accuracy;\n",
    "              output;\n",
    "           end;\n",
    "           keep correct count accuracy misclassification;\n",
    "        run;\n",
    "     \"\"\"\n",
    "    )\n",
    "\n",
    "def bootstrapForestModel(modelName, tableTrain, tableTest, featureList, forestParam=None, n=25):\n",
    "    accuracies = []\n",
    "    for i in range(n):\n",
    "        partitionData(tableIn=tableTest, tableOut=f\"{tableTest}Part_\", table1Out=f\"{tableTest}Boot_\", table2Out=None, frac1=90, randomSeed=(i+5678), partName=\"bootstrap\")\n",
    "        trainForestModel(modelName, tableTrain, featureList, randomSeed=(12345+i), forestParam=forestParam)\n",
    "        acc = scoreForestModel(modelName, f\"{tableTest}Boot_\")\n",
    "        accuracies = accuracies + [acc]\n",
    "    print(f\"Bootstrap Accuracy = {np.mean(accuracies)} +- {np.std(accuracies)}\")\n",
    "    return accuracies"
   ]
  },
  {
   "cell_type": "markdown",
   "metadata": {
    "colab_type": "text",
    "id": "OWRJ_xKl-fIC"
   },
   "source": [
    "## Train Baseline Forest Model"
   ]
  },
  {
   "cell_type": "code",
   "execution_count": 11,
   "metadata": {
    "colab": {},
    "colab_type": "code",
    "id": "736_gIKp-fIE"
   },
   "outputs": [],
   "source": [
    "baseForestModel = \"baseForestModel\""
   ]
  },
  {
   "cell_type": "code",
   "execution_count": 12,
   "metadata": {
    "colab": {},
    "colab_type": "code",
    "id": "jaKBhgAT-fII",
    "outputId": "73638500-435c-4c79-c7bd-5ab78db0bb94"
   },
   "outputs": [
    {
     "name": "stdout",
     "output_type": "stream",
     "text": [
      "NOTE: 1274001 bytes were written to the table \"baseForestModelAStore\" in the caslib \"CASUSERHDFS(brrees)\".\n",
      "CPU times: user 31.2 ms, sys: 0 ns, total: 31.2 ms\n",
      "Wall time: 32.7 s\n"
     ]
    }
   ],
   "source": [
    "%%time\n",
    "resultsTrainBaseForest = demo.trainForestModel(\n",
    "    baseForestModel, \"contentTrain\", baseFeatureList)\n",
    "resultsTrainBaseForest['OutputCasTables']"
   ]
  },
  {
   "cell_type": "markdown",
   "metadata": {
    "colab_type": "text",
    "id": "IW4sdgcc-fIQ"
   },
   "source": [
    "### Score Baseline Forest Model"
   ]
  },
  {
   "cell_type": "code",
   "execution_count": 13,
   "metadata": {
    "colab": {},
    "colab_type": "code",
    "id": "S1ayHTDP-fIS",
    "outputId": "d7defa90-d8a2-4f11-9d12-cdcb04738b51",
    "scrolled": true
   },
   "outputs": [
    {
     "name": "stdout",
     "output_type": "stream",
     "text": [
      "Accuracy = 0.43357933579335795\n"
     ]
    }
   ],
   "source": [
    "resultsScoreBaseForest=demo.scoreForestModel(baseForestModel,\"contentTest\")"
   ]
  },
  {
   "cell_type": "markdown",
   "metadata": {
    "colab_type": "text",
    "id": "ovCYwYiE-fIX"
   },
   "source": [
    "### Bootstrap Runs"
   ]
  },
  {
   "cell_type": "code",
   "execution_count": 14,
   "metadata": {
    "colab": {},
    "colab_type": "code",
    "id": "6EJsoRaG-fIa",
    "outputId": "3bdcb949-1657-473e-8be2-1e87a2abb29b"
   },
   "outputs": [
    {
     "name": "stdout",
     "output_type": "stream",
     "text": [
      "NOTE: Simple Random Sampling is in effect.\n",
      "NOTE: Using SEED=5678 for sampling.\n",
      "NOTE: 1274001 bytes were written to the table \"baseForestModelAStore\" in the caslib \"CASUSERHDFS(brrees)\".\n",
      "Accuracy = 0.4385245901639344\n",
      "NOTE: Simple Random Sampling is in effect.\n",
      "NOTE: Using SEED=5679 for sampling.\n",
      "NOTE: 1267373 bytes were written to the table \"baseForestModelAStore\" in the caslib \"CASUSERHDFS(brrees)\".\n",
      "Accuracy = 0.4139344262295082\n",
      "NOTE: Simple Random Sampling is in effect.\n",
      "NOTE: Using SEED=5680 for sampling.\n",
      "NOTE: 1269965 bytes were written to the table \"baseForestModelAStore\" in the caslib \"CASUSERHDFS(brrees)\".\n",
      "Accuracy = 0.4323770491803279\n",
      "NOTE: Simple Random Sampling is in effect.\n",
      "NOTE: Using SEED=5681 for sampling.\n",
      "NOTE: 1270045 bytes were written to the table \"baseForestModelAStore\" in the caslib \"CASUSERHDFS(brrees)\".\n",
      "Accuracy = 0.41598360655737704\n",
      "NOTE: Simple Random Sampling is in effect.\n",
      "NOTE: Using SEED=5682 for sampling.\n",
      "NOTE: 1272049 bytes were written to the table \"baseForestModelAStore\" in the caslib \"CASUSERHDFS(brrees)\".\n",
      "Accuracy = 0.4139344262295082\n",
      "NOTE: Simple Random Sampling is in effect.\n",
      "NOTE: Using SEED=5683 for sampling.\n",
      "NOTE: 1267069 bytes were written to the table \"baseForestModelAStore\" in the caslib \"CASUSERHDFS(brrees)\".\n",
      "Accuracy = 0.4180327868852459\n",
      "NOTE: Simple Random Sampling is in effect.\n",
      "NOTE: Using SEED=5684 for sampling.\n",
      "NOTE: 1269237 bytes were written to the table \"baseForestModelAStore\" in the caslib \"CASUSERHDFS(brrees)\".\n",
      "Accuracy = 0.42827868852459017\n",
      "NOTE: Simple Random Sampling is in effect.\n",
      "NOTE: Using SEED=5685 for sampling.\n",
      "NOTE: 1267757 bytes were written to the table \"baseForestModelAStore\" in the caslib \"CASUSERHDFS(brrees)\".\n",
      "Accuracy = 0.4139344262295082\n",
      "NOTE: Simple Random Sampling is in effect.\n",
      "NOTE: Using SEED=5686 for sampling.\n",
      "NOTE: 1271341 bytes were written to the table \"baseForestModelAStore\" in the caslib \"CASUSERHDFS(brrees)\".\n",
      "Accuracy = 0.42827868852459017\n",
      "NOTE: Simple Random Sampling is in effect.\n",
      "NOTE: Using SEED=5687 for sampling.\n",
      "NOTE: 1265069 bytes were written to the table \"baseForestModelAStore\" in the caslib \"CASUSERHDFS(brrees)\".\n",
      "Accuracy = 0.4364754098360656\n",
      "NOTE: Simple Random Sampling is in effect.\n",
      "NOTE: Using SEED=5688 for sampling.\n",
      "NOTE: 1267693 bytes were written to the table \"baseForestModelAStore\" in the caslib \"CASUSERHDFS(brrees)\".\n",
      "Accuracy = 0.42213114754098363\n",
      "NOTE: Simple Random Sampling is in effect.\n",
      "NOTE: Using SEED=5689 for sampling.\n",
      "NOTE: 1271025 bytes were written to the table \"baseForestModelAStore\" in the caslib \"CASUSERHDFS(brrees)\".\n",
      "Accuracy = 0.4323770491803279\n",
      "NOTE: Simple Random Sampling is in effect.\n",
      "NOTE: Using SEED=5690 for sampling.\n",
      "NOTE: 1274413 bytes were written to the table \"baseForestModelAStore\" in the caslib \"CASUSERHDFS(brrees)\".\n",
      "Accuracy = 0.4385245901639344\n",
      "NOTE: Simple Random Sampling is in effect.\n",
      "NOTE: Using SEED=5691 for sampling.\n",
      "NOTE: 1270173 bytes were written to the table \"baseForestModelAStore\" in the caslib \"CASUSERHDFS(brrees)\".\n",
      "Accuracy = 0.4344262295081967\n",
      "NOTE: Simple Random Sampling is in effect.\n",
      "NOTE: Using SEED=5692 for sampling.\n",
      "NOTE: 1272985 bytes were written to the table \"baseForestModelAStore\" in the caslib \"CASUSERHDFS(brrees)\".\n",
      "Accuracy = 0.4364754098360656\n",
      "NOTE: Simple Random Sampling is in effect.\n",
      "NOTE: Using SEED=5693 for sampling.\n",
      "NOTE: 1273749 bytes were written to the table \"baseForestModelAStore\" in the caslib \"CASUSERHDFS(brrees)\".\n",
      "Accuracy = 0.45081967213114754\n",
      "NOTE: Simple Random Sampling is in effect.\n",
      "NOTE: Using SEED=5694 for sampling.\n",
      "NOTE: 1278769 bytes were written to the table \"baseForestModelAStore\" in the caslib \"CASUSERHDFS(brrees)\".\n",
      "Accuracy = 0.42418032786885246\n",
      "NOTE: Simple Random Sampling is in effect.\n",
      "NOTE: Using SEED=5695 for sampling.\n",
      "NOTE: 1280669 bytes were written to the table \"baseForestModelAStore\" in the caslib \"CASUSERHDFS(brrees)\".\n",
      "Accuracy = 0.42418032786885246\n",
      "NOTE: Simple Random Sampling is in effect.\n",
      "NOTE: Using SEED=5696 for sampling.\n",
      "NOTE: 1282001 bytes were written to the table \"baseForestModelAStore\" in the caslib \"CASUSERHDFS(brrees)\".\n",
      "Accuracy = 0.4385245901639344\n",
      "NOTE: Simple Random Sampling is in effect.\n",
      "NOTE: Using SEED=5697 for sampling.\n",
      "NOTE: 1282813 bytes were written to the table \"baseForestModelAStore\" in the caslib \"CASUSERHDFS(brrees)\".\n",
      "Accuracy = 0.46311475409836067\n",
      "NOTE: Simple Random Sampling is in effect.\n",
      "NOTE: Using SEED=5698 for sampling.\n",
      "NOTE: 1279265 bytes were written to the table \"baseForestModelAStore\" in the caslib \"CASUSERHDFS(brrees)\".\n",
      "Accuracy = 0.4651639344262295\n",
      "NOTE: Simple Random Sampling is in effect.\n",
      "NOTE: Using SEED=5699 for sampling.\n",
      "NOTE: 1277485 bytes were written to the table \"baseForestModelAStore\" in the caslib \"CASUSERHDFS(brrees)\".\n",
      "Accuracy = 0.444672131147541\n",
      "NOTE: Simple Random Sampling is in effect.\n",
      "NOTE: Using SEED=5700 for sampling.\n",
      "NOTE: 1281409 bytes were written to the table \"baseForestModelAStore\" in the caslib \"CASUSERHDFS(brrees)\".\n",
      "Accuracy = 0.4487704918032787\n",
      "NOTE: Simple Random Sampling is in effect.\n",
      "NOTE: Using SEED=5701 for sampling.\n",
      "NOTE: 1281797 bytes were written to the table \"baseForestModelAStore\" in the caslib \"CASUSERHDFS(brrees)\".\n",
      "Accuracy = 0.4364754098360656\n",
      "NOTE: Simple Random Sampling is in effect.\n",
      "NOTE: Using SEED=5702 for sampling.\n",
      "NOTE: 1277409 bytes were written to the table \"baseForestModelAStore\" in the caslib \"CASUSERHDFS(brrees)\".\n",
      "Accuracy = 0.4405737704918033\n",
      "Bootstrap Accuracy = 0.4336065573770492 +- 0.013776833044239023\n",
      "CPU times: user 4.75 s, sys: 234 ms, total: 4.98 s\n",
      "Wall time: 14min 6s\n"
     ]
    }
   ],
   "source": [
    "%%time\n",
    "accuracies = demo.bootstrapForestModel(baseForestModel,\"contentTrain\",\n",
    "                          \"contentTest\",\n",
    "                          baseFeatureList);"
   ]
  },
  {
   "cell_type": "markdown",
   "metadata": {
    "colab_type": "text",
    "id": "Yh5mempy-fIf"
   },
   "source": [
    "## Train PCA Forest Model"
   ]
  },
  {
   "cell_type": "code",
   "execution_count": 15,
   "metadata": {
    "colab": {},
    "colab_type": "code",
    "id": "rueNrE9k-fIg"
   },
   "outputs": [],
   "source": [
    "pcaForestModel = \"pcaForestModel\"\n",
    "pcaFeatureList = [f\"pca{i}\" for i in range(1,nPca)]"
   ]
  },
  {
   "cell_type": "code",
   "execution_count": 16,
   "metadata": {
    "colab": {},
    "colab_type": "code",
    "id": "9JLiTg60-fIm",
    "outputId": "8d43957c-7b3d-4cf7-bd22-fccabd8a31ed"
   },
   "outputs": [
    {
     "name": "stdout",
     "output_type": "stream",
     "text": [
      "NOTE: 1158292 bytes were written to the table \"pcaForestModelAStore\" in the caslib \"CASUSERHDFS(brrees)\".\n",
      "CPU times: user 15.6 ms, sys: 0 ns, total: 15.6 ms\n",
      "Wall time: 2.08 s\n"
     ]
    }
   ],
   "source": [
    "%%time\n",
    "resultsTrainPcaForest = demo.trainForestModel(\n",
    "    pcaForestModel, \"contentTrainPca\", pcaFeatureList)\n",
    "resultsTrainPcaForest['OutputCasTables']"
   ]
  },
  {
   "cell_type": "markdown",
   "metadata": {
    "colab_type": "text",
    "id": "sUwiA5US-fIq"
   },
   "source": [
    "### Score PCA Forest Model"
   ]
  },
  {
   "cell_type": "code",
   "execution_count": 17,
   "metadata": {
    "colab": {},
    "colab_type": "code",
    "id": "HzEcL5jl-fIs",
    "outputId": "fa3fce8f-d58c-4b08-ce81-2e3586c7c95b",
    "scrolled": false
   },
   "outputs": [
    {
     "name": "stdout",
     "output_type": "stream",
     "text": [
      "Accuracy = 0.44095940959409596\n"
     ]
    }
   ],
   "source": [
    "resultsScorePcaForest=demo.scoreForestModel(pcaForestModel,\"contentTestPca\")"
   ]
  },
  {
   "cell_type": "markdown",
   "metadata": {
    "colab_type": "text",
    "id": "iJtKzEzP-fIx"
   },
   "source": [
    "### Bootstrap Runs"
   ]
  },
  {
   "cell_type": "code",
   "execution_count": 18,
   "metadata": {
    "colab": {},
    "colab_type": "code",
    "id": "m_rSmJqq-fIy",
    "outputId": "70562597-4614-4f4f-ad6d-2db122f64b26"
   },
   "outputs": [
    {
     "name": "stdout",
     "output_type": "stream",
     "text": [
      "NOTE: Simple Random Sampling is in effect.\n",
      "NOTE: Using SEED=5678 for sampling.\n",
      "NOTE: 1158292 bytes were written to the table \"pcaForestModelAStore\" in the caslib \"CASUSERHDFS(brrees)\".\n",
      "Accuracy = 0.4385245901639344\n",
      "NOTE: Simple Random Sampling is in effect.\n",
      "NOTE: Using SEED=5679 for sampling.\n",
      "NOTE: 1153612 bytes were written to the table \"pcaForestModelAStore\" in the caslib \"CASUSERHDFS(brrees)\".\n",
      "Accuracy = 0.4180327868852459\n",
      "NOTE: Simple Random Sampling is in effect.\n",
      "NOTE: Using SEED=5680 for sampling.\n",
      "NOTE: 1153708 bytes were written to the table \"pcaForestModelAStore\" in the caslib \"CASUSERHDFS(brrees)\".\n",
      "Accuracy = 0.41598360655737704\n",
      "NOTE: Simple Random Sampling is in effect.\n",
      "NOTE: Using SEED=5681 for sampling.\n",
      "NOTE: 1155204 bytes were written to the table \"pcaForestModelAStore\" in the caslib \"CASUSERHDFS(brrees)\".\n",
      "Accuracy = 0.4385245901639344\n",
      "NOTE: Simple Random Sampling is in effect.\n",
      "NOTE: Using SEED=5682 for sampling.\n",
      "NOTE: 1155108 bytes were written to the table \"pcaForestModelAStore\" in the caslib \"CASUSERHDFS(brrees)\".\n",
      "Accuracy = 0.4323770491803279\n",
      "NOTE: Simple Random Sampling is in effect.\n",
      "NOTE: Using SEED=5683 for sampling.\n",
      "NOTE: 1153500 bytes were written to the table \"pcaForestModelAStore\" in the caslib \"CASUSERHDFS(brrees)\".\n",
      "Accuracy = 0.4405737704918033\n",
      "NOTE: Simple Random Sampling is in effect.\n",
      "NOTE: Using SEED=5684 for sampling.\n",
      "NOTE: 1145668 bytes were written to the table \"pcaForestModelAStore\" in the caslib \"CASUSERHDFS(brrees)\".\n",
      "Accuracy = 0.430327868852459\n",
      "NOTE: Simple Random Sampling is in effect.\n",
      "NOTE: Using SEED=5685 for sampling.\n",
      "NOTE: 1139412 bytes were written to the table \"pcaForestModelAStore\" in the caslib \"CASUSERHDFS(brrees)\".\n",
      "Accuracy = 0.4344262295081967\n",
      "NOTE: Simple Random Sampling is in effect.\n",
      "NOTE: Using SEED=5686 for sampling.\n",
      "NOTE: 1137788 bytes were written to the table \"pcaForestModelAStore\" in the caslib \"CASUSERHDFS(brrees)\".\n",
      "Accuracy = 0.4262295081967213\n",
      "NOTE: Simple Random Sampling is in effect.\n",
      "NOTE: Using SEED=5687 for sampling.\n",
      "NOTE: 1142484 bytes were written to the table \"pcaForestModelAStore\" in the caslib \"CASUSERHDFS(brrees)\".\n",
      "Accuracy = 0.430327868852459\n",
      "NOTE: Simple Random Sampling is in effect.\n",
      "NOTE: Using SEED=5688 for sampling.\n",
      "NOTE: 1140956 bytes were written to the table \"pcaForestModelAStore\" in the caslib \"CASUSERHDFS(brrees)\".\n",
      "Accuracy = 0.45081967213114754\n",
      "NOTE: Simple Random Sampling is in effect.\n",
      "NOTE: Using SEED=5689 for sampling.\n",
      "NOTE: 1139428 bytes were written to the table \"pcaForestModelAStore\" in the caslib \"CASUSERHDFS(brrees)\".\n",
      "Accuracy = 0.430327868852459\n",
      "NOTE: Simple Random Sampling is in effect.\n",
      "NOTE: Using SEED=5690 for sampling.\n",
      "NOTE: 1145748 bytes were written to the table \"pcaForestModelAStore\" in the caslib \"CASUSERHDFS(brrees)\".\n",
      "Accuracy = 0.4569672131147541\n",
      "NOTE: Simple Random Sampling is in effect.\n",
      "NOTE: Using SEED=5691 for sampling.\n",
      "NOTE: 1148884 bytes were written to the table \"pcaForestModelAStore\" in the caslib \"CASUSERHDFS(brrees)\".\n",
      "Accuracy = 0.44672131147540983\n",
      "NOTE: Simple Random Sampling is in effect.\n",
      "NOTE: Using SEED=5692 for sampling.\n",
      "NOTE: 1158436 bytes were written to the table \"pcaForestModelAStore\" in the caslib \"CASUSERHDFS(brrees)\".\n",
      "Accuracy = 0.444672131147541\n",
      "NOTE: Simple Random Sampling is in effect.\n",
      "NOTE: Using SEED=5693 for sampling.\n",
      "NOTE: 1163244 bytes were written to the table \"pcaForestModelAStore\" in the caslib \"CASUSERHDFS(brrees)\".\n",
      "Accuracy = 0.46311475409836067\n",
      "NOTE: Simple Random Sampling is in effect.\n",
      "NOTE: Using SEED=5694 for sampling.\n",
      "NOTE: 1164820 bytes were written to the table \"pcaForestModelAStore\" in the caslib \"CASUSERHDFS(brrees)\".\n",
      "Accuracy = 0.4569672131147541\n",
      "NOTE: Simple Random Sampling is in effect.\n",
      "NOTE: Using SEED=5695 for sampling.\n",
      "NOTE: 1167908 bytes were written to the table \"pcaForestModelAStore\" in the caslib \"CASUSERHDFS(brrees)\".\n",
      "Accuracy = 0.4651639344262295\n",
      "NOTE: Simple Random Sampling is in effect.\n",
      "NOTE: Using SEED=5696 for sampling.\n",
      "NOTE: 1158516 bytes were written to the table \"pcaForestModelAStore\" in the caslib \"CASUSERHDFS(brrees)\".\n",
      "Accuracy = 0.4692622950819672\n",
      "NOTE: Simple Random Sampling is in effect.\n",
      "NOTE: Using SEED=5697 for sampling.\n",
      "NOTE: 1155348 bytes were written to the table \"pcaForestModelAStore\" in the caslib \"CASUSERHDFS(brrees)\".\n",
      "Accuracy = 0.4610655737704918\n",
      "NOTE: Simple Random Sampling is in effect.\n",
      "NOTE: Using SEED=5698 for sampling.\n",
      "NOTE: 1159980 bytes were written to the table \"pcaForestModelAStore\" in the caslib \"CASUSERHDFS(brrees)\".\n",
      "Accuracy = 0.4651639344262295\n",
      "NOTE: Simple Random Sampling is in effect.\n",
      "NOTE: Using SEED=5699 for sampling.\n",
      "NOTE: 1152164 bytes were written to the table \"pcaForestModelAStore\" in the caslib \"CASUSERHDFS(brrees)\".\n",
      "Accuracy = 0.4610655737704918\n",
      "NOTE: Simple Random Sampling is in effect.\n",
      "NOTE: Using SEED=5700 for sampling.\n",
      "NOTE: 1141052 bytes were written to the table \"pcaForestModelAStore\" in the caslib \"CASUSERHDFS(brrees)\".\n",
      "Accuracy = 0.4713114754098361\n",
      "NOTE: Simple Random Sampling is in effect.\n",
      "NOTE: Using SEED=5701 for sampling.\n",
      "NOTE: 1139332 bytes were written to the table \"pcaForestModelAStore\" in the caslib \"CASUSERHDFS(brrees)\".\n",
      "Accuracy = 0.45081967213114754\n",
      "NOTE: Simple Random Sampling is in effect.\n",
      "NOTE: Using SEED=5702 for sampling.\n",
      "NOTE: 1145556 bytes were written to the table \"pcaForestModelAStore\" in the caslib \"CASUSERHDFS(brrees)\".\n",
      "Accuracy = 0.4426229508196721\n",
      "Bootstrap Accuracy = 0.445655737704918 +- 0.015789276839086614\n",
      "CPU times: user 4.05 s, sys: 219 ms, total: 4.27 s\n",
      "Wall time: 1min 21s\n"
     ]
    }
   ],
   "source": [
    "%%time\n",
    "accuracies = demo.bootstrapForestModel(pcaForestModel,\"contentTrainPca\",\n",
    "                          \"contentTestPca\",\n",
    "                          pcaFeatureList);"
   ]
  },
  {
   "cell_type": "markdown",
   "metadata": {
    "colab_type": "text",
    "id": "LqeImlCu-fI2"
   },
   "source": [
    "## Train Network-Features-Only Forest Model"
   ]
  },
  {
   "cell_type": "code",
   "execution_count": 19,
   "metadata": {
    "colab": {},
    "colab_type": "code",
    "id": "JTXjbrdv-fI5"
   },
   "outputs": [],
   "source": [
    "networkForestModel = \"networkForestModel\""
   ]
  },
  {
   "cell_type": "code",
   "execution_count": 20,
   "metadata": {
    "colab": {},
    "colab_type": "code",
    "id": "mRU9Gaga-fI9",
    "outputId": "e3a1445c-4fbb-469a-e72e-8b2e3aae5dba"
   },
   "outputs": [
    {
     "name": "stdout",
     "output_type": "stream",
     "text": [
      "NOTE: 1366499 bytes were written to the table \"networkForestModelAStore\" in the caslib \"CASUSERHDFS(brrees)\".\n",
      "CPU times: user 31.2 ms, sys: 0 ns, total: 31.2 ms\n",
      "Wall time: 2.55 s\n"
     ]
    }
   ],
   "source": [
    "%%time\n",
    "resultsTrainNetworkForest = demo.trainForestModel(\n",
    "    networkForestModel, \"contentTrainNetwork\", networkFeatureList)\n",
    "resultsTrainNetworkForest['OutputCasTables']"
   ]
  },
  {
   "cell_type": "markdown",
   "metadata": {
    "colab_type": "text",
    "id": "wzFM35_N-fJB"
   },
   "source": [
    "### Score Network-Features-Only Forest Model"
   ]
  },
  {
   "cell_type": "code",
   "execution_count": 21,
   "metadata": {
    "colab": {},
    "colab_type": "code",
    "id": "gyZ3wmJ_-fJB",
    "outputId": "9d21547c-4da8-423a-d6bc-232c40160356",
    "scrolled": false
   },
   "outputs": [
    {
     "name": "stdout",
     "output_type": "stream",
     "text": [
      "Accuracy = 0.8081180811808119\n"
     ]
    }
   ],
   "source": [
    "resultsScoreNetworkForest=demo.scoreForestModel(networkForestModel,\"contentTestPcaNetwork\")"
   ]
  },
  {
   "cell_type": "markdown",
   "metadata": {
    "colab_type": "text",
    "id": "osIURXah-fJG"
   },
   "source": [
    "### Bootstrap Runs"
   ]
  },
  {
   "cell_type": "code",
   "execution_count": 22,
   "metadata": {
    "colab": {},
    "colab_type": "code",
    "id": "UN-UIv6c-fJH",
    "outputId": "d05165c5-1909-4940-d6c5-1de3488c535a"
   },
   "outputs": [
    {
     "name": "stdout",
     "output_type": "stream",
     "text": [
      "NOTE: Simple Random Sampling is in effect.\n",
      "NOTE: Using SEED=5678 for sampling.\n",
      "NOTE: 1366499 bytes were written to the table \"networkForestModelAStore\" in the caslib \"CASUSERHDFS(brrees)\".\n",
      "Accuracy = 0.8114754098360656\n",
      "NOTE: Simple Random Sampling is in effect.\n",
      "NOTE: Using SEED=5679 for sampling.\n",
      "NOTE: 1355451 bytes were written to the table \"networkForestModelAStore\" in the caslib \"CASUSERHDFS(brrees)\".\n",
      "Accuracy = 0.805327868852459\n",
      "NOTE: Simple Random Sampling is in effect.\n",
      "NOTE: Using SEED=5680 for sampling.\n",
      "NOTE: 1352235 bytes were written to the table \"networkForestModelAStore\" in the caslib \"CASUSERHDFS(brrees)\".\n",
      "Accuracy = 0.7991803278688525\n",
      "NOTE: Simple Random Sampling is in effect.\n",
      "NOTE: Using SEED=5681 for sampling.\n",
      "NOTE: 1352267 bytes were written to the table \"networkForestModelAStore\" in the caslib \"CASUSERHDFS(brrees)\".\n",
      "Accuracy = 0.8012295081967213\n",
      "NOTE: Simple Random Sampling is in effect.\n",
      "NOTE: Using SEED=5682 for sampling.\n",
      "NOTE: 1353875 bytes were written to the table \"networkForestModelAStore\" in the caslib \"CASUSERHDFS(brrees)\".\n",
      "Accuracy = 0.7971311475409836\n",
      "NOTE: Simple Random Sampling is in effect.\n",
      "NOTE: Using SEED=5683 for sampling.\n",
      "NOTE: 1355419 bytes were written to the table \"networkForestModelAStore\" in the caslib \"CASUSERHDFS(brrees)\".\n",
      "Accuracy = 0.8073770491803278\n",
      "NOTE: Simple Random Sampling is in effect.\n",
      "NOTE: Using SEED=5684 for sampling.\n",
      "NOTE: 1368011 bytes were written to the table \"networkForestModelAStore\" in the caslib \"CASUSERHDFS(brrees)\".\n",
      "Accuracy = 0.8012295081967213\n",
      "NOTE: Simple Random Sampling is in effect.\n",
      "NOTE: Using SEED=5685 for sampling.\n",
      "NOTE: 1366435 bytes were written to the table \"networkForestModelAStore\" in the caslib \"CASUSERHDFS(brrees)\".\n",
      "Accuracy = 0.8094262295081968\n",
      "NOTE: Simple Random Sampling is in effect.\n",
      "NOTE: Using SEED=5686 for sampling.\n",
      "NOTE: 1353859 bytes were written to the table \"networkForestModelAStore\" in the caslib \"CASUSERHDFS(brrees)\".\n",
      "Accuracy = 0.8012295081967213\n",
      "NOTE: Simple Random Sampling is in effect.\n",
      "NOTE: Using SEED=5687 for sampling.\n",
      "NOTE: 1353827 bytes were written to the table \"networkForestModelAStore\" in the caslib \"CASUSERHDFS(brrees)\".\n",
      "Accuracy = 0.7971311475409836\n",
      "NOTE: Simple Random Sampling is in effect.\n",
      "NOTE: Using SEED=5688 for sampling.\n",
      "NOTE: 1350659 bytes were written to the table \"networkForestModelAStore\" in the caslib \"CASUSERHDFS(brrees)\".\n",
      "Accuracy = 0.7971311475409836\n",
      "NOTE: Simple Random Sampling is in effect.\n",
      "NOTE: Using SEED=5689 for sampling.\n",
      "NOTE: 1350627 bytes were written to the table \"networkForestModelAStore\" in the caslib \"CASUSERHDFS(brrees)\".\n",
      "Accuracy = 0.8094262295081968\n",
      "NOTE: Simple Random Sampling is in effect.\n",
      "NOTE: Using SEED=5690 for sampling.\n",
      "NOTE: 1344227 bytes were written to the table \"networkForestModelAStore\" in the caslib \"CASUSERHDFS(brrees)\".\n",
      "Accuracy = 0.8032786885245902\n",
      "NOTE: Simple Random Sampling is in effect.\n",
      "NOTE: Using SEED=5691 for sampling.\n",
      "NOTE: 1345771 bytes were written to the table \"networkForestModelAStore\" in the caslib \"CASUSERHDFS(brrees)\".\n",
      "Accuracy = 0.8073770491803278\n",
      "NOTE: Simple Random Sampling is in effect.\n",
      "NOTE: Using SEED=5692 for sampling.\n",
      "NOTE: 1342635 bytes were written to the table \"networkForestModelAStore\" in the caslib \"CASUSERHDFS(brrees)\".\n",
      "Accuracy = 0.8032786885245902\n",
      "NOTE: Simple Random Sampling is in effect.\n",
      "NOTE: Using SEED=5693 for sampling.\n",
      "NOTE: 1358427 bytes were written to the table \"networkForestModelAStore\" in the caslib \"CASUSERHDFS(brrees)\".\n",
      "Accuracy = 0.8032786885245902\n",
      "NOTE: Simple Random Sampling is in effect.\n",
      "NOTE: Using SEED=5694 for sampling.\n",
      "NOTE: 1353651 bytes were written to the table \"networkForestModelAStore\" in the caslib \"CASUSERHDFS(brrees)\".\n",
      "Accuracy = 0.8073770491803278\n",
      "NOTE: Simple Random Sampling is in effect.\n",
      "NOTE: Using SEED=5695 for sampling.\n",
      "NOTE: 1350499 bytes were written to the table \"networkForestModelAStore\" in the caslib \"CASUSERHDFS(brrees)\".\n",
      "Accuracy = 0.8032786885245902\n",
      "NOTE: Simple Random Sampling is in effect.\n",
      "NOTE: Using SEED=5696 for sampling.\n",
      "NOTE: 1350579 bytes were written to the table \"networkForestModelAStore\" in the caslib \"CASUSERHDFS(brrees)\".\n",
      "Accuracy = 0.8155737704918032\n",
      "NOTE: Simple Random Sampling is in effect.\n",
      "NOTE: Using SEED=5697 for sampling.\n",
      "NOTE: 1350579 bytes were written to the table \"networkForestModelAStore\" in the caslib \"CASUSERHDFS(brrees)\".\n",
      "Accuracy = 0.805327868852459\n",
      "NOTE: Simple Random Sampling is in effect.\n",
      "NOTE: Using SEED=5698 for sampling.\n",
      "NOTE: 1353699 bytes were written to the table \"networkForestModelAStore\" in the caslib \"CASUSERHDFS(brrees)\".\n",
      "Accuracy = 0.805327868852459\n",
      "NOTE: Simple Random Sampling is in effect.\n",
      "NOTE: Using SEED=5699 for sampling.\n",
      "NOTE: 1353875 bytes were written to the table \"networkForestModelAStore\" in the caslib \"CASUSERHDFS(brrees)\".\n",
      "Accuracy = 0.8135245901639344\n",
      "NOTE: Simple Random Sampling is in effect.\n",
      "NOTE: Using SEED=5700 for sampling.\n",
      "NOTE: 1364875 bytes were written to the table \"networkForestModelAStore\" in the caslib \"CASUSERHDFS(brrees)\".\n",
      "Accuracy = 0.8176229508196722\n",
      "NOTE: Simple Random Sampling is in effect.\n",
      "NOTE: Using SEED=5701 for sampling.\n",
      "NOTE: 1363283 bytes were written to the table \"networkForestModelAStore\" in the caslib \"CASUSERHDFS(brrees)\".\n",
      "Accuracy = 0.805327868852459\n",
      "NOTE: Simple Random Sampling is in effect.\n",
      "NOTE: Using SEED=5702 for sampling.\n",
      "NOTE: 1360211 bytes were written to the table \"networkForestModelAStore\" in the caslib \"CASUSERHDFS(brrees)\".\n",
      "Accuracy = 0.8135245901639344\n",
      "Bootstrap Accuracy = 0.8056557377049178 +- 0.005579794237743446\n",
      "CPU times: user 3.58 s, sys: 281 ms, total: 3.86 s\n",
      "Wall time: 2min 20s\n"
     ]
    }
   ],
   "source": [
    "%%time\n",
    "accuracies = demo.bootstrapForestModel(networkForestModel,\"contentTrainNetwork\",\n",
    "                          \"contentTestNetwork\",\n",
    "                          networkFeatureList);"
   ]
  },
  {
   "cell_type": "markdown",
   "metadata": {
    "colab_type": "text",
    "id": "qxlLFlUe-fJL"
   },
   "source": [
    "## Train Baseline+Network Features Forest Model"
   ]
  },
  {
   "cell_type": "code",
   "execution_count": 23,
   "metadata": {
    "colab": {},
    "colab_type": "code",
    "id": "guhHxD0L-fJN"
   },
   "outputs": [],
   "source": [
    "networkBaseForestModel = \"networkBaseForestModel\""
   ]
  },
  {
   "cell_type": "code",
   "execution_count": 24,
   "metadata": {
    "colab": {},
    "colab_type": "code",
    "id": "lFDoWcnY-fJR",
    "outputId": "32cf26a6-5342-4f7f-fce4-605dffd9e25c"
   },
   "outputs": [
    {
     "name": "stdout",
     "output_type": "stream",
     "text": [
      "NOTE: 1608867 bytes were written to the table \"networkBaseForestModelAStore\" in the caslib \"CASUSERHDFS(brrees)\".\n",
      "CPU times: user 46.9 ms, sys: 0 ns, total: 46.9 ms\n",
      "Wall time: 34.5 s\n"
     ]
    }
   ],
   "source": [
    "%%time\n",
    "resultsTrainNetworkBaseForest = demo.trainForestModel(\n",
    "    networkBaseForestModel, \"contentTrainNetwork\", baseFeatureList+networkFeatureList)\n",
    "resultsTrainNetworkBaseForest['OutputCasTables']"
   ]
  },
  {
   "cell_type": "markdown",
   "metadata": {
    "colab_type": "text",
    "id": "gs00g3zT-fJU"
   },
   "source": [
    "### Score Baseline+Network Forest Model"
   ]
  },
  {
   "cell_type": "code",
   "execution_count": 25,
   "metadata": {
    "colab": {},
    "colab_type": "code",
    "id": "t6epVePc-fJV",
    "outputId": "bf30d8b1-00ca-4791-cbb1-f4c848923b85",
    "scrolled": true
   },
   "outputs": [
    {
     "name": "stdout",
     "output_type": "stream",
     "text": [
      "Accuracy = 0.7416974169741697\n"
     ]
    }
   ],
   "source": [
    "resultsScoreNetworkBaseForest=demo.scoreForestModel(networkBaseForestModel,\"contentTestNetwork\")"
   ]
  },
  {
   "cell_type": "markdown",
   "metadata": {
    "colab_type": "text",
    "id": "WsN5yp85-fJZ"
   },
   "source": [
    "### Bootstrap Runs"
   ]
  },
  {
   "cell_type": "code",
   "execution_count": 26,
   "metadata": {
    "colab": {},
    "colab_type": "code",
    "id": "yzR4dP5v-fJb",
    "outputId": "3f85926c-f39b-4fea-8030-75505608b6fb"
   },
   "outputs": [
    {
     "name": "stdout",
     "output_type": "stream",
     "text": [
      "NOTE: Simple Random Sampling is in effect.\n",
      "NOTE: Using SEED=5678 for sampling.\n",
      "NOTE: 1608867 bytes were written to the table \"networkBaseForestModelAStore\" in the caslib \"CASUSERHDFS(brrees)\".\n",
      "Accuracy = 0.7459016393442623\n",
      "NOTE: Simple Random Sampling is in effect.\n",
      "NOTE: Using SEED=5679 for sampling.\n",
      "NOTE: 1615683 bytes were written to the table \"networkBaseForestModelAStore\" in the caslib \"CASUSERHDFS(brrees)\".\n",
      "Accuracy = 0.7418032786885246\n",
      "NOTE: Simple Random Sampling is in effect.\n",
      "NOTE: Using SEED=5680 for sampling.\n",
      "NOTE: 1616983 bytes were written to the table \"networkBaseForestModelAStore\" in the caslib \"CASUSERHDFS(brrees)\".\n",
      "Accuracy = 0.7295081967213115\n",
      "NOTE: Simple Random Sampling is in effect.\n",
      "NOTE: Using SEED=5681 for sampling.\n",
      "NOTE: 1612143 bytes were written to the table \"networkBaseForestModelAStore\" in the caslib \"CASUSERHDFS(brrees)\".\n",
      "Accuracy = 0.7295081967213115\n",
      "NOTE: Simple Random Sampling is in effect.\n",
      "NOTE: Using SEED=5682 for sampling.\n",
      "NOTE: 1614167 bytes were written to the table \"networkBaseForestModelAStore\" in the caslib \"CASUSERHDFS(brrees)\".\n",
      "Accuracy = 0.7254098360655737\n",
      "NOTE: Simple Random Sampling is in effect.\n",
      "NOTE: Using SEED=5683 for sampling.\n",
      "NOTE: 1605679 bytes were written to the table \"networkBaseForestModelAStore\" in the caslib \"CASUSERHDFS(brrees)\".\n",
      "Accuracy = 0.7418032786885246\n",
      "NOTE: Simple Random Sampling is in effect.\n",
      "NOTE: Using SEED=5684 for sampling.\n",
      "NOTE: 1617823 bytes were written to the table \"networkBaseForestModelAStore\" in the caslib \"CASUSERHDFS(brrees)\".\n",
      "Accuracy = 0.7233606557377049\n",
      "NOTE: Simple Random Sampling is in effect.\n",
      "NOTE: Using SEED=5685 for sampling.\n",
      "NOTE: 1617687 bytes were written to the table \"networkBaseForestModelAStore\" in the caslib \"CASUSERHDFS(brrees)\".\n",
      "Accuracy = 0.7233606557377049\n",
      "NOTE: Simple Random Sampling is in effect.\n",
      "NOTE: Using SEED=5686 for sampling.\n",
      "NOTE: 1612895 bytes were written to the table \"networkBaseForestModelAStore\" in the caslib \"CASUSERHDFS(brrees)\".\n",
      "Accuracy = 0.7192622950819673\n",
      "NOTE: Simple Random Sampling is in effect.\n",
      "NOTE: Using SEED=5687 for sampling.\n",
      "NOTE: 1609783 bytes were written to the table \"networkBaseForestModelAStore\" in the caslib \"CASUSERHDFS(brrees)\".\n",
      "Accuracy = 0.7110655737704918\n",
      "NOTE: Simple Random Sampling is in effect.\n",
      "NOTE: Using SEED=5688 for sampling.\n",
      "NOTE: 1604219 bytes were written to the table \"networkBaseForestModelAStore\" in the caslib \"CASUSERHDFS(brrees)\".\n",
      "Accuracy = 0.7233606557377049\n",
      "NOTE: Simple Random Sampling is in effect.\n",
      "NOTE: Using SEED=5689 for sampling.\n",
      "NOTE: 1608735 bytes were written to the table \"networkBaseForestModelAStore\" in the caslib \"CASUSERHDFS(brrees)\".\n",
      "Accuracy = 0.735655737704918\n",
      "NOTE: Simple Random Sampling is in effect.\n",
      "NOTE: Using SEED=5690 for sampling.\n",
      "NOTE: 1615347 bytes were written to the table \"networkBaseForestModelAStore\" in the caslib \"CASUSERHDFS(brrees)\".\n",
      "Accuracy = 0.7274590163934426\n",
      "NOTE: Simple Random Sampling is in effect.\n",
      "NOTE: Using SEED=5691 for sampling.\n",
      "NOTE: 1614251 bytes were written to the table \"networkBaseForestModelAStore\" in the caslib \"CASUSERHDFS(brrees)\".\n",
      "Accuracy = 0.7315573770491803\n",
      "NOTE: Simple Random Sampling is in effect.\n",
      "NOTE: Using SEED=5692 for sampling.\n",
      "NOTE: 1611579 bytes were written to the table \"networkBaseForestModelAStore\" in the caslib \"CASUSERHDFS(brrees)\".\n",
      "Accuracy = 0.7295081967213115\n",
      "NOTE: Simple Random Sampling is in effect.\n",
      "NOTE: Using SEED=5693 for sampling.\n",
      "NOTE: 1617119 bytes were written to the table \"networkBaseForestModelAStore\" in the caslib \"CASUSERHDFS(brrees)\".\n",
      "Accuracy = 0.7315573770491803\n",
      "NOTE: Simple Random Sampling is in effect.\n",
      "NOTE: Using SEED=5694 for sampling.\n",
      "NOTE: 1615179 bytes were written to the table \"networkBaseForestModelAStore\" in the caslib \"CASUSERHDFS(brrees)\".\n",
      "Accuracy = 0.7315573770491803\n",
      "NOTE: Simple Random Sampling is in effect.\n",
      "NOTE: Using SEED=5695 for sampling.\n",
      "NOTE: 1618663 bytes were written to the table \"networkBaseForestModelAStore\" in the caslib \"CASUSERHDFS(brrees)\".\n",
      "Accuracy = 0.7459016393442623\n",
      "NOTE: Simple Random Sampling is in effect.\n",
      "NOTE: Using SEED=5696 for sampling.\n",
      "NOTE: 1617395 bytes were written to the table \"networkBaseForestModelAStore\" in the caslib \"CASUSERHDFS(brrees)\".\n",
      "Accuracy = 0.7602459016393442\n",
      "NOTE: Simple Random Sampling is in effect.\n",
      "NOTE: Using SEED=5697 for sampling.\n",
      "NOTE: 1622163 bytes were written to the table \"networkBaseForestModelAStore\" in the caslib \"CASUSERHDFS(brrees)\".\n",
      "Accuracy = 0.7581967213114754\n",
      "NOTE: Simple Random Sampling is in effect.\n",
      "NOTE: Using SEED=5698 for sampling.\n",
      "NOTE: 1621887 bytes were written to the table \"networkBaseForestModelAStore\" in the caslib \"CASUSERHDFS(brrees)\".\n",
      "Accuracy = 0.75\n",
      "NOTE: Simple Random Sampling is in effect.\n",
      "NOTE: Using SEED=5699 for sampling.\n",
      "NOTE: 1624195 bytes were written to the table \"networkBaseForestModelAStore\" in the caslib \"CASUSERHDFS(brrees)\".\n",
      "Accuracy = 0.7561475409836066\n",
      "NOTE: Simple Random Sampling is in effect.\n",
      "NOTE: Using SEED=5700 for sampling.\n",
      "NOTE: 1620915 bytes were written to the table \"networkBaseForestModelAStore\" in the caslib \"CASUSERHDFS(brrees)\".\n",
      "Accuracy = 0.7581967213114754\n",
      "NOTE: Simple Random Sampling is in effect.\n",
      "NOTE: Using SEED=5701 for sampling.\n",
      "NOTE: 1630655 bytes were written to the table \"networkBaseForestModelAStore\" in the caslib \"CASUSERHDFS(brrees)\".\n",
      "Accuracy = 0.7315573770491803\n",
      "NOTE: Simple Random Sampling is in effect.\n",
      "NOTE: Using SEED=5702 for sampling.\n",
      "NOTE: 1632475 bytes were written to the table \"networkBaseForestModelAStore\" in the caslib \"CASUSERHDFS(brrees)\".\n",
      "Accuracy = 0.7336065573770492\n",
      "Bootstrap Accuracy = 0.7358196721311475 +- 0.012985013998893671\n",
      "CPU times: user 4.44 s, sys: 312 ms, total: 4.75 s\n",
      "Wall time: 15min 23s\n"
     ]
    }
   ],
   "source": [
    "%%time\n",
    "accuracies = demo.bootstrapForestModel(networkBaseForestModel,\"contentTrainNetwork\",\n",
    "                          \"contentTestNetwork\",\n",
    "                          baseFeatureList+networkFeatureList);"
   ]
  },
  {
   "cell_type": "markdown",
   "metadata": {
    "colab_type": "text",
    "id": "xC3A5RY_-fJf"
   },
   "source": [
    "## Train PCA+Network Features Forest Model"
   ]
  },
  {
   "cell_type": "code",
   "execution_count": 27,
   "metadata": {
    "colab": {},
    "colab_type": "code",
    "id": "-rAAjS65-fJg"
   },
   "outputs": [],
   "source": [
    "networkPcaForestModel = \"networkPcaForestModel\""
   ]
  },
  {
   "cell_type": "code",
   "execution_count": 28,
   "metadata": {
    "colab": {},
    "colab_type": "code",
    "id": "hp3He8Zj-fJi",
    "outputId": "fde66e7c-d39b-4103-cc19-22b8163143fc"
   },
   "outputs": [
    {
     "name": "stdout",
     "output_type": "stream",
     "text": [
      "NOTE: 1334778 bytes were written to the table \"networkPcaForestModelAStore\" in the caslib \"CASUSERHDFS(brrees)\".\n",
      "CPU times: user 15.6 ms, sys: 0 ns, total: 15.6 ms\n",
      "Wall time: 3.61 s\n"
     ]
    }
   ],
   "source": [
    "%%time\n",
    "resultsTrainNetworkPcaForest = demo.trainForestModel(\n",
    "    networkPcaForestModel, \"contentTrainPcaNetwork\", pcaFeatureList+networkFeatureList)\n",
    "resultsTrainNetworkPcaForest['OutputCasTables']"
   ]
  },
  {
   "cell_type": "markdown",
   "metadata": {
    "colab_type": "text",
    "id": "AvR5-BsS-fJm"
   },
   "source": [
    "### Score PCA+Network Forest Model"
   ]
  },
  {
   "cell_type": "code",
   "execution_count": 29,
   "metadata": {
    "colab": {},
    "colab_type": "code",
    "id": "PRVUiUsI-fJn",
    "outputId": "b46615b9-e4d3-4ef5-dbfb-8d8ca54a7f85",
    "scrolled": false
   },
   "outputs": [
    {
     "name": "stdout",
     "output_type": "stream",
     "text": [
      "Accuracy = 0.7915129151291513\n"
     ]
    }
   ],
   "source": [
    "resultsScoreNetworkPcaForest=demo.scoreForestModel(networkPcaForestModel,\"contentTestPcaNetwork\")"
   ]
  },
  {
   "cell_type": "markdown",
   "metadata": {
    "colab_type": "text",
    "id": "v9d6eAxl-fJr"
   },
   "source": [
    "### Bootstrap Runs"
   ]
  },
  {
   "cell_type": "code",
   "execution_count": 30,
   "metadata": {
    "colab": {},
    "colab_type": "code",
    "id": "CcBY3agc-fJr",
    "outputId": "ff1524ee-1ca3-4b84-d189-eb2c8b1c0b00"
   },
   "outputs": [
    {
     "name": "stdout",
     "output_type": "stream",
     "text": [
      "NOTE: Simple Random Sampling is in effect.\n",
      "NOTE: Using SEED=5678 for sampling.\n",
      "NOTE: 1334778 bytes were written to the table \"networkPcaForestModelAStore\" in the caslib \"CASUSERHDFS(brrees)\".\n",
      "Accuracy = 0.7950819672131147\n",
      "NOTE: Simple Random Sampling is in effect.\n",
      "NOTE: Using SEED=5679 for sampling.\n",
      "NOTE: 1336482 bytes were written to the table \"networkPcaForestModelAStore\" in the caslib \"CASUSERHDFS(brrees)\".\n",
      "Accuracy = 0.7971311475409836\n",
      "NOTE: Simple Random Sampling is in effect.\n",
      "NOTE: Using SEED=5680 for sampling.\n",
      "NOTE: 1333346 bytes were written to the table \"networkPcaForestModelAStore\" in the caslib \"CASUSERHDFS(brrees)\".\n",
      "Accuracy = 0.7971311475409836\n",
      "NOTE: Simple Random Sampling is in effect.\n",
      "NOTE: Using SEED=5681 for sampling.\n",
      "NOTE: 1341178 bytes were written to the table \"networkPcaForestModelAStore\" in the caslib \"CASUSERHDFS(brrees)\".\n",
      "Accuracy = 0.7971311475409836\n",
      "NOTE: Simple Random Sampling is in effect.\n",
      "NOTE: Using SEED=5682 for sampling.\n",
      "NOTE: 1342754 bytes were written to the table \"networkPcaForestModelAStore\" in the caslib \"CASUSERHDFS(brrees)\".\n",
      "Accuracy = 0.7950819672131147\n",
      "NOTE: Simple Random Sampling is in effect.\n",
      "NOTE: Using SEED=5683 for sampling.\n",
      "NOTE: 1339634 bytes were written to the table \"networkPcaForestModelAStore\" in the caslib \"CASUSERHDFS(brrees)\".\n",
      "Accuracy = 0.8012295081967213\n",
      "NOTE: Simple Random Sampling is in effect.\n",
      "NOTE: Using SEED=5684 for sampling.\n",
      "NOTE: 1333298 bytes were written to the table \"networkPcaForestModelAStore\" in the caslib \"CASUSERHDFS(brrees)\".\n",
      "Accuracy = 0.8012295081967213\n",
      "NOTE: Simple Random Sampling is in effect.\n",
      "NOTE: Using SEED=5685 for sampling.\n",
      "NOTE: 1332126 bytes were written to the table \"networkPcaForestModelAStore\" in the caslib \"CASUSERHDFS(brrees)\".\n",
      "Accuracy = 0.8094262295081968\n",
      "NOTE: Simple Random Sampling is in effect.\n",
      "NOTE: Using SEED=5686 for sampling.\n",
      "NOTE: 1330502 bytes were written to the table \"networkPcaForestModelAStore\" in the caslib \"CASUSERHDFS(brrees)\".\n",
      "Accuracy = 0.7991803278688525\n",
      "NOTE: Simple Random Sampling is in effect.\n",
      "NOTE: Using SEED=5687 for sampling.\n",
      "NOTE: 1317782 bytes were written to the table \"networkPcaForestModelAStore\" in the caslib \"CASUSERHDFS(brrees)\".\n",
      "Accuracy = 0.7971311475409836\n",
      "NOTE: Simple Random Sampling is in effect.\n",
      "NOTE: Using SEED=5688 for sampling.\n",
      "NOTE: 1324102 bytes were written to the table \"networkPcaForestModelAStore\" in the caslib \"CASUSERHDFS(brrees)\".\n",
      "Accuracy = 0.7950819672131147\n",
      "NOTE: Simple Random Sampling is in effect.\n",
      "NOTE: Using SEED=5689 for sampling.\n",
      "NOTE: 1322574 bytes were written to the table \"networkPcaForestModelAStore\" in the caslib \"CASUSERHDFS(brrees)\".\n",
      "Accuracy = 0.7991803278688525\n",
      "NOTE: Simple Random Sampling is in effect.\n",
      "NOTE: Using SEED=5690 for sampling.\n",
      "NOTE: 1324230 bytes were written to the table \"networkPcaForestModelAStore\" in the caslib \"CASUSERHDFS(brrees)\".\n",
      "Accuracy = 0.7971311475409836\n",
      "NOTE: Simple Random Sampling is in effect.\n",
      "NOTE: Using SEED=5691 for sampling.\n",
      "NOTE: 1325774 bytes were written to the table \"networkPcaForestModelAStore\" in the caslib \"CASUSERHDFS(brrees)\".\n",
      "Accuracy = 0.8012295081967213\n",
      "NOTE: Simple Random Sampling is in effect.\n",
      "NOTE: Using SEED=5692 for sampling.\n",
      "NOTE: 1325742 bytes were written to the table \"networkPcaForestModelAStore\" in the caslib \"CASUSERHDFS(brrees)\".\n",
      "Accuracy = 0.7950819672131147\n",
      "NOTE: Simple Random Sampling is in effect.\n",
      "NOTE: Using SEED=5693 for sampling.\n",
      "NOTE: 1328942 bytes were written to the table \"networkPcaForestModelAStore\" in the caslib \"CASUSERHDFS(brrees)\".\n",
      "Accuracy = 0.7909836065573771\n",
      "NOTE: Simple Random Sampling is in effect.\n",
      "NOTE: Using SEED=5694 for sampling.\n",
      "NOTE: 1332142 bytes were written to the table \"networkPcaForestModelAStore\" in the caslib \"CASUSERHDFS(brrees)\".\n",
      "Accuracy = 0.7950819672131147\n",
      "NOTE: Simple Random Sampling is in effect.\n",
      "NOTE: Using SEED=5695 for sampling.\n",
      "NOTE: 1327446 bytes were written to the table \"networkPcaForestModelAStore\" in the caslib \"CASUSERHDFS(brrees)\".\n",
      "Accuracy = 0.7950819672131147\n",
      "NOTE: Simple Random Sampling is in effect.\n",
      "NOTE: Using SEED=5696 for sampling.\n",
      "NOTE: 1330582 bytes were written to the table \"networkPcaForestModelAStore\" in the caslib \"CASUSERHDFS(brrees)\".\n",
      "Accuracy = 0.8032786885245902\n",
      "NOTE: Simple Random Sampling is in effect.\n",
      "NOTE: Using SEED=5697 for sampling.\n",
      "NOTE: 1324294 bytes were written to the table \"networkPcaForestModelAStore\" in the caslib \"CASUSERHDFS(brrees)\".\n",
      "Accuracy = 0.7909836065573771\n",
      "NOTE: Simple Random Sampling is in effect.\n",
      "NOTE: Using SEED=5698 for sampling.\n",
      "NOTE: 1316350 bytes were written to the table \"networkPcaForestModelAStore\" in the caslib \"CASUSERHDFS(brrees)\".\n",
      "Accuracy = 0.7889344262295082\n",
      "NOTE: Simple Random Sampling is in effect.\n",
      "NOTE: Using SEED=5699 for sampling.\n",
      "NOTE: 1319550 bytes were written to the table \"networkPcaForestModelAStore\" in the caslib \"CASUSERHDFS(brrees)\".\n",
      "Accuracy = 0.7889344262295082\n",
      "NOTE: Simple Random Sampling is in effect.\n",
      "NOTE: Using SEED=5700 for sampling.\n",
      "NOTE: 1329054 bytes were written to the table \"networkPcaForestModelAStore\" in the caslib \"CASUSERHDFS(brrees)\".\n",
      "Accuracy = 0.8073770491803278\n",
      "NOTE: Simple Random Sampling is in effect.\n",
      "NOTE: Using SEED=5701 for sampling.\n",
      "NOTE: 1330630 bytes were written to the table \"networkPcaForestModelAStore\" in the caslib \"CASUSERHDFS(brrees)\".\n",
      "Accuracy = 0.7745901639344263\n",
      "NOTE: Simple Random Sampling is in effect.\n",
      "NOTE: Using SEED=5702 for sampling.\n",
      "NOTE: 1325902 bytes were written to the table \"networkPcaForestModelAStore\" in the caslib \"CASUSERHDFS(brrees)\".\n",
      "Accuracy = 0.7868852459016393\n",
      "Bootstrap Accuracy = 0.7959836065573771 +- 0.006835298930947341\n",
      "CPU times: user 3.95 s, sys: 234 ms, total: 4.19 s\n",
      "Wall time: 1min 59s\n"
     ]
    }
   ],
   "source": [
    "%%time\n",
    "accuracies = demo.bootstrapForestModel(networkPcaForestModel,\"contentTrainPcaNetwork\",\n",
    "                          \"contentTestPcaNetwork\",\n",
    "                          pcaFeatureList+networkFeatureList);"
   ]
  },
  {
   "cell_type": "markdown",
   "metadata": {
    "colab_type": "text",
    "id": "lyL5eNfc-fJu"
   },
   "source": [
    "# Autotune the Forest Models"
   ]
  },
  {
   "cell_type": "code",
   "execution_count": 31,
   "metadata": {
    "code_folding": [
     0,
     19
    ],
    "colab": {},
    "colab_type": "code",
    "id": "2MOwXzFo-fJv"
   },
   "outputs": [],
   "source": [
    "def tuneForestModel(modelName, tableTrain, featureList, tunerOptions=None):\n",
    "    if tunerOptions is None:\n",
    "        tunerOptions = {\n",
    "            \"seed\": 123,\n",
    "            \"objective\": \"MISC\"\n",
    "        }\n",
    "    result = s.autotune.tuneForest(\n",
    "        trainOptions={\n",
    "            \"table\": tableTrain,\n",
    "            \"inputs\": featureList,\n",
    "            \"target\": targetColumn,\n",
    "            \"nominal\": {targetColumn},\n",
    "            \"casout\": {\"name\": modelName, \"replace\": True},\n",
    "            \"saveState\": {\"name\": f\"{modelName}AStore\", \"replace\": True}\n",
    "        },\n",
    "        tunerOptions=tunerOptions\n",
    "    )\n",
    "    return result\n",
    "\n",
    "def loadOrTuneForestModel(\n",
    "        modelName,\n",
    "        tableTrain,\n",
    "        featureList,\n",
    "        tunerOptions=None,\n",
    "        newRun=False):\n",
    "    coraCaslib = \"cora\"\n",
    "    addCaslibIfNeeded(coraCaslib)\n",
    "\n",
    "    r = s.table.fileInfo(caslib=\"cora\")\n",
    "    if not f\"{modelName}AStore.sashdat\" in r.FileInfo[\"Name\"].unique():\n",
    "        newRun = True\n",
    "    if not os.path.exists(f\"../data/{modelName}Best.pkl\"):\n",
    "        newRun = True\n",
    "\n",
    "    if newRun:\n",
    "        r = resultsTrainNetworkForestAuto = tuneForestModel(\n",
    "            modelName, tableTrain, featureList)\n",
    "        saveTables([f\"{modelName}AStore\", f\"{modelName}\"])\n",
    "        r.BestConfiguration.to_pickle(f\"../data/{modelName}Best.pkl\")\n",
    "        return r.BestConfiguration\n",
    "    else:\n",
    "        loadTables([f\"{modelName}AStore\", f\"{modelName}\"])\n",
    "        bestConfiguration = pd.read_pickle(f\"../data/{modelName}Best.pkl\")\n",
    "        return bestConfiguration"
   ]
  },
  {
   "cell_type": "markdown",
   "metadata": {
    "colab_type": "text",
    "id": "XpiMUNrc-fJy"
   },
   "source": [
    "## Autotune PCA Features Model"
   ]
  },
  {
   "cell_type": "code",
   "execution_count": 32,
   "metadata": {
    "colab": {},
    "colab_type": "code",
    "id": "fO1RsWfg-fJz"
   },
   "outputs": [],
   "source": [
    "newRun=False"
   ]
  },
  {
   "cell_type": "code",
   "execution_count": 33,
   "metadata": {
    "colab": {},
    "colab_type": "code",
    "id": "_zI9DSnU-fJ2"
   },
   "outputs": [],
   "source": [
    "pcaModelAuto = \"pcaModelAuto\""
   ]
  },
  {
   "cell_type": "code",
   "execution_count": 34,
   "metadata": {
    "colab": {},
    "colab_type": "code",
    "id": "K4F4T18t-fJ6",
    "outputId": "f20869dc-9100-44e5-eb24-992afe444ebe"
   },
   "outputs": [
    {
     "name": "stdout",
     "output_type": "stream",
     "text": [
      "NOTE: Cloud Analytic Services made the file pcaModelAutoAStore.sashdat available as table PCAMODELAUTOASTORE in caslib CASUSERHDFS(brrees).\n",
      "NOTE: Cloud Analytic Services made the file pcaModelAuto.sashdat available as table PCAMODELAUTO in caslib CASUSERHDFS(brrees).\n"
     ]
    }
   ],
   "source": [
    "forestParamAuto = demo.loadOrTuneForestModel(pcaModelAuto,\n",
    "                           \"contentTrainPca\",\n",
    "                           pcaFeatureList,\n",
    "                           newRun=newRun\n",
    "                          )"
   ]
  },
  {
   "cell_type": "markdown",
   "metadata": {
    "colab_type": "text",
    "id": "kaUaqsad-fJ-"
   },
   "source": [
    "### Score Autotuned PCA Features Model"
   ]
  },
  {
   "cell_type": "code",
   "execution_count": 35,
   "metadata": {
    "colab": {},
    "colab_type": "code",
    "id": "vLspLfsy-fJ-",
    "outputId": "4dabad95-2d35-426a-962b-e4ff5e444c3d",
    "scrolled": false
   },
   "outputs": [
    {
     "name": "stdout",
     "output_type": "stream",
     "text": [
      "Accuracy = 0.6881918819188192\n"
     ]
    }
   ],
   "source": [
    "resultsScorePcaModelAuto=demo.scoreForestModel(pcaModelAuto,\"contentTestPca\")"
   ]
  },
  {
   "cell_type": "markdown",
   "metadata": {
    "colab_type": "text",
    "id": "t53gn5OB-fKD"
   },
   "source": [
    "### Bootstrap Runs"
   ]
  },
  {
   "cell_type": "code",
   "execution_count": 36,
   "metadata": {
    "colab": {},
    "colab_type": "code",
    "id": "wmDS1zMN-fKD",
    "outputId": "8984ad9d-417a-4b76-de22-8ef2ef10fcea"
   },
   "outputs": [
    {
     "name": "stdout",
     "output_type": "stream",
     "text": [
      "NOTE: Simple Random Sampling is in effect.\n",
      "NOTE: Using SEED=5678 for sampling.\n",
      "NOTE: 27483492 bytes were written to the table \"pcaModelAutoAStore\" in the caslib \"CASUSERHDFS(brrees)\".\n",
      "Accuracy = 0.694672131147541\n",
      "NOTE: Simple Random Sampling is in effect.\n",
      "NOTE: Using SEED=5679 for sampling.\n",
      "NOTE: 27513260 bytes were written to the table \"pcaModelAutoAStore\" in the caslib \"CASUSERHDFS(brrees)\".\n",
      "Accuracy = 0.6844262295081968\n",
      "NOTE: Simple Random Sampling is in effect.\n",
      "NOTE: Using SEED=5680 for sampling.\n",
      "NOTE: 27535980 bytes were written to the table \"pcaModelAutoAStore\" in the caslib \"CASUSERHDFS(brrees)\".\n",
      "Accuracy = 0.680327868852459\n",
      "NOTE: Simple Random Sampling is in effect.\n",
      "NOTE: Using SEED=5681 for sampling.\n",
      "NOTE: 27490660 bytes were written to the table \"pcaModelAutoAStore\" in the caslib \"CASUSERHDFS(brrees)\".\n",
      "Accuracy = 0.6844262295081968\n",
      "NOTE: Simple Random Sampling is in effect.\n",
      "NOTE: Using SEED=5682 for sampling.\n",
      "NOTE: 27451780 bytes were written to the table \"pcaModelAutoAStore\" in the caslib \"CASUSERHDFS(brrees)\".\n",
      "Accuracy = 0.6864754098360656\n",
      "NOTE: Simple Random Sampling is in effect.\n",
      "NOTE: Using SEED=5683 for sampling.\n",
      "NOTE: 27510268 bytes were written to the table \"pcaModelAutoAStore\" in the caslib \"CASUSERHDFS(brrees)\".\n",
      "Accuracy = 0.7008196721311475\n",
      "NOTE: Simple Random Sampling is in effect.\n",
      "NOTE: Using SEED=5684 for sampling.\n",
      "NOTE: 27573884 bytes were written to the table \"pcaModelAutoAStore\" in the caslib \"CASUSERHDFS(brrees)\".\n",
      "Accuracy = 0.6967213114754098\n",
      "NOTE: Simple Random Sampling is in effect.\n",
      "NOTE: Using SEED=5685 for sampling.\n",
      "NOTE: 27521308 bytes were written to the table \"pcaModelAutoAStore\" in the caslib \"CASUSERHDFS(brrees)\".\n",
      "Accuracy = 0.6987704918032787\n",
      "NOTE: Simple Random Sampling is in effect.\n",
      "NOTE: Using SEED=5686 for sampling.\n",
      "NOTE: 27517988 bytes were written to the table \"pcaModelAutoAStore\" in the caslib \"CASUSERHDFS(brrees)\".\n",
      "Accuracy = 0.6864754098360656\n",
      "NOTE: Simple Random Sampling is in effect.\n",
      "NOTE: Using SEED=5687 for sampling.\n",
      "NOTE: 27427188 bytes were written to the table \"pcaModelAutoAStore\" in the caslib \"CASUSERHDFS(brrees)\".\n",
      "Accuracy = 0.6864754098360656\n",
      "NOTE: Simple Random Sampling is in effect.\n",
      "NOTE: Using SEED=5688 for sampling.\n",
      "NOTE: 27455140 bytes were written to the table \"pcaModelAutoAStore\" in the caslib \"CASUSERHDFS(brrees)\".\n",
      "Accuracy = 0.6885245901639344\n",
      "NOTE: Simple Random Sampling is in effect.\n",
      "NOTE: Using SEED=5689 for sampling.\n",
      "NOTE: 27455588 bytes were written to the table \"pcaModelAutoAStore\" in the caslib \"CASUSERHDFS(brrees)\".\n",
      "Accuracy = 0.6967213114754098\n",
      "NOTE: Simple Random Sampling is in effect.\n",
      "NOTE: Using SEED=5690 for sampling.\n",
      "NOTE: 27443196 bytes were written to the table \"pcaModelAutoAStore\" in the caslib \"CASUSERHDFS(brrees)\".\n",
      "Accuracy = 0.6967213114754098\n",
      "NOTE: Simple Random Sampling is in effect.\n",
      "NOTE: Using SEED=5691 for sampling.\n",
      "NOTE: 27415548 bytes were written to the table \"pcaModelAutoAStore\" in the caslib \"CASUSERHDFS(brrees)\".\n",
      "Accuracy = 0.6905737704918032\n",
      "NOTE: Simple Random Sampling is in effect.\n",
      "NOTE: Using SEED=5692 for sampling.\n",
      "NOTE: 27414828 bytes were written to the table \"pcaModelAutoAStore\" in the caslib \"CASUSERHDFS(brrees)\".\n",
      "Accuracy = 0.6905737704918032\n",
      "NOTE: Simple Random Sampling is in effect.\n",
      "NOTE: Using SEED=5693 for sampling.\n",
      "NOTE: 27365692 bytes were written to the table \"pcaModelAutoAStore\" in the caslib \"CASUSERHDFS(brrees)\".\n",
      "Accuracy = 0.6844262295081968\n",
      "NOTE: Simple Random Sampling is in effect.\n",
      "NOTE: Using SEED=5694 for sampling.\n",
      "NOTE: 27389276 bytes were written to the table \"pcaModelAutoAStore\" in the caslib \"CASUSERHDFS(brrees)\".\n",
      "Accuracy = 0.6885245901639344\n",
      "NOTE: Simple Random Sampling is in effect.\n",
      "NOTE: Using SEED=5695 for sampling.\n",
      "NOTE: 27448212 bytes were written to the table \"pcaModelAutoAStore\" in the caslib \"CASUSERHDFS(brrees)\".\n",
      "Accuracy = 0.6782786885245902\n",
      "NOTE: Simple Random Sampling is in effect.\n",
      "NOTE: Using SEED=5696 for sampling.\n",
      "NOTE: 27511492 bytes were written to the table \"pcaModelAutoAStore\" in the caslib \"CASUSERHDFS(brrees)\".\n",
      "Accuracy = 0.6844262295081968\n",
      "NOTE: Simple Random Sampling is in effect.\n",
      "NOTE: Using SEED=5697 for sampling.\n",
      "NOTE: 27503436 bytes were written to the table \"pcaModelAutoAStore\" in the caslib \"CASUSERHDFS(brrees)\".\n",
      "Accuracy = 0.6864754098360656\n",
      "NOTE: Simple Random Sampling is in effect.\n",
      "NOTE: Using SEED=5698 for sampling.\n",
      "NOTE: 27567540 bytes were written to the table \"pcaModelAutoAStore\" in the caslib \"CASUSERHDFS(brrees)\".\n",
      "Accuracy = 0.680327868852459\n",
      "NOTE: Simple Random Sampling is in effect.\n",
      "NOTE: Using SEED=5699 for sampling.\n",
      "NOTE: 27566900 bytes were written to the table \"pcaModelAutoAStore\" in the caslib \"CASUSERHDFS(brrees)\".\n",
      "Accuracy = 0.6885245901639344\n",
      "NOTE: Simple Random Sampling is in effect.\n",
      "NOTE: Using SEED=5700 for sampling.\n",
      "NOTE: 27611412 bytes were written to the table \"pcaModelAutoAStore\" in the caslib \"CASUSERHDFS(brrees)\".\n",
      "Accuracy = 0.6926229508196722\n",
      "NOTE: Simple Random Sampling is in effect.\n",
      "NOTE: Using SEED=5701 for sampling.\n",
      "NOTE: 27615084 bytes were written to the table \"pcaModelAutoAStore\" in the caslib \"CASUSERHDFS(brrees)\".\n",
      "Accuracy = 0.680327868852459\n",
      "NOTE: Simple Random Sampling is in effect.\n",
      "NOTE: Using SEED=5702 for sampling.\n",
      "NOTE: 27617068 bytes were written to the table \"pcaModelAutoAStore\" in the caslib \"CASUSERHDFS(brrees)\".\n",
      "Accuracy = 0.6844262295081968\n",
      "Bootstrap Accuracy = 0.6884426229508197 +- 0.0060920997298564\n",
      "CPU times: user 4.31 s, sys: 266 ms, total: 4.58 s\n",
      "Wall time: 3min 56s\n"
     ]
    }
   ],
   "source": [
    "%%time\n",
    "accuracies = demo.bootstrapForestModel(pcaModelAuto,\"contentTrainPca\",\n",
    "                          \"contentTestPca\",\n",
    "                          pcaFeatureList,\n",
    "                          forestParamAuto,\n",
    "                          25);"
   ]
  },
  {
   "cell_type": "markdown",
   "metadata": {
    "colab_type": "text",
    "id": "nAYNfQz0-fKI"
   },
   "source": [
    "## Autotune Network-Features-Only Model"
   ]
  },
  {
   "cell_type": "code",
   "execution_count": 37,
   "metadata": {
    "colab": {},
    "colab_type": "code",
    "id": "Z97WoPMh-fKJ"
   },
   "outputs": [],
   "source": [
    "networkModelAuto = \"networkModelAuto\""
   ]
  },
  {
   "cell_type": "code",
   "execution_count": 38,
   "metadata": {
    "colab": {},
    "colab_type": "code",
    "id": "D799r_LY-fKK",
    "outputId": "a9aed7f4-8e01-44c2-be7e-f0cb1980c4d2"
   },
   "outputs": [
    {
     "name": "stdout",
     "output_type": "stream",
     "text": [
      "NOTE: Cloud Analytic Services made the file networkModelAutoAStore.sashdat available as table NETWORKMODELAUTOASTORE in caslib CASUSERHDFS(brrees).\n",
      "NOTE: Cloud Analytic Services made the file networkModelAuto.sashdat available as table NETWORKMODELAUTO in caslib CASUSERHDFS(brrees).\n"
     ]
    }
   ],
   "source": [
    "forestParamAuto = demo.loadOrTuneForestModel(networkModelAuto,\n",
    "                           \"contentTrainNetwork\",\n",
    "                           networkFeatureList,\n",
    "                           newRun=newRun\n",
    "                          )"
   ]
  },
  {
   "cell_type": "markdown",
   "metadata": {
    "colab_type": "text",
    "id": "N_YiRv0I-fKa"
   },
   "source": [
    "### Score Autotuned Network-Features-Only Model"
   ]
  },
  {
   "cell_type": "code",
   "execution_count": 39,
   "metadata": {
    "colab": {},
    "colab_type": "code",
    "id": "hQd72IgV-fKa",
    "outputId": "22e79567-b79a-4c1c-82ea-96bd238279c0",
    "scrolled": true
   },
   "outputs": [
    {
     "name": "stdout",
     "output_type": "stream",
     "text": [
      "Accuracy = 0.8523985239852399\n"
     ]
    }
   ],
   "source": [
    "resultsScoreNetworkModelAuto=demo.scoreForestModel(networkModelAuto,\"contentTestNetwork\")"
   ]
  },
  {
   "cell_type": "markdown",
   "metadata": {
    "colab_type": "text",
    "id": "sbfiIJd8-fKe"
   },
   "source": [
    "### Bootstrap Runs"
   ]
  },
  {
   "cell_type": "code",
   "execution_count": 40,
   "metadata": {
    "colab": {},
    "colab_type": "code",
    "id": "-GcUEI0c-fKe",
    "outputId": "45228088-ac6b-4cef-b13b-50438419125d"
   },
   "outputs": [
    {
     "name": "stdout",
     "output_type": "stream",
     "text": [
      "NOTE: Simple Random Sampling is in effect.\n",
      "NOTE: Using SEED=5678 for sampling.\n",
      "NOTE: 6362659 bytes were written to the table \"networkModelAutoAStore\" in the caslib \"CASUSERHDFS(brrees)\".\n",
      "Accuracy = 0.8463114754098361\n",
      "NOTE: Simple Random Sampling is in effect.\n",
      "NOTE: Using SEED=5679 for sampling.\n",
      "NOTE: 6363299 bytes were written to the table \"networkModelAutoAStore\" in the caslib \"CASUSERHDFS(brrees)\".\n",
      "Accuracy = 0.8504098360655737\n",
      "NOTE: Simple Random Sampling is in effect.\n",
      "NOTE: Using SEED=5680 for sampling.\n",
      "NOTE: 6358395 bytes were written to the table \"networkModelAutoAStore\" in the caslib \"CASUSERHDFS(brrees)\".\n",
      "Accuracy = 0.8442622950819673\n",
      "NOTE: Simple Random Sampling is in effect.\n",
      "NOTE: Using SEED=5681 for sampling.\n",
      "NOTE: 6356387 bytes were written to the table \"networkModelAutoAStore\" in the caslib \"CASUSERHDFS(brrees)\".\n",
      "Accuracy = 0.8463114754098361\n",
      "NOTE: Simple Random Sampling is in effect.\n",
      "NOTE: Using SEED=5682 for sampling.\n",
      "NOTE: 6353107 bytes were written to the table \"networkModelAutoAStore\" in the caslib \"CASUSERHDFS(brrees)\".\n",
      "Accuracy = 0.8422131147540983\n",
      "NOTE: Simple Random Sampling is in effect.\n",
      "NOTE: Using SEED=5683 for sampling.\n",
      "NOTE: 6349699 bytes were written to the table \"networkModelAutoAStore\" in the caslib \"CASUSERHDFS(brrees)\".\n",
      "Accuracy = 0.8483606557377049\n",
      "NOTE: Simple Random Sampling is in effect.\n",
      "NOTE: Using SEED=5684 for sampling.\n",
      "NOTE: 6338443 bytes were written to the table \"networkModelAutoAStore\" in the caslib \"CASUSERHDFS(brrees)\".\n",
      "Accuracy = 0.8381147540983607\n",
      "NOTE: Simple Random Sampling is in effect.\n",
      "NOTE: Using SEED=5685 for sampling.\n",
      "NOTE: 6334715 bytes were written to the table \"networkModelAutoAStore\" in the caslib \"CASUSERHDFS(brrees)\".\n",
      "Accuracy = 0.8504098360655737\n",
      "NOTE: Simple Random Sampling is in effect.\n",
      "NOTE: Using SEED=5686 for sampling.\n",
      "NOTE: 6348059 bytes were written to the table \"networkModelAutoAStore\" in the caslib \"CASUSERHDFS(brrees)\".\n",
      "Accuracy = 0.8483606557377049\n",
      "NOTE: Simple Random Sampling is in effect.\n",
      "NOTE: Using SEED=5687 for sampling.\n",
      "NOTE: 6364459 bytes were written to the table \"networkModelAutoAStore\" in the caslib \"CASUSERHDFS(brrees)\".\n",
      "Accuracy = 0.8422131147540983\n",
      "NOTE: Simple Random Sampling is in effect.\n",
      "NOTE: Using SEED=5688 for sampling.\n",
      "NOTE: 6361323 bytes were written to the table \"networkModelAutoAStore\" in the caslib \"CASUSERHDFS(brrees)\".\n",
      "Accuracy = 0.8422131147540983\n",
      "NOTE: Simple Random Sampling is in effect.\n",
      "NOTE: Using SEED=5689 for sampling.\n",
      "NOTE: 6361515 bytes were written to the table \"networkModelAutoAStore\" in the caslib \"CASUSERHDFS(brrees)\".\n",
      "Accuracy = 0.8463114754098361\n",
      "NOTE: Simple Random Sampling is in effect.\n",
      "NOTE: Using SEED=5690 for sampling.\n",
      "NOTE: 6363027 bytes were written to the table \"networkModelAutoAStore\" in the caslib \"CASUSERHDFS(brrees)\".\n",
      "Accuracy = 0.8401639344262295\n",
      "NOTE: Simple Random Sampling is in effect.\n",
      "NOTE: Using SEED=5691 for sampling.\n",
      "NOTE: 6354267 bytes were written to the table \"networkModelAutoAStore\" in the caslib \"CASUSERHDFS(brrees)\".\n",
      "Accuracy = 0.8422131147540983\n",
      "NOTE: Simple Random Sampling is in effect.\n",
      "NOTE: Using SEED=5692 for sampling.\n",
      "NOTE: 6350747 bytes were written to the table \"networkModelAutoAStore\" in the caslib \"CASUSERHDFS(brrees)\".\n",
      "Accuracy = 0.8442622950819673\n",
      "NOTE: Simple Random Sampling is in effect.\n",
      "NOTE: Using SEED=5693 for sampling.\n",
      "NOTE: 6356355 bytes were written to the table \"networkModelAutoAStore\" in the caslib \"CASUSERHDFS(brrees)\".\n",
      "Accuracy = 0.8401639344262295\n",
      "NOTE: Simple Random Sampling is in effect.\n",
      "NOTE: Using SEED=5694 for sampling.\n",
      "NOTE: 6362915 bytes were written to the table \"networkModelAutoAStore\" in the caslib \"CASUSERHDFS(brrees)\".\n",
      "Accuracy = 0.8442622950819673\n",
      "NOTE: Simple Random Sampling is in effect.\n",
      "NOTE: Using SEED=5695 for sampling.\n",
      "NOTE: 6361371 bytes were written to the table \"networkModelAutoAStore\" in the caslib \"CASUSERHDFS(brrees)\".\n",
      "Accuracy = 0.8463114754098361\n",
      "NOTE: Simple Random Sampling is in effect.\n",
      "NOTE: Using SEED=5696 for sampling.\n",
      "NOTE: 6356179 bytes were written to the table \"networkModelAutoAStore\" in the caslib \"CASUSERHDFS(brrees)\".\n",
      "Accuracy = 0.8463114754098361\n",
      "NOTE: Simple Random Sampling is in effect.\n",
      "NOTE: Using SEED=5697 for sampling.\n",
      "NOTE: 6344507 bytes were written to the table \"networkModelAutoAStore\" in the caslib \"CASUSERHDFS(brrees)\".\n",
      "Accuracy = 0.8442622950819673\n",
      "NOTE: Simple Random Sampling is in effect.\n",
      "NOTE: Using SEED=5698 for sampling.\n",
      "NOTE: 6351163 bytes were written to the table \"networkModelAutoAStore\" in the caslib \"CASUSERHDFS(brrees)\".\n",
      "Accuracy = 0.8401639344262295\n",
      "NOTE: Simple Random Sampling is in effect.\n",
      "NOTE: Using SEED=5699 for sampling.\n",
      "NOTE: 6354859 bytes were written to the table \"networkModelAutoAStore\" in the caslib \"CASUSERHDFS(brrees)\".\n",
      "Accuracy = 0.8422131147540983\n",
      "NOTE: Simple Random Sampling is in effect.\n",
      "NOTE: Using SEED=5700 for sampling.\n",
      "NOTE: 6361723 bytes were written to the table \"networkModelAutoAStore\" in the caslib \"CASUSERHDFS(brrees)\".\n",
      "Accuracy = 0.8545081967213115\n",
      "NOTE: Simple Random Sampling is in effect.\n",
      "NOTE: Using SEED=5701 for sampling.\n",
      "NOTE: 6365163 bytes were written to the table \"networkModelAutoAStore\" in the caslib \"CASUSERHDFS(brrees)\".\n",
      "Accuracy = 0.8442622950819673\n",
      "NOTE: Simple Random Sampling is in effect.\n",
      "NOTE: Using SEED=5702 for sampling.\n",
      "NOTE: 6368459 bytes were written to the table \"networkModelAutoAStore\" in the caslib \"CASUSERHDFS(brrees)\".\n",
      "Accuracy = 0.8463114754098361\n",
      "Bootstrap Accuracy = 0.8448360655737706 +- 0.0036894352245662025\n",
      "CPU times: user 4.75 s, sys: 234 ms, total: 4.98 s\n",
      "Wall time: 6min 59s\n"
     ]
    }
   ],
   "source": [
    "%%time\n",
    "accuracies = demo.bootstrapForestModel(networkModelAuto,\"contentTrainNetwork\",\n",
    "                          \"contentTestNetwork\",\n",
    "                          networkFeatureList,\n",
    "                          forestParamAuto,\n",
    "                          25);"
   ]
  },
  {
   "cell_type": "markdown",
   "metadata": {
    "colab_type": "text",
    "id": "sssB8hYr-fKh"
   },
   "source": [
    "## Autotune PCA+Network Model"
   ]
  },
  {
   "cell_type": "code",
   "execution_count": 41,
   "metadata": {
    "colab": {},
    "colab_type": "code",
    "id": "PnHnYzxT-fKi"
   },
   "outputs": [],
   "source": [
    "networkPcaModelAuto = \"networkPcaModelAuto\""
   ]
  },
  {
   "cell_type": "code",
   "execution_count": 42,
   "metadata": {
    "colab": {},
    "colab_type": "code",
    "id": "9B0BgZu--fKk",
    "outputId": "dbe92d0d-e3b2-4ffc-8baa-6d4cd165d4c0"
   },
   "outputs": [
    {
     "name": "stdout",
     "output_type": "stream",
     "text": [
      "NOTE: Cloud Analytic Services made the file networkPcaModelAutoAStore.sashdat available as table NETWORKPCAMODELAUTOASTORE in caslib CASUSERHDFS(brrees).\n",
      "NOTE: Cloud Analytic Services made the file networkPcaModelAuto.sashdat available as table NETWORKPCAMODELAUTO in caslib CASUSERHDFS(brrees).\n"
     ]
    }
   ],
   "source": [
    "forestParamAuto = demo.loadOrTuneForestModel(networkPcaModelAuto,\n",
    "                           \"contentTrainPcaNetwork\",\n",
    "                           pcaFeatureList + networkFeatureList,\n",
    "                           newRun=newRun\n",
    "                          )"
   ]
  },
  {
   "cell_type": "markdown",
   "metadata": {
    "colab_type": "text",
    "id": "pKvsNJhO-fKn"
   },
   "source": [
    "### Score Autotuned PCA+Network Model"
   ]
  },
  {
   "cell_type": "code",
   "execution_count": 43,
   "metadata": {
    "colab": {},
    "colab_type": "code",
    "id": "MxJh8Wyz-fKn",
    "outputId": "d990003d-b97d-4013-9ec2-bde777c52f0a",
    "scrolled": false
   },
   "outputs": [
    {
     "name": "stdout",
     "output_type": "stream",
     "text": [
      "Accuracy = 0.8523985239852399\n"
     ]
    }
   ],
   "source": [
    "resultsScoreNetworkPcaModelAuto=demo.scoreForestModel(networkPcaModelAuto,\"contentTestPcaNetwork\")"
   ]
  },
  {
   "cell_type": "markdown",
   "metadata": {
    "colab_type": "text",
    "id": "DtDYmnlW-fKp"
   },
   "source": [
    "### Bootstrap Runs"
   ]
  },
  {
   "cell_type": "code",
   "execution_count": 44,
   "metadata": {
    "colab": {},
    "colab_type": "code",
    "id": "fxTMizOv-fKq",
    "outputId": "b2da983a-fc3e-4717-dfc0-db6fc2aedee9"
   },
   "outputs": [
    {
     "name": "stdout",
     "output_type": "stream",
     "text": [
      "NOTE: Simple Random Sampling is in effect.\n",
      "NOTE: Using SEED=5678 for sampling.\n",
      "NOTE: 6615870 bytes were written to the table \"networkPcaModelAutoAStore\" in the caslib \"CASUSERHDFS(brrees)\".\n",
      "Accuracy = 0.8545081967213115\n",
      "NOTE: Simple Random Sampling is in effect.\n",
      "NOTE: Using SEED=5679 for sampling.\n",
      "NOTE: 6621238 bytes were written to the table \"networkPcaModelAutoAStore\" in the caslib \"CASUSERHDFS(brrees)\".\n",
      "Accuracy = 0.8565573770491803\n",
      "NOTE: Simple Random Sampling is in effect.\n",
      "NOTE: Using SEED=5680 for sampling.\n",
      "NOTE: 6590182 bytes were written to the table \"networkPcaModelAutoAStore\" in the caslib \"CASUSERHDFS(brrees)\".\n",
      "Accuracy = 0.8504098360655737\n",
      "NOTE: Simple Random Sampling is in effect.\n",
      "NOTE: Using SEED=5681 for sampling.\n",
      "NOTE: 6590214 bytes were written to the table \"networkPcaModelAutoAStore\" in the caslib \"CASUSERHDFS(brrees)\".\n",
      "Accuracy = 0.8504098360655737\n",
      "NOTE: Simple Random Sampling is in effect.\n",
      "NOTE: Using SEED=5682 for sampling.\n",
      "NOTE: 6589022 bytes were written to the table \"networkPcaModelAutoAStore\" in the caslib \"CASUSERHDFS(brrees)\".\n",
      "Accuracy = 0.8442622950819673\n",
      "NOTE: Simple Random Sampling is in effect.\n",
      "NOTE: Using SEED=5683 for sampling.\n",
      "NOTE: 6571302 bytes were written to the table \"networkPcaModelAutoAStore\" in the caslib \"CASUSERHDFS(brrees)\".\n",
      "Accuracy = 0.8524590163934426\n",
      "NOTE: Simple Random Sampling is in effect.\n",
      "NOTE: Using SEED=5684 for sampling.\n",
      "NOTE: 6567166 bytes were written to the table \"networkPcaModelAutoAStore\" in the caslib \"CASUSERHDFS(brrees)\".\n",
      "Accuracy = 0.8422131147540983\n",
      "NOTE: Simple Random Sampling is in effect.\n",
      "NOTE: Using SEED=5685 for sampling.\n",
      "NOTE: 6557614 bytes were written to the table \"networkPcaModelAutoAStore\" in the caslib \"CASUSERHDFS(brrees)\".\n",
      "Accuracy = 0.8524590163934426\n",
      "NOTE: Simple Random Sampling is in effect.\n",
      "NOTE: Using SEED=5686 for sampling.\n",
      "NOTE: 6566494 bytes were written to the table \"networkPcaModelAutoAStore\" in the caslib \"CASUSERHDFS(brrees)\".\n",
      "Accuracy = 0.8463114754098361\n",
      "NOTE: Simple Random Sampling is in effect.\n",
      "NOTE: Using SEED=5687 for sampling.\n",
      "NOTE: 6576942 bytes were written to the table \"networkPcaModelAutoAStore\" in the caslib \"CASUSERHDFS(brrees)\".\n",
      "Accuracy = 0.8442622950819673\n",
      "NOTE: Simple Random Sampling is in effect.\n",
      "NOTE: Using SEED=5688 for sampling.\n",
      "NOTE: 6561046 bytes were written to the table \"networkPcaModelAutoAStore\" in the caslib \"CASUSERHDFS(brrees)\".\n",
      "Accuracy = 0.8422131147540983\n",
      "NOTE: Simple Random Sampling is in effect.\n",
      "NOTE: Using SEED=5689 for sampling.\n",
      "NOTE: 6577358 bytes were written to the table \"networkPcaModelAutoAStore\" in the caslib \"CASUSERHDFS(brrees)\".\n",
      "Accuracy = 0.8463114754098361\n",
      "NOTE: Simple Random Sampling is in effect.\n",
      "NOTE: Using SEED=5690 for sampling.\n",
      "NOTE: 6593062 bytes were written to the table \"networkPcaModelAutoAStore\" in the caslib \"CASUSERHDFS(brrees)\".\n",
      "Accuracy = 0.8483606557377049\n",
      "NOTE: Simple Random Sampling is in effect.\n",
      "NOTE: Using SEED=5691 for sampling.\n",
      "NOTE: 6595230 bytes were written to the table \"networkPcaModelAutoAStore\" in the caslib \"CASUSERHDFS(brrees)\".\n",
      "Accuracy = 0.8442622950819673\n",
      "NOTE: Simple Random Sampling is in effect.\n",
      "NOTE: Using SEED=5692 for sampling.\n",
      "NOTE: 6601358 bytes were written to the table \"networkPcaModelAutoAStore\" in the caslib \"CASUSERHDFS(brrees)\".\n",
      "Accuracy = 0.8422131147540983\n",
      "NOTE: Simple Random Sampling is in effect.\n",
      "NOTE: Using SEED=5693 for sampling.\n",
      "NOTE: 6602014 bytes were written to the table \"networkPcaModelAutoAStore\" in the caslib \"CASUSERHDFS(brrees)\".\n",
      "Accuracy = 0.8381147540983607\n",
      "NOTE: Simple Random Sampling is in effect.\n",
      "NOTE: Using SEED=5694 for sampling.\n",
      "NOTE: 6604638 bytes were written to the table \"networkPcaModelAutoAStore\" in the caslib \"CASUSERHDFS(brrees)\".\n",
      "Accuracy = 0.8442622950819673\n",
      "NOTE: Simple Random Sampling is in effect.\n",
      "NOTE: Using SEED=5695 for sampling.\n",
      "NOTE: 6613830 bytes were written to the table \"networkPcaModelAutoAStore\" in the caslib \"CASUSERHDFS(brrees)\".\n",
      "Accuracy = 0.8463114754098361\n",
      "NOTE: Simple Random Sampling is in effect.\n",
      "NOTE: Using SEED=5696 for sampling.\n",
      "NOTE: 6620742 bytes were written to the table \"networkPcaModelAutoAStore\" in the caslib \"CASUSERHDFS(brrees)\".\n",
      "Accuracy = 0.8524590163934426\n",
      "NOTE: Simple Random Sampling is in effect.\n",
      "NOTE: Using SEED=5697 for sampling.\n",
      "NOTE: 6618278 bytes were written to the table \"networkPcaModelAutoAStore\" in the caslib \"CASUSERHDFS(brrees)\".\n",
      "Accuracy = 0.8483606557377049\n",
      "NOTE: Simple Random Sampling is in effect.\n",
      "NOTE: Using SEED=5698 for sampling.\n",
      "NOTE: 6623230 bytes were written to the table \"networkPcaModelAutoAStore\" in the caslib \"CASUSERHDFS(brrees)\".\n",
      "Accuracy = 0.8504098360655737\n",
      "NOTE: Simple Random Sampling is in effect.\n",
      "NOTE: Using SEED=5699 for sampling.\n",
      "NOTE: 6622934 bytes were written to the table \"networkPcaModelAutoAStore\" in the caslib \"CASUSERHDFS(brrees)\".\n",
      "Accuracy = 0.8483606557377049\n",
      "NOTE: Simple Random Sampling is in effect.\n",
      "NOTE: Using SEED=5700 for sampling.\n",
      "NOTE: 6632326 bytes were written to the table \"networkPcaModelAutoAStore\" in the caslib \"CASUSERHDFS(brrees)\".\n",
      "Accuracy = 0.8545081967213115\n",
      "NOTE: Simple Random Sampling is in effect.\n",
      "NOTE: Using SEED=5701 for sampling.\n",
      "NOTE: 6643798 bytes were written to the table \"networkPcaModelAutoAStore\" in the caslib \"CASUSERHDFS(brrees)\".\n",
      "Accuracy = 0.8483606557377049\n",
      "NOTE: Simple Random Sampling is in effect.\n",
      "NOTE: Using SEED=5702 for sampling.\n",
      "NOTE: 6635870 bytes were written to the table \"networkPcaModelAutoAStore\" in the caslib \"CASUSERHDFS(brrees)\".\n",
      "Accuracy = 0.8545081967213115\n",
      "Bootstrap Accuracy = 0.8481147540983607 +- 0.004648343238936987\n",
      "CPU times: user 4.67 s, sys: 172 ms, total: 4.84 s\n",
      "Wall time: 15min 23s\n"
     ]
    }
   ],
   "source": [
    "%%time\n",
    "accuracies = demo.bootstrapForestModel(networkPcaModelAuto,\"contentTrainPcaNetwork\",\n",
    "                          \"contentTestPcaNetwork\",\n",
    "                          pcaFeatureList+networkFeatureList,\n",
    "                          forestParamAuto,\n",
    "                          25);"
   ]
  },
  {
   "cell_type": "markdown",
   "metadata": {
    "colab_type": "text",
    "id": "ax8RdPtb-jP2"
   },
   "source": [
    "# Session Cleanup"
   ]
  },
  {
   "cell_type": "code",
   "execution_count": 45,
   "metadata": {
    "colab": {},
    "colab_type": "code",
    "id": "cR5lZ4W2-fKt"
   },
   "outputs": [],
   "source": [
    "s.terminate();"
   ]
  }
 ],
 "metadata": {
  "colab": {
   "collapsed_sections": [
    "u119qylB-fGc",
    "qiAlvePC-fGx",
    "e6knt66D-fHF",
    "ngQDNdwL-fHO",
    "BUfEZnnf-fHV",
    "U1KZvcEb-fHf",
    "WrhIP2CF-fHn",
    "FlenHwef-fH7",
    "OWRJ_xKl-fIC",
    "ovCYwYiE-fIX",
    "Yh5mempy-fIf",
    "iJtKzEzP-fIx",
    "LqeImlCu-fI2",
    "osIURXah-fJG",
    "qxlLFlUe-fJL",
    "WsN5yp85-fJZ",
    "xC3A5RY_-fJf",
    "v9d6eAxl-fJr",
    "lyL5eNfc-fJu",
    "XpiMUNrc-fJy",
    "t53gn5OB-fKD",
    "nAYNfQz0-fKI",
    "sbfiIJd8-fKe",
    "sssB8hYr-fKh",
    "DtDYmnlW-fKp",
    "ax8RdPtb-jP2"
   ],
   "name": "part_2_forest_tuning.ipynb",
   "provenance": []
  },
  "kernelspec": {
   "display_name": "Python 3",
   "language": "python",
   "name": "python3"
  },
  "language_info": {
   "codemirror_mode": {
    "name": "ipython",
    "version": 3
   },
   "file_extension": ".py",
   "mimetype": "text/x-python",
   "name": "python",
   "nbconvert_exporter": "python",
   "pygments_lexer": "ipython3",
   "version": "3.6.5"
  }
 },
 "nbformat": 4,
 "nbformat_minor": 1
}
