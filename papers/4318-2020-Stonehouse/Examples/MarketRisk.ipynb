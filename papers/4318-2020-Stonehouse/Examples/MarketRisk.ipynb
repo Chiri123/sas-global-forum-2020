{
 "cells": [
  {
   "cell_type": "markdown",
   "metadata": {
    "slideshow": {
     "slide_type": "slide"
    }
   },
   "source": [
    "# SAS Risk Engine on Python: A Primer\n",
    "\n",
    "By Joshua Johnstone and Dave Stonehouse"
   ]
  },
  {
   "cell_type": "markdown",
   "metadata": {
    "slideshow": {
     "slide_type": "slide"
    }
   },
   "source": [
    "## What's to come\n",
    "In this demonstration, we'll run a Monte Carlo simulation of market risk factors, and evaluate a portfolio of bonds. We will query the results for a variety of risk metrics, slicing and dicing the portfolio and aggregating statistics on the fly.\n",
    "* Import packages\n",
    "* Connect to CAS\n",
    "* Using objects in RiskPy:\n",
    "    * Market Data\n",
    "    * Market States\n",
    "    * Portfolio\n",
    "    * Method Library\n",
    "    * Values\n",
    "    * Results\n",
    "* Creating a simple report\n",
    "* Plotting density curves with Seaborn and MatPlotLib"
   ]
  },
  {
   "cell_type": "markdown",
   "metadata": {
    "slideshow": {
     "slide_type": "slide"
    }
   },
   "source": [
    "## Import Packages\n",
    "Let's import RiskPy and SWAT, and some other helpful packages to get started."
   ]
  },
  {
   "cell_type": "code",
   "execution_count": 1,
   "metadata": {
    "slideshow": {
     "slide_type": "fragment"
    },
    "pycharm": {
     "is_executing": false
    }
   },
   "outputs": [],
   "source": [
    "import riskpy\n",
    "import swat\n",
    "\n",
    "import pandas as pd\n",
    "import datetime as dt\n",
    "import seaborn  as sns\n",
    "import matplotlib.pyplot as plt"
   ]
  },
  {
   "cell_type": "markdown",
   "metadata": {
    "slideshow": {
     "slide_type": "slide"
    }
   },
   "source": [
    "## Connect to CAS\n",
    "The SessionContext object lets other objects know about our connection to CAS, as well as a default CASLIB for writing tables."
   ]
  },
  {
   "cell_type": "code",
   "execution_count": 2,
   "metadata": {
    "slideshow": {
     "slide_type": "fragment"
    },
    "pycharm": {
     "is_executing": false
    }
   },
   "outputs": [],
   "source": [
    "session = swat.CAS()\n",
    "caslib  = \"CASUSER\"\n",
    "conn    = riskpy.SessionContext(session=session, caslib=caslib)"
   ]
  },
  {
   "cell_type": "markdown",
   "metadata": {
    "slideshow": {
     "slide_type": "slide"
    }
   },
   "source": [
    "## Object: Market Data\n",
    "MarketData objects contain pointers to economic data, and describe risk factors for our analysis."
   ]
  },
  {
   "cell_type": "code",
   "execution_count": 3,
   "metadata": {
    "slideshow": {
     "slide_type": "fragment"
    },
    "pycharm": {
     "is_executing": false
    }
   },
   "outputs": [],
   "source": [
    "market_data = riskpy.MarketData(\n",
    "        current    = 'datasources/MarketRisk/current.xlsx', \n",
    "        historical = 'datasources/MarketRisk/history.xlsx')"
   ]
  },
  {
   "cell_type": "code",
   "execution_count": 4,
   "metadata": {
    "slideshow": {
     "slide_type": "fragment"
    },
    "pycharm": {
     "is_executing": false
    }
   },
   "outputs": [
    {
     "data": {
      "text/plain": "   zero_rt  creditspread_rt\n0    0.024          0.01012",
      "text/html": "<div>\n<style scoped>\n    .dataframe tbody tr th:only-of-type {\n        vertical-align: middle;\n    }\n\n    .dataframe tbody tr th {\n        vertical-align: top;\n    }\n\n    .dataframe thead th {\n        text-align: right;\n    }\n</style>\n<table border=\"1\" class=\"dataframe\">\n  <thead>\n    <tr style=\"text-align: right;\">\n      <th></th>\n      <th>zero_rt</th>\n      <th>creditspread_rt</th>\n    </tr>\n  </thead>\n  <tbody>\n    <tr>\n      <td>0</td>\n      <td>0.024</td>\n      <td>0.01012</td>\n    </tr>\n  </tbody>\n</table>\n</div>"
     },
     "metadata": {},
     "output_type": "execute_result",
     "execution_count": 4
    }
   ],
   "source": [
    "# View current market data\n",
    "pd.read_excel(market_data.current).head()"
   ]
  },
  {
   "cell_type": "code",
   "execution_count": 5,
   "metadata": {
    "pycharm": {
     "is_executing": false
    }
   },
   "outputs": [
    {
     "name": "stderr",
     "text": [
      "c:\\users\\daston\\appdata\\local\\programs\\python\\python36\\lib\\site-packages\\pandas\\plotting\\_matplotlib\\converter.py:103: FutureWarning: Using an implicitly registered datetime converter for a matplotlib plotting method. The converter was registered by pandas on import. Future versions of pandas will require you to explicitly register matplotlib converters.\n",
      "\n",
      "To register the converters:\n",
      "\t>>> from pandas.plotting import register_matplotlib_converters\n",
      "\t>>> register_matplotlib_converters()\n",
      "  warnings.warn(msg, FutureWarning)\n"
     ],
     "output_type": "stream"
    },
    {
     "data": {
      "text/plain": "Text(0.5, 1.0, 'Risk Factor Historical Time Series')"
     },
     "metadata": {},
     "output_type": "execute_result",
     "execution_count": 5
    },
    {
     "data": {
      "text/plain": "<Figure size 432x288 with 1 Axes>",
      "image/png": "[encoded data removed]"
     },
     "metadata": {
      "needs_background": "light"
     },
     "output_type": "display_data"
    }
   ],
   "source": [
    "# Plot historical market data\n",
    "hist_df = pd.read_excel(market_data.historical)\n",
    "\n",
    "plt.plot(hist_df['date'], hist_df['zero_rt'], color='blue')\n",
    "plt.plot(hist_df['date'], hist_df['creditspread_rt'], color='green')\n",
    "\n",
    "plt.legend(labels=['Bond Zero Rate', 'Credit Spread Rate'])\n",
    "plt.xlabel('Date')\n",
    "plt.ylabel('Rate')\n",
    "plt.title('Risk Factor Historical Time Series')"
   ]
  },
  {
   "cell_type": "markdown",
   "metadata": {
    "slideshow": {
     "slide_type": "slide"
    }
   },
   "source": [
    "## Object: Market States\n",
    "With a MarketStates object, we can set up a simulation..."
   ]
  },
  {
   "cell_type": "code",
   "execution_count": 6,
   "metadata": {
    "slideshow": {
     "slide_type": "fragment"
    },
    "pycharm": {
     "is_executing": false
    }
   },
   "outputs": [],
   "source": [
    "market_states = riskpy.MarketStates(\n",
    "        market_data       = market_data,\n",
    "        as_of_date        = dt.datetime(2020,3,2),\n",
    "        num_horizons      = 10,\n",
    "        num_draws         = 500,\n",
    "        session_context   = conn)"
   ]
  },
  {
   "cell_type": "markdown",
   "metadata": {
    "slideshow": {
     "slide_type": "subslide"
    }
   },
   "source": [
    "...and run it with a simple function call to generate market states."
   ]
  },
  {
   "cell_type": "code",
   "execution_count": 7,
   "metadata": {
    "collapsed": true,
    "slideshow": {
     "slide_type": "fragment"
    },
    "pycharm": {
     "is_executing": false
    }
   },
   "outputs": [
    {
     "name": "stdout",
     "text": [
      "NOTE: Executing action 'table.loadTable'.\n",
      "NOTE: Cloud Analytic Services made the uploaded file available as table MARKETDATA_CURRENT in caslib CASUSER(daston).\n",
      "NOTE: Action 'table.loadTable' used (Total process time):\n",
      "NOTE:       real time               0.101875 seconds\n",
      "NOTE:       cpu time                0.209969 seconds (206.10%)\n",
      "NOTE:       data movement time      0.003940 seconds\n",
      "NOTE:       total nodes             3 (48 cores)\n",
      "NOTE:       total memory            756.70G\n",
      "NOTE:       memory                  35.10M (0.00%)\n",
      "NOTE:       bytes moved             0.19K\n",
      "NOTE: The table MARKETDATA_CURRENT has been created in caslib CASUSER(daston) from binary data uploaded to Cloud Analytic Services.\n",
      "NOTE: Action 'table.upload' used (Total process time):\n",
      "NOTE:       real time               0.122133 seconds\n",
      "NOTE:       cpu time                0.246963 seconds (202.21%)\n",
      "NOTE:       total nodes             3 (48 cores)\n",
      "NOTE:       total memory            756.70G\n",
      "NOTE:       memory                  35.10M (0.00%)\n",
      "NOTE: Executing action 'table.loadTable'.\n",
      "NOTE: Cloud Analytic Services made the uploaded file available as table MARKETDATA_HIST in caslib CASUSER(daston).\n",
      "NOTE: Action 'table.loadTable' used (Total process time):\n",
      "NOTE:       real time               0.099901 seconds\n",
      "NOTE:       cpu time                0.208969 seconds (209.18%)\n",
      "NOTE:       data movement time      0.003006 seconds\n",
      "NOTE:       total nodes             3 (48 cores)\n",
      "NOTE:       total memory            756.70G\n",
      "NOTE:       memory                  35.07M (0.00%)\n",
      "NOTE:       bytes moved             4.59K\n",
      "NOTE: The table MARKETDATA_HIST has been created in caslib CASUSER(daston) from binary data uploaded to Cloud Analytic Services.\n",
      "NOTE: Action 'table.upload' used (Total process time):\n",
      "NOTE:       real time               0.118442 seconds\n",
      "NOTE:       cpu time                0.244963 seconds (206.82%)\n",
      "NOTE:       total nodes             3 (48 cores)\n",
      "NOTE:       total memory            756.70G\n",
      "NOTE:       memory                  35.07M (0.00%)\n",
      "NOTE: Executing action 'table.loadTable'.\n",
      "NOTE: Cloud Analytic Services made the uploaded file available as table MARKETSTATES in caslib CASUSER(daston).\n",
      "NOTE: Action 'table.loadTable' used (Total process time):\n",
      "NOTE:       real time               0.160726 seconds\n",
      "NOTE:       cpu time                0.331948 seconds (206.53%)\n",
      "NOTE:       data movement time      0.003118 seconds\n",
      "NOTE:       total nodes             3 (48 cores)\n",
      "NOTE:       total memory            756.70G\n",
      "NOTE:       memory                  67.17M (0.01%)\n",
      "NOTE:       bytes moved             1.07K\n",
      "NOTE: The table MARKETSTATES has been created in caslib CASUSER(daston) from binary data uploaded to Cloud Analytic Services.\n",
      "NOTE: Action 'table.upload' used (Total process time):\n",
      "NOTE:       real time               0.179134 seconds\n",
      "NOTE:       cpu time                0.366943 seconds (204.84%)\n",
      "NOTE:       total nodes             3 (48 cores)\n",
      "NOTE:       total memory            756.70G\n",
      "NOTE:       memory                  67.17M (0.01%)\n",
      "NOTE: Executing action 'builtins.loadActionSet'.\n",
      "NOTE: Added action set 'riskSim'.\n",
      "NOTE: Action 'builtins.loadActionSet' used (Total process time):\n",
      "NOTE:       real time               0.011179 seconds\n",
      "NOTE:       cpu time                0.023996 seconds (214.65%)\n",
      "NOTE:       total nodes             3 (48 cores)\n",
      "NOTE:       total memory            756.70G\n",
      "NOTE:       memory                  684.53K (0.00%)\n",
      "NOTE: Executing action 'riskSim.genSimulation'.\n",
      "NOTE: Starting the generate simulation action.\n",
      "NOTE: 2 risk factors were found in the historical table.\n",
      "NOTE: The table 'MarketStates_states' in caslib 'CASUSER(daston)' has 5000 observations and 5 variables.\n",
      "NOTE: Action 'riskSim.genSimulation' used (Total process time):\n",
      "NOTE:       real time               0.389056 seconds\n",
      "NOTE:       cpu time                2.770578 seconds (712.13%)\n",
      "NOTE:       data movement time      0.005626 seconds\n",
      "NOTE:       total nodes             3 (48 cores)\n",
      "NOTE:       total memory            756.70G\n",
      "NOTE:       memory                  56.88M (0.01%)\n",
      "NOTE:       bytes moved             203.18K\n"
     ],
     "output_type": "stream"
    }
   ],
   "source": [
    "market_states.generate()"
   ]
  },
  {
   "cell_type": "markdown",
   "metadata": {
    "slideshow": {
     "slide_type": "fragment"
    }
   },
   "source": [
    "Many actions create SWAT CASTable objects, which can be treated much like Pandas DataFrames:"
   ]
  },
  {
   "cell_type": "code",
   "execution_count": 8,
   "metadata": {
    "slideshow": {
     "slide_type": "fragment"
    },
    "pycharm": {
     "is_executing": false
    }
   },
   "outputs": [
    {
     "data": {
      "text/plain": "Selected Rows from Table MARKETSTATES_STATES\n\n   _rep_      _date_  _horidx_   zero_rt  creditspread_rt\n0    1.0  2020-03-03       1.0  0.024651         0.010245\n1    1.0  2020-03-04       2.0  0.024598         0.010165\n2    1.0  2020-03-05       3.0  0.024533         0.010062\n3    1.0  2020-03-06       4.0  0.024642         0.010112\n4    1.0  2020-03-09       5.0  0.024682         0.010066",
      "text/html": "<div>\n<style scoped>\n    .dataframe tbody tr th:only-of-type {\n        vertical-align: middle;\n    }\n\n    .dataframe tbody tr th {\n        vertical-align: top;\n    }\n\n    .dataframe thead th {\n        text-align: right;\n    }\n</style>\n<table border=\"1\" class=\"dataframe\"><caption>Selected Rows from Table MARKETSTATES_STATES</caption>\n  <thead>\n    <tr style=\"text-align: right;\">\n      <th title=\"\"></th>\n      <th title=\"Replication Number\">_rep_</th>\n      <th title=\"Valuation Date\">_date_</th>\n      <th title=\"Horizon Index\">_horidx_</th>\n      <th title=\"zero_rt\">zero_rt</th>\n      <th title=\"creditspread_rt\">creditspread_rt</th>\n    </tr>\n  </thead>\n  <tbody>\n    <tr>\n      <td>0</td>\n      <td>1.0</td>\n      <td>2020-03-03</td>\n      <td>1.0</td>\n      <td>0.024651</td>\n      <td>0.010245</td>\n    </tr>\n    <tr>\n      <td>1</td>\n      <td>1.0</td>\n      <td>2020-03-04</td>\n      <td>2.0</td>\n      <td>0.024598</td>\n      <td>0.010165</td>\n    </tr>\n    <tr>\n      <td>2</td>\n      <td>1.0</td>\n      <td>2020-03-05</td>\n      <td>3.0</td>\n      <td>0.024533</td>\n      <td>0.010062</td>\n    </tr>\n    <tr>\n      <td>3</td>\n      <td>1.0</td>\n      <td>2020-03-06</td>\n      <td>4.0</td>\n      <td>0.024642</td>\n      <td>0.010112</td>\n    </tr>\n    <tr>\n      <td>4</td>\n      <td>1.0</td>\n      <td>2020-03-09</td>\n      <td>5.0</td>\n      <td>0.024682</td>\n      <td>0.010066</td>\n    </tr>\n  </tbody>\n</table>\n</div>"
     },
     "metadata": {},
     "output_type": "execute_result",
     "execution_count": 8
    }
   ],
   "source": [
    "market_states.states.head()"
   ]
  },
  {
   "cell_type": "code",
   "execution_count": 9,
   "metadata": {
    "pycharm": {
     "is_executing": false
    }
   },
   "outputs": [
    {
     "data": {
      "text/plain": "Text(0.5, 1.0, 'Simulated Risk Factor Values')"
     },
     "metadata": {},
     "output_type": "execute_result",
     "execution_count": 9
    },
    {
     "data": {
      "text/plain": "<Figure size 432x288 with 1 Axes>",
      "image/png": "[encoded data removed]"
     },
     "metadata": {
      "needs_background": "light"
     },
     "output_type": "display_data"
    }
   ],
   "source": [
    "states_df = market_states.states.to_frame()\n",
    "states_df['_rep_'] = states_df['_rep_'].astype(int)\n",
    "\n",
    "for rep in range(1, market_states.num_draws):\n",
    "    if rep == 1:\n",
    "        x = states_df[states_df['_rep_'] == rep]['_date_']\n",
    "        x = pd.concat([pd.Series([market_states.as_of_date]), x])\n",
    "    y = states_df[states_df['_rep_'] == rep]['zero_rt']\n",
    "    y = pd.concat([pd.Series([0.024]), y])\n",
    "    plt.plot(x, y)\n",
    "    \n",
    "plt.xticks(rotation=45)\n",
    "plt.xlabel('Simulation Horizon Date')\n",
    "plt.ylabel('Bond Zero Rate')\n",
    "plt.title('Simulated Risk Factor Values')\n"
   ]
  },
  {
   "cell_type": "markdown",
   "metadata": {
    "slideshow": {
     "slide_type": "slide"
    }
   },
   "source": [
    "## Object: Portfolio\n",
    "A Portfolio object contains an instrument data source and cross-classification variables:"
   ]
  },
  {
   "cell_type": "code",
   "execution_count": 10,
   "metadata": {
    "slideshow": {
     "slide_type": "fragment"
    },
    "pycharm": {
     "is_executing": false
    }
   },
   "outputs": [],
   "source": [
    "portfolio = riskpy.Portfolio(\n",
    "        data = 'datasources/MarketRisk/portfolio.xlsx',\n",
    "        class_variables = ['Desk', 'Region', 'insttype'])"
   ]
  },
  {
   "cell_type": "code",
   "execution_count": 11,
   "metadata": {
    "scrolled": true,
    "pycharm": {
     "is_executing": false
    }
   },
   "outputs": [
    {
     "name": "stdout",
     "text": [
      "NOTE: Executing action 'table.loadTable'.\n",
      "NOTE: Cloud Analytic Services made the uploaded file available as table PORTFOLIO in caslib CASUSER(daston).\n",
      "NOTE: Action 'table.loadTable' used (Total process time):\n",
      "NOTE:       real time               0.174509 seconds\n",
      "NOTE:       cpu time                0.355946 seconds (203.97%)\n",
      "NOTE:       data movement time      0.004366 seconds\n",
      "NOTE:       total nodes             3 (48 cores)\n",
      "NOTE:       total memory            756.70G\n",
      "NOTE:       memory                  67.32M (0.01%)\n",
      "NOTE:       bytes moved             101.30K\n",
      "NOTE: The table PORTFOLIO has been created in caslib CASUSER(daston) from binary data uploaded to Cloud Analytic Services.\n",
      "NOTE: Action 'table.upload' used (Total process time):\n",
      "NOTE:       real time               0.195218 seconds\n",
      "NOTE:       cpu time                0.394939 seconds (202.31%)\n",
      "NOTE:       total nodes             3 (48 cores)\n",
      "NOTE:       total memory            756.70G\n",
      "NOTE:       memory                  67.32M (0.01%)\n"
     ],
     "output_type": "stream"
    },
    {
     "data": {
      "text/plain": "Selected Rows from Table PORTFOLIO\n\n      instid       insttype region desk  face_value  maturity_dt\n0  inst00001  CorporateBond   East    A     29519.0      25185.0\n1  inst00002          TBond  South    B     21685.0      23639.0\n2  inst00003          TBond   East    B     28369.0      24993.0\n3  inst00004  CorporateBond  South    C      9960.2      22780.0\n4  inst00005  CorporateBond   West    C     89014.0      24574.0",
      "text/html": "<div>\n<style scoped>\n    .dataframe tbody tr th:only-of-type {\n        vertical-align: middle;\n    }\n\n    .dataframe tbody tr th {\n        vertical-align: top;\n    }\n\n    .dataframe thead th {\n        text-align: right;\n    }\n</style>\n<table border=\"1\" class=\"dataframe\"><caption>Selected Rows from Table PORTFOLIO</caption>\n  <thead>\n    <tr style=\"text-align: right;\">\n      <th title=\"\"></th>\n      <th title=\"instid\">instid</th>\n      <th title=\"insttype\">insttype</th>\n      <th title=\"region\">region</th>\n      <th title=\"desk\">desk</th>\n      <th title=\"face_value\">face_value</th>\n      <th title=\"maturity_dt\">maturity_dt</th>\n    </tr>\n  </thead>\n  <tbody>\n    <tr>\n      <td>0</td>\n      <td>inst00001</td>\n      <td>CorporateBond</td>\n      <td>East</td>\n      <td>A</td>\n      <td>29519.0</td>\n      <td>25185.0</td>\n    </tr>\n    <tr>\n      <td>1</td>\n      <td>inst00002</td>\n      <td>TBond</td>\n      <td>South</td>\n      <td>B</td>\n      <td>21685.0</td>\n      <td>23639.0</td>\n    </tr>\n    <tr>\n      <td>2</td>\n      <td>inst00003</td>\n      <td>TBond</td>\n      <td>East</td>\n      <td>B</td>\n      <td>28369.0</td>\n      <td>24993.0</td>\n    </tr>\n    <tr>\n      <td>3</td>\n      <td>inst00004</td>\n      <td>CorporateBond</td>\n      <td>South</td>\n      <td>C</td>\n      <td>9960.2</td>\n      <td>22780.0</td>\n    </tr>\n    <tr>\n      <td>4</td>\n      <td>inst00005</td>\n      <td>CorporateBond</td>\n      <td>West</td>\n      <td>C</td>\n      <td>89014.0</td>\n      <td>24574.0</td>\n    </tr>\n  </tbody>\n</table>\n</div>"
     },
     "metadata": {},
     "output_type": "execute_result",
     "execution_count": 11
    }
   ],
   "source": [
    "portfolio.upload(session_context=conn)\n",
    "portfolio.castable.head()"
   ]
  },
  {
   "cell_type": "markdown",
   "metadata": {
    "slideshow": {
     "slide_type": "slide"
    }
   },
   "source": [
    "## Object: Method Library\n",
    "The MethodLib object points out to a code file containing pricing or evaluation methods for the analysis."
   ]
  },
  {
   "cell_type": "code",
   "execution_count": 12,
   "metadata": {
    "slideshow": {
     "slide_type": "fragment"
    },
    "pycharm": {
     "is_executing": false
    }
   },
   "outputs": [],
   "source": [
    "methods = riskpy.MethodLib(method_code='methods/bond_methods.sas')"
   ]
  },
  {
   "cell_type": "markdown",
   "metadata": {
    "slideshow": {
     "slide_type": "slide"
    }
   },
   "source": [
    "## Object: Values\n",
    "Values connects together many of the other RiskPy objects in order to evaluate the portfolio. Here, we also associate instrument types with pricing methods using the 'mapping' attribute."
   ]
  },
  {
   "cell_type": "code",
   "execution_count": 13,
   "metadata": {
    "slideshow": {
     "slide_type": "fragment"
    },
    "pycharm": {
     "is_executing": false
    }
   },
   "outputs": [],
   "source": [
    "values = riskpy.Values(\n",
    "        session_context  = conn,\n",
    "        portfolio        = portfolio,\n",
    "        market_states    = market_states,\n",
    "        method_lib       = methods,\n",
    "        mapping          = {\"CorporateBond\":\"corporate_bond\", \"TBond\":\"treasury_bond\"})"
   ]
  },
  {
   "cell_type": "markdown",
   "source": [
    "\n",
    "If you have graphviz installed, you can display a graphical view of the system:"
   ],
   "metadata": {
    "collapsed": false
   }
  },
  {
   "cell_type": "code",
   "execution_count": 14,
   "outputs": [
    {
     "data": {
      "text/plain": "Values(_name='Values', _output_variables=None, _portfolio=Portfolio(_name='Portfolio', _data='datasources/MarketRisk/portfolio.xlsx', _position_type='simple', _class_variables=['Desk', 'Region', 'insttype'], _castable=CASTable('PORTFOLIO', caslib='CASUSER(daston)'), _session_context=SessionContext(_session=CAS('rskgrd41.unx.sas.com', 11095, 'daston', protocol='cas', name='py-session-1', session='e2ecf887-d466-1a4c-bf9f-9f3e1739f167'), _caslib='CASUSER'), _env=None), _market_states=MarketStates(_name='MarketStates', _as_of_date=datetime.datetime(2020, 3, 2, 0, 0), _market_data=MarketData(_name='MarketData', _historical='datasources/MarketRisk/history.xlsx', _historical_cas=CASTable('MARKETDATA_HIST', caslib='CASUSER(daston)'), _current='datasources/MarketRisk/current.xlsx', _current_cas=CASTable('MARKETDATA_CURRENT', caslib='CASUSER(daston)'), _risk_factors=['zero_rt', 'creditspread_rt'], _session_context=SessionContext(_session=CAS('rskgrd41.unx.sas.com', 11095, 'daston', protocol='cas', name='py-session-1', session='e2ecf887-d466-1a4c-bf9f-9f3e1739f167'), _caslib='CASUSER')), _sim_type='GENSIM', _num_horizons=10, _states=CASTable('MarketStates_states', caslib='CASUSER(daston)'), _num_draws=500, _session_context=SessionContext(_session=CAS('rskgrd41.unx.sas.com', 11095, 'daston', protocol='cas', name='py-session-1', session='e2ecf887-d466-1a4c-bf9f-9f3e1739f167'), _caslib='CASUSER'), _env=CASTable('MARKETSTATES', caslib='CASUSER(daston)')), _scenarios=None, _method_lib=MethodLib(_name='MethodLib', _method_list=None, _session_context=None, _methods_table=None, _method_code='methods/bond_methods.sas'), _scores=None, _mapping={'CorporateBond': 'corporate_bond', 'TBond': 'treasury_bond'}, _session_context=SessionContext(_session=CAS('rskgrd41.unx.sas.com', 11095, 'daston', protocol='cas', name='py-session-1', session='e2ecf887-d466-1a4c-bf9f-9f3e1739f167'), _caslib='CASUSER'), _env_in=None, _values=None)",
      "image/svg+xml": "<?xml version=\"1.0\" encoding=\"UTF-8\" standalone=\"no\"?>\r\n<!DOCTYPE svg PUBLIC \"-//W3C//DTD SVG 1.1//EN\"\r\n \"http://www.w3.org/Graphics/SVG/1.1/DTD/svg11.dtd\">\r\n<!-- Generated by graphviz version 2.38.0 (20140413.2041)\r\n -->\r\n<!-- Title: 2223595067768 Pages: 1 -->\r\n<svg width=\"521pt\" height=\"374pt\"\r\n viewBox=\"0.00 0.00 520.50 374.00\" xmlns=\"http://www.w3.org/2000/svg\" xmlns:xlink=\"http://www.w3.org/1999/xlink\">\r\n<g id=\"graph0\" class=\"graph\" transform=\"scale(1 1) rotate(0) translate(4 370)\">\r\n<title>2223595067768</title>\r\n<polygon fill=\"white\" stroke=\"none\" points=\"-4,4 -4,-370 516.5,-370 516.5,4 -4,4\"/>\r\n<!-- 2223595067768 -->\r\n<g id=\"node1\" class=\"node\"><title>2223595067768</title>\r\n<path fill=\"#f0f0f0\" stroke=\"#a0a0a0\" d=\"M270.5,-366C270.5,-366 201.5,-366 201.5,-366 195.5,-366 189.5,-360 189.5,-354 189.5,-354 189.5,-310 189.5,-310 189.5,-304 195.5,-298 201.5,-298 201.5,-298 270.5,-298 270.5,-298 276.5,-298 282.5,-304 282.5,-310 282.5,-310 282.5,-354 282.5,-354 282.5,-360 276.5,-366 270.5,-366\"/>\r\n<text text-anchor=\"start\" x=\"215.5\" y=\"-351.8\" font-family=\"Times New Roman,serif\" font-weight=\"bold\" font-size=\"14.00\">Values</text>\r\n<text text-anchor=\"start\" x=\"212\" y=\"-335.8\" font-family=\"Times New Roman,serif\" font-size=\"14.00\">portfolio</text>\r\n<text text-anchor=\"start\" x=\"198\" y=\"-320.8\" font-family=\"Times New Roman,serif\" font-size=\"14.00\">market_states</text>\r\n<text text-anchor=\"start\" x=\"204.5\" y=\"-305.8\" font-family=\"Times New Roman,serif\" font-size=\"14.00\">method_lib</text>\r\n</g>\r\n<!-- 2223560029352 -->\r\n<g id=\"node2\" class=\"node\"><title>2223560029352</title>\r\n<path fill=\"#f0f0f0\" stroke=\"#a0a0a0\" d=\"M136,-247C136,-247 12,-247 12,-247 6,-247 0,-241 0,-235 0,-235 0,-176 0,-176 0,-170 6,-164 12,-164 12,-164 136,-164 136,-164 142,-164 148,-170 148,-176 148,-176 148,-235 148,-235 148,-241 142,-247 136,-247\"/>\r\n<text text-anchor=\"start\" x=\"46.5\" y=\"-232.3\" font-family=\"Times New Roman,serif\" font-weight=\"bold\" font-size=\"14.00\">Portfolio</text>\r\n<text text-anchor=\"start\" x=\"58\" y=\"-216.3\" font-family=\"Times New Roman,serif\" font-size=\"14.00\">data=</text>\r\n<text text-anchor=\"start\" x=\"8\" y=\"-201.3\" font-family=\"Times New Roman,serif\" font-size=\"14.00\">&quot;... Risk/portfolio.xlsx&quot;</text>\r\n<text text-anchor=\"start\" x=\"27.5\" y=\"-186.3\" font-family=\"Times New Roman,serif\" font-size=\"14.00\">class_variables=</text>\r\n<text text-anchor=\"start\" x=\"13.5\" y=\"-171.3\" font-family=\"Times New Roman,serif\" font-size=\"14.00\">[&#39;Desk&#39;, &#39;Region&#39;, &#39;i ...</text>\r\n</g>\r\n<!-- 2223595067768&#45;&gt;2223560029352 -->\r\n<g id=\"edge1\" class=\"edge\"><title>2223595067768:portfolio&#45;&gt;2223560029352</title>\r\n<path fill=\"none\" stroke=\"black\" d=\"M197,-340C149.735,-340 115.635,-294.181 95.496,-256.228\"/>\r\n<polygon fill=\"black\" stroke=\"black\" points=\"98.59,-254.591 90.9221,-247.28 92.357,-257.777 98.59,-254.591\"/>\r\n</g>\r\n<!-- 2223551410416 -->\r\n<g id=\"node3\" class=\"node\"><title>2223551410416</title>\r\n<path fill=\"#f0f0f0\" stroke=\"#a0a0a0\" d=\"M295.5,-262C295.5,-262 178.5,-262 178.5,-262 172.5,-262 166.5,-256 166.5,-250 166.5,-250 166.5,-161 166.5,-161 166.5,-155 172.5,-149 178.5,-149 178.5,-149 295.5,-149 295.5,-149 301.5,-149 307.5,-155 307.5,-161 307.5,-161 307.5,-250 307.5,-250 307.5,-256 301.5,-262 295.5,-262\"/>\r\n<text text-anchor=\"start\" x=\"195\" y=\"-247.3\" font-family=\"Times New Roman,serif\" font-weight=\"bold\" font-size=\"14.00\">MarketStates</text>\r\n<text text-anchor=\"start\" x=\"175\" y=\"-231.3\" font-family=\"Times New Roman,serif\" font-size=\"14.00\">sim_type=&quot;GENSIM&quot;</text>\r\n<text text-anchor=\"start\" x=\"203\" y=\"-216.3\" font-family=\"Times New Roman,serif\" font-size=\"14.00\">market_data</text>\r\n<text text-anchor=\"start\" x=\"186.5\" y=\"-201.3\" font-family=\"Times New Roman,serif\" font-size=\"14.00\">num_horizons=10</text>\r\n<text text-anchor=\"start\" x=\"190.5\" y=\"-186.3\" font-family=\"Times New Roman,serif\" font-size=\"14.00\">num_draws=500</text>\r\n<text text-anchor=\"start\" x=\"202\" y=\"-171.3\" font-family=\"Times New Roman,serif\" font-size=\"14.00\">as_of_date=</text>\r\n<text text-anchor=\"start\" x=\"180.5\" y=\"-156.3\" font-family=\"Times New Roman,serif\" font-size=\"14.00\">2020&#45;03&#45;02 00:00:00</text>\r\n</g>\r\n<!-- 2223595067768&#45;&gt;2223551410416 -->\r\n<g id=\"edge2\" class=\"edge\"><title>2223595067768:market_states&#45;&gt;2223551410416</title>\r\n<path fill=\"none\" stroke=\"black\" d=\"M276,-324C301.698,-324 294.886,-298.371 280.324,-271.052\"/>\r\n<polygon fill=\"black\" stroke=\"black\" points=\"283.287,-269.178 275.356,-262.153 277.175,-272.591 283.287,-269.178\"/>\r\n</g>\r\n<!-- 2223594909256 -->\r\n<g id=\"node5\" class=\"node\"><title>2223594909256</title>\r\n<path fill=\"#f0f0f0\" stroke=\"#a0a0a0\" d=\"M500.5,-232C500.5,-232 337.5,-232 337.5,-232 331.5,-232 325.5,-226 325.5,-220 325.5,-220 325.5,-191 325.5,-191 325.5,-185 331.5,-179 337.5,-179 337.5,-179 500.5,-179 500.5,-179 506.5,-179 512.5,-185 512.5,-191 512.5,-191 512.5,-220 512.5,-220 512.5,-226 506.5,-232 500.5,-232\"/>\r\n<text text-anchor=\"start\" x=\"385.5\" y=\"-217.3\" font-family=\"Times New Roman,serif\" font-weight=\"bold\" font-size=\"14.00\">MethodLib</text>\r\n<text text-anchor=\"start\" x=\"376.5\" y=\"-201.3\" font-family=\"Times New Roman,serif\" font-size=\"14.00\">method_code=</text>\r\n<text text-anchor=\"start\" x=\"334\" y=\"-186.3\" font-family=\"Times New Roman,serif\" font-size=\"14.00\">&quot;methods/bond_methods.sas&quot;</text>\r\n</g>\r\n<!-- 2223595067768&#45;&gt;2223594909256 -->\r\n<g id=\"edge4\" class=\"edge\"><title>2223595067768:method_lib&#45;&gt;2223594909256</title>\r\n<path fill=\"none\" stroke=\"black\" d=\"M276,-309C324.368,-309 367.613,-269.783 393.566,-239.864\"/>\r\n<polygon fill=\"black\" stroke=\"black\" points=\"396.339,-242.005 400.101,-232.101 390.983,-237.497 396.339,-242.005\"/>\r\n</g>\r\n<!-- 2223543270480 -->\r\n<g id=\"node4\" class=\"node\"><title>2223543270480</title>\r\n<path fill=\"#f0f0f0\" stroke=\"#a0a0a0\" d=\"M300,-113C300,-113 176,-113 176,-113 170,-113 164,-107 164,-101 164,-101 164,-12 164,-12 164,-6 170,-0 176,-0 176,-0 300,-0 300,-0 306,-0 312,-6 312,-12 312,-12 312,-101 312,-101 312,-107 306,-113 300,-113\"/>\r\n<text text-anchor=\"start\" x=\"199.5\" y=\"-98.3\" font-family=\"Times New Roman,serif\" font-weight=\"bold\" font-size=\"14.00\">MarketData</text>\r\n<text text-anchor=\"start\" x=\"208.5\" y=\"-82.3\" font-family=\"Times New Roman,serif\" font-size=\"14.00\">historical=</text>\r\n<text text-anchor=\"start\" x=\"172.5\" y=\"-67.3\" font-family=\"Times New Roman,serif\" font-size=\"14.00\">&quot;... etRisk/history.xlsx&quot;</text>\r\n<text text-anchor=\"start\" x=\"214\" y=\"-52.3\" font-family=\"Times New Roman,serif\" font-size=\"14.00\">current=</text>\r\n<text text-anchor=\"start\" x=\"172\" y=\"-37.3\" font-family=\"Times New Roman,serif\" font-size=\"14.00\">&quot;... etRisk/current.xlsx&quot;</text>\r\n<text text-anchor=\"start\" x=\"200\" y=\"-22.3\" font-family=\"Times New Roman,serif\" font-size=\"14.00\">risk_factors=</text>\r\n<text text-anchor=\"start\" x=\"177.5\" y=\"-7.3\" font-family=\"Times New Roman,serif\" font-size=\"14.00\">[&#39;zero_rt&#39;, &#39;creditsp ...</text>\r\n</g>\r\n<!-- 2223551410416&#45;&gt;2223543270480 -->\r\n<g id=\"edge3\" class=\"edge\"><title>2223551410416:market_data&#45;&gt;2223543270480</title>\r\n<path fill=\"none\" stroke=\"black\" d=\"M301,-220.5C316.89,-220.5 304.768,-164.158 300,-149 297.115,-139.83 292.986,-130.745 288.208,-122.062\"/>\r\n<polygon fill=\"black\" stroke=\"black\" points=\"291.084,-120.046 283.02,-113.174 285.038,-123.575 291.084,-120.046\"/>\r\n</g>\r\n</g>\r\n</svg>\r\n"
     },
     "metadata": {},
     "output_type": "execute_result",
     "execution_count": 14
    }
   ],
   "source": [
    "values"
   ],
   "metadata": {
    "collapsed": false,
    "pycharm": {
     "name": "#%%\n",
     "is_executing": false
    }
   }
  },
  {
   "cell_type": "markdown",
   "metadata": {
    "slideshow": {
     "slide_type": "subslide"
    }
   },
   "source": [
    "Now, evaluating the portfolio is as easy as calling a function. We specify write_prices=True to create a table of prices (called \"allprice\") for the positions in the portfolio at all market states and horizons. "
   ]
  },
  {
   "cell_type": "code",
   "execution_count": 15,
   "metadata": {
    "collapsed": true,
    "slideshow": {
     "slide_type": "fragment"
    },
    "pycharm": {
     "is_executing": false
    }
   },
   "outputs": [
    {
     "name": "stdout",
     "text": [
      "NOTE: Executing action 'table.loadTable'.\n",
      "NOTE: Cloud Analytic Services made the uploaded file available as table MARKETDATA_CURRENT in caslib CASUSER(daston).\n",
      "NOTE: Action 'table.loadTable' used (Total process time):\n",
      "NOTE:       real time               0.092712 seconds\n",
      "NOTE:       cpu time                0.203968 seconds (220.00%)\n",
      "NOTE:       data movement time      0.002695 seconds\n",
      "NOTE:       total nodes             3 (48 cores)\n",
      "NOTE:       total memory            756.70G\n",
      "NOTE:       memory                  35.05M (0.00%)\n",
      "NOTE:       bytes moved             0.19K\n",
      "NOTE: The table MARKETDATA_CURRENT has been created in caslib CASUSER(daston) from binary data uploaded to Cloud Analytic Services.\n",
      "NOTE: Action 'table.upload' used (Total process time):\n",
      "NOTE:       real time               0.110697 seconds\n",
      "NOTE:       cpu time                0.236964 seconds (214.07%)\n",
      "NOTE:       total nodes             3 (48 cores)\n",
      "NOTE:       total memory            756.70G\n",
      "NOTE:       memory                  35.05M (0.00%)\n",
      "NOTE: Executing action 'table.loadTable'.\n",
      "NOTE: Cloud Analytic Services made the uploaded file available as table MARKETDATA_HIST in caslib CASUSER(daston).\n",
      "NOTE: Action 'table.loadTable' used (Total process time):\n",
      "NOTE:       real time               0.098008 seconds\n",
      "NOTE:       cpu time                0.209970 seconds (214.24%)\n",
      "NOTE:       data movement time      0.003169 seconds\n",
      "NOTE:       total nodes             3 (48 cores)\n",
      "NOTE:       total memory            756.70G\n",
      "NOTE:       memory                  35.10M (0.00%)\n",
      "NOTE:       bytes moved             4.59K\n",
      "NOTE: The table MARKETDATA_HIST has been created in caslib CASUSER(daston) from binary data uploaded to Cloud Analytic Services.\n",
      "NOTE: Action 'table.upload' used (Total process time):\n",
      "NOTE:       real time               0.119544 seconds\n",
      "NOTE:       cpu time                0.246964 seconds (206.59%)\n",
      "NOTE:       total nodes             3 (48 cores)\n",
      "NOTE:       total memory            756.70G\n",
      "NOTE:       memory                  35.10M (0.00%)\n",
      "NOTE: Executing action 'builtins.loadActionSet'.\n",
      "NOTE: Added action set 'riskMethods'.\n",
      "NOTE: Action 'builtins.loadActionSet' used (Total process time):\n",
      "NOTE:       real time               0.011826 seconds\n",
      "NOTE:       cpu time                0.024997 seconds (211.37%)\n",
      "NOTE:       total nodes             3 (48 cores)\n",
      "NOTE:       total memory            756.70G\n",
      "NOTE:       memory                  627.41K (0.00%)\n",
      "NOTE: Executing action 'riskMethods.add'.\n",
      "NOTE: Action 'riskMethods.add' used (Total process time):\n",
      "NOTE:       real time               0.077449 seconds\n",
      "NOTE:       cpu time                0.174973 seconds (225.92%)\n",
      "NOTE:       data movement time      0.003496 seconds\n",
      "NOTE:       total nodes             3 (48 cores)\n",
      "NOTE:       total memory            756.70G\n",
      "NOTE:       memory                  5.54M (0.00%)\n",
      "NOTE:       bytes moved             14.70K\n",
      "NOTE: Executing action 'table.loadTable'.\n",
      "NOTE: Cloud Analytic Services made the uploaded file available as table VALUES_ENV_IN in caslib CASUSER(daston).\n",
      "NOTE: Action 'table.loadTable' used (Total process time):\n",
      "NOTE:       real time               0.159906 seconds\n",
      "NOTE:       cpu time                0.331952 seconds (207.59%)\n",
      "NOTE:       data movement time      0.002916 seconds\n",
      "NOTE:       total nodes             3 (48 cores)\n",
      "NOTE:       total memory            756.70G\n",
      "NOTE:       memory                  67.19M (0.01%)\n",
      "NOTE:       bytes moved             2.71K\n",
      "NOTE: The table VALUES_ENV_IN has been created in caslib CASUSER(daston) from binary data uploaded to Cloud Analytic Services.\n",
      "NOTE: Action 'table.upload' used (Total process time):\n",
      "NOTE:       real time               0.178885 seconds\n",
      "NOTE:       cpu time                0.367944 seconds (205.69%)\n",
      "NOTE:       total nodes             3 (48 cores)\n",
      "NOTE:       total memory            756.70G\n",
      "NOTE:       memory                  67.19M (0.01%)\n",
      "NOTE: Executing action 'builtins.loadActionSet'.\n",
      "NOTE: Added action set 'riskRun'.\n",
      "NOTE: Action 'builtins.loadActionSet' used (Total process time):\n",
      "NOTE:       real time               0.011302 seconds\n",
      "NOTE:       cpu time                0.024997 seconds (221.17%)\n",
      "NOTE:       total nodes             3 (48 cores)\n",
      "NOTE:       total memory            756.70G\n",
      "NOTE:       memory                  676.75K (0.00%)\n",
      "NOTE: Executing action 'riskRun.evaluatePortfolio'.\n",
      "NOTE: The table 'Values_ENV_OUT' in caslib 'CASUSER(daston)' has 20 observations and 7 variables.\n",
      "NOTE: The table 'Values_values' in caslib 'CASUSER(daston)' has 1000 observations and 6 variables.\n",
      "NOTE: The table 'Values_allprice' in caslib 'CASUSER(daston)' has 5001000 observations and 7 variables.\n",
      "NOTE: Action 'riskRun.evaluatePortfolio' used (Total process time):\n",
      "NOTE:       real time               10.955572 seconds\n",
      "NOTE:       cpu time                22.135634 seconds (202.05%)\n",
      "NOTE:       data movement time      0.013723 seconds\n",
      "NOTE:       total nodes             3 (48 cores)\n",
      "NOTE:       total memory            756.70G\n",
      "NOTE:       memory                  239.07M (0.03%)\n",
      "NOTE:       bytes moved             462.98M\n"
     ],
     "output_type": "stream"
    }
   ],
   "source": [
    "values.evaluate(write_prices=True)"
   ]
  },
  {
   "cell_type": "code",
   "execution_count": 16,
   "metadata": {
    "slideshow": {
     "slide_type": "fragment"
    },
    "pycharm": {
     "is_executing": false
    }
   },
   "outputs": [
    {
     "data": {
      "text/plain": "Selected Rows from Table VALUES_ALLPRICE\n\n  AnalysisName  _horidx_  _rep_      _date_  FX_Rate     instid         Value\n0     BASECASE       NaN    NaN  2020-03-02      1.0  inst00001  21868.747486\n1                    1.0    1.0  2020-03-03      1.0  inst00001  21722.278563\n2                    1.0    2.0  2020-03-03      1.0  inst00001  22047.770580\n3                    1.0    3.0  2020-03-03      1.0  inst00001  21951.228320\n4                    1.0    4.0  2020-03-03      1.0  inst00001  21936.004012",
      "text/html": "<div>\n<style scoped>\n    .dataframe tbody tr th:only-of-type {\n        vertical-align: middle;\n    }\n\n    .dataframe tbody tr th {\n        vertical-align: top;\n    }\n\n    .dataframe thead th {\n        text-align: right;\n    }\n</style>\n<table border=\"1\" class=\"dataframe\"><caption>Selected Rows from Table VALUES_ALLPRICE</caption>\n  <thead>\n    <tr style=\"text-align: right;\">\n      <th title=\"\"></th>\n      <th title=\"Analysis name\">AnalysisName</th>\n      <th title=\"Horizon Index\">_horidx_</th>\n      <th title=\"Replication Number\">_rep_</th>\n      <th title=\"Valuation Date\">_date_</th>\n      <th title=\"FX_Rate\">FX_Rate</th>\n      <th title=\"instid\">instid</th>\n      <th title=\"Value\">Value</th>\n    </tr>\n  </thead>\n  <tbody>\n    <tr>\n      <td>0</td>\n      <td>BASECASE</td>\n      <td>NaN</td>\n      <td>NaN</td>\n      <td>2020-03-02</td>\n      <td>1.0</td>\n      <td>inst00001</td>\n      <td>21868.747486</td>\n    </tr>\n    <tr>\n      <td>1</td>\n      <td></td>\n      <td>1.0</td>\n      <td>1.0</td>\n      <td>2020-03-03</td>\n      <td>1.0</td>\n      <td>inst00001</td>\n      <td>21722.278563</td>\n    </tr>\n    <tr>\n      <td>2</td>\n      <td></td>\n      <td>1.0</td>\n      <td>2.0</td>\n      <td>2020-03-03</td>\n      <td>1.0</td>\n      <td>inst00001</td>\n      <td>22047.770580</td>\n    </tr>\n    <tr>\n      <td>3</td>\n      <td></td>\n      <td>1.0</td>\n      <td>3.0</td>\n      <td>2020-03-03</td>\n      <td>1.0</td>\n      <td>inst00001</td>\n      <td>21951.228320</td>\n    </tr>\n    <tr>\n      <td>4</td>\n      <td></td>\n      <td>1.0</td>\n      <td>4.0</td>\n      <td>2020-03-03</td>\n      <td>1.0</td>\n      <td>inst00001</td>\n      <td>21936.004012</td>\n    </tr>\n  </tbody>\n</table>\n</div>"
     },
     "metadata": {},
     "output_type": "execute_result",
     "execution_count": 16
    }
   ],
   "source": [
    "values.allprice.head()"
   ]
  },
  {
   "cell_type": "markdown",
   "metadata": {
    "slideshow": {
     "slide_type": "slide"
    }
   },
   "source": [
    "## Object: Results\n",
    "By configuring the Results object, we can query for prices, statistics, and densities. The flexibility of this object allows us to slice and dice the results any way we like."
   ]
  },
  {
   "cell_type": "code",
   "execution_count": 17,
   "metadata": {
    "slideshow": {
     "slide_type": "fragment"
    },
    "pycharm": {
     "is_executing": false
    }
   },
   "outputs": [],
   "source": [
    "results = riskpy.Results(\n",
    "    values=values, \n",
    "    session_context=conn)"
   ]
  },
  {
   "cell_type": "markdown",
   "metadata": {
    "slideshow": {
     "slide_type": "subslide"
    }
   },
   "source": [
    "### Default: All statistics\n",
    "By default, a query returns all statistics, for all output variables, at all horizons, aggregated to the top level of the portfolio."
   ]
  },
  {
   "cell_type": "code",
   "execution_count": 18,
   "metadata": {
    "slideshow": {
     "slide_type": "fragment"
    },
    "pycharm": {
     "is_executing": false
    }
   },
   "outputs": [
    {
     "name": "stdout",
     "text": [
      "NOTE: Executing action 'builtins.loadActionSet'.\n",
      "NOTE: Added action set 'riskresults'.\n",
      "NOTE: Action 'builtins.loadActionSet' used (Total process time):\n",
      "NOTE:       real time               0.010483 seconds\n",
      "NOTE:       cpu time                0.020996 seconds (200.29%)\n",
      "NOTE:       total nodes             3 (48 cores)\n",
      "NOTE:       total memory            756.70G\n",
      "NOTE:       memory                  656.16K (0.00%)\n",
      "NOTE: Executing action 'riskResults.query'.\n",
      "NOTE: Starting the query action.\n",
      "NOTE: The table 'Results_stat' in caslib 'CASUSER(daston)' has 20 observations and 42 variables.\n",
      "NOTE: Action 'riskResults.query' used (Total process time):\n",
      "NOTE:       real time               1.643500 seconds\n",
      "NOTE:       cpu time                14.305826 seconds (870.45%)\n",
      "NOTE:       data movement time      0.013903 seconds\n",
      "NOTE:       total nodes             3 (48 cores)\n",
      "NOTE:       total memory            756.70G\n",
      "NOTE:       memory                  105.85M (0.01%)\n",
      "NOTE:       bytes moved             215.88K\n"
     ],
     "output_type": "stream"
    }
   ],
   "source": [
    "query = results.query()"
   ]
  },
  {
   "cell_type": "code",
   "execution_count": 19,
   "metadata": {
    "slideshow": {
     "slide_type": "fragment"
    },
    "pycharm": {
     "is_executing": false
    }
   },
   "outputs": [
    {
     "data": {
      "text/plain": "Selected Rows from Table RESULTS_STAT\n\n    NInst  alpha OutputVariable  _horizon_      _date_  _horidx_ ResultName  \\\n0  1000.0   0.05          Value        1.0  2020-03-03       1.0              \n1  1000.0   0.05          Value        2.0  2020-03-04       2.0              \n2  1000.0   0.05          Value        3.0  2020-03-05       3.0              \n3  1000.0   0.05          Value        4.0  2020-03-06       4.0              \n4  1000.0   0.05          Value        5.0  2020-03-09       5.0              \n\n   BASECASEVALUE  NREPS      N  ...  ESWO         INCES       CONTVAR  \\\n0   4.485755e+07  500.0  500.0  ...   0.0  4.480594e+07  4.481986e+07   \n1   4.485755e+07  500.0  500.0  ...   0.0  4.478909e+07  4.480324e+07   \n2   4.485755e+07  500.0  500.0  ...   0.0  4.476936e+07  4.479015e+07   \n3   4.485755e+07  500.0  500.0  ...   0.0  4.475987e+07  4.478496e+07   \n4   4.485755e+07  500.0  500.0  ...   0.0  4.475724e+07  4.478150e+07   \n\n         CONTES  CE  PFE  EE  EEE  EPE  EEPE  \n0  4.480594e+07 NaN  NaN NaN  NaN  NaN   NaN  \n1  4.478909e+07 NaN  NaN NaN  NaN  NaN   NaN  \n2  4.476936e+07 NaN  NaN NaN  NaN  NaN   NaN  \n3  4.475987e+07 NaN  NaN NaN  NaN  NaN   NaN  \n4  4.475724e+07 NaN  NaN NaN  NaN  NaN   NaN  \n\n[5 rows x 42 columns]",
      "text/html": "<div>\n<style scoped>\n    .dataframe tbody tr th:only-of-type {\n        vertical-align: middle;\n    }\n\n    .dataframe tbody tr th {\n        vertical-align: top;\n    }\n\n    .dataframe thead th {\n        text-align: right;\n    }\n</style>\n<table border=\"1\" class=\"dataframe\"><caption>Selected Rows from Table RESULTS_STAT</caption>\n  <thead>\n    <tr style=\"text-align: right;\">\n      <th title=\"\"></th>\n      <th title=\"Number of Instruments\">NInst</th>\n      <th title=\"Alpha\">alpha</th>\n      <th title=\"Output Variable\">OutputVariable</th>\n      <th title=\"Horizon Interval Number\">_horizon_</th>\n      <th title=\"Valuation Date\">_date_</th>\n      <th title=\"Horizon Index\">_horidx_</th>\n      <th title=\"Result Name\">ResultName</th>\n      <th title=\"BASECASEVALUE\">BASECASEVALUE</th>\n      <th title=\"NREPS\">NREPS</th>\n      <th title=\"N\">N</th>\n      <th title=\"...\">...</th>\n      <th title=\"ESWO\">ESWO</th>\n      <th title=\"INCES\">INCES</th>\n      <th title=\"CONTVAR\">CONTVAR</th>\n      <th title=\"CONTES\">CONTES</th>\n      <th title=\"CE\">CE</th>\n      <th title=\"PFE\">PFE</th>\n      <th title=\"EE\">EE</th>\n      <th title=\"EEE\">EEE</th>\n      <th title=\"EPE\">EPE</th>\n      <th title=\"EEPE\">EEPE</th>\n    </tr>\n  </thead>\n  <tbody>\n    <tr>\n      <td>0</td>\n      <td>1000.0</td>\n      <td>0.05</td>\n      <td>Value</td>\n      <td>1.0</td>\n      <td>2020-03-03</td>\n      <td>1.0</td>\n      <td></td>\n      <td>4.485755e+07</td>\n      <td>500.0</td>\n      <td>500.0</td>\n      <td>...</td>\n      <td>0.0</td>\n      <td>4.480594e+07</td>\n      <td>4.481986e+07</td>\n      <td>4.480594e+07</td>\n      <td>NaN</td>\n      <td>NaN</td>\n      <td>NaN</td>\n      <td>NaN</td>\n      <td>NaN</td>\n      <td>NaN</td>\n    </tr>\n    <tr>\n      <td>1</td>\n      <td>1000.0</td>\n      <td>0.05</td>\n      <td>Value</td>\n      <td>2.0</td>\n      <td>2020-03-04</td>\n      <td>2.0</td>\n      <td></td>\n      <td>4.485755e+07</td>\n      <td>500.0</td>\n      <td>500.0</td>\n      <td>...</td>\n      <td>0.0</td>\n      <td>4.478909e+07</td>\n      <td>4.480324e+07</td>\n      <td>4.478909e+07</td>\n      <td>NaN</td>\n      <td>NaN</td>\n      <td>NaN</td>\n      <td>NaN</td>\n      <td>NaN</td>\n      <td>NaN</td>\n    </tr>\n    <tr>\n      <td>2</td>\n      <td>1000.0</td>\n      <td>0.05</td>\n      <td>Value</td>\n      <td>3.0</td>\n      <td>2020-03-05</td>\n      <td>3.0</td>\n      <td></td>\n      <td>4.485755e+07</td>\n      <td>500.0</td>\n      <td>500.0</td>\n      <td>...</td>\n      <td>0.0</td>\n      <td>4.476936e+07</td>\n      <td>4.479015e+07</td>\n      <td>4.476936e+07</td>\n      <td>NaN</td>\n      <td>NaN</td>\n      <td>NaN</td>\n      <td>NaN</td>\n      <td>NaN</td>\n      <td>NaN</td>\n    </tr>\n    <tr>\n      <td>3</td>\n      <td>1000.0</td>\n      <td>0.05</td>\n      <td>Value</td>\n      <td>4.0</td>\n      <td>2020-03-06</td>\n      <td>4.0</td>\n      <td></td>\n      <td>4.485755e+07</td>\n      <td>500.0</td>\n      <td>500.0</td>\n      <td>...</td>\n      <td>0.0</td>\n      <td>4.475987e+07</td>\n      <td>4.478496e+07</td>\n      <td>4.475987e+07</td>\n      <td>NaN</td>\n      <td>NaN</td>\n      <td>NaN</td>\n      <td>NaN</td>\n      <td>NaN</td>\n      <td>NaN</td>\n    </tr>\n    <tr>\n      <td>4</td>\n      <td>1000.0</td>\n      <td>0.05</td>\n      <td>Value</td>\n      <td>5.0</td>\n      <td>2020-03-09</td>\n      <td>5.0</td>\n      <td></td>\n      <td>4.485755e+07</td>\n      <td>500.0</td>\n      <td>500.0</td>\n      <td>...</td>\n      <td>0.0</td>\n      <td>4.475724e+07</td>\n      <td>4.478150e+07</td>\n      <td>4.475724e+07</td>\n      <td>NaN</td>\n      <td>NaN</td>\n      <td>NaN</td>\n      <td>NaN</td>\n      <td>NaN</td>\n      <td>NaN</td>\n    </tr>\n  </tbody>\n</table>\n<p>5 rows × 42 columns</p>\n</div>"
     },
     "metadata": {},
     "output_type": "execute_result",
     "execution_count": 19
    }
   ],
   "source": [
    "query.head()"
   ]
  },
  {
   "cell_type": "markdown",
   "metadata": {
    "slideshow": {
     "slide_type": "subslide"
    }
   },
   "source": [
    "### Filter by statistic, horizon, and output variable\n",
    "\n",
    "Let's narrow down the data by configuring attributes of the Results object:"
   ]
  },
  {
   "cell_type": "code",
   "execution_count": 20,
   "metadata": {
    "slideshow": {
     "slide_type": "fragment"
    },
    "pycharm": {
     "is_executing": false
    }
   },
   "outputs": [
    {
     "name": "stdout",
     "text": [
      "NOTE: Executing action 'builtins.loadActionSet'.\n",
      "NOTE: Added action set 'riskresults'.\n",
      "NOTE: Action 'builtins.loadActionSet' used (Total process time):\n",
      "NOTE:       real time               0.006916 seconds\n",
      "NOTE:       cpu time                0.011999 seconds (173.50%)\n",
      "NOTE:       total nodes             3 (48 cores)\n",
      "NOTE:       total memory            756.70G\n",
      "NOTE:       memory                  652.97K (0.00%)\n",
      "NOTE: Executing action 'riskResults.query'.\n",
      "NOTE: Starting the query action.\n",
      "NOTE: The table 'Results_stat' in caslib 'CASUSER(daston)' has 1 observations and 9 variables.\n",
      "NOTE: Action 'riskResults.query' used (Total process time):\n",
      "NOTE:       real time               0.943857 seconds\n",
      "NOTE:       cpu time                8.056775 seconds (853.60%)\n",
      "NOTE:       data movement time      0.014190 seconds\n",
      "NOTE:       total nodes             3 (48 cores)\n",
      "NOTE:       total memory            756.70G\n",
      "NOTE:       memory                  101.75M (0.01%)\n",
      "NOTE:       bytes moved             209.03K\n"
     ],
     "output_type": "stream"
    }
   ],
   "source": [
    "results.statistics = ['VAR', 'ES']\n",
    "results.horizons = 1\n",
    "results.outvars = 'PL'\n",
    "\n",
    "query = results.query()"
   ]
  },
  {
   "cell_type": "code",
   "execution_count": 21,
   "metadata": {
    "slideshow": {
     "slide_type": "fragment"
    },
    "pycharm": {
     "is_executing": false
    }
   },
   "outputs": [
    {
     "data": {
      "text/plain": "Selected Rows from Table RESULTS_STAT\n\n    NInst  alpha OutputVariable  _horizon_      _date_  _horidx_ ResultName  \\\n0  1000.0   0.05             PL        1.0  2020-03-03       1.0              \n\n            VAR            ES  \n0  37692.906226  51617.666695  ",
      "text/html": "<div>\n<style scoped>\n    .dataframe tbody tr th:only-of-type {\n        vertical-align: middle;\n    }\n\n    .dataframe tbody tr th {\n        vertical-align: top;\n    }\n\n    .dataframe thead th {\n        text-align: right;\n    }\n</style>\n<table border=\"1\" class=\"dataframe\"><caption>Selected Rows from Table RESULTS_STAT</caption>\n  <thead>\n    <tr style=\"text-align: right;\">\n      <th title=\"\"></th>\n      <th title=\"Number of Instruments\">NInst</th>\n      <th title=\"Alpha\">alpha</th>\n      <th title=\"Output Variable\">OutputVariable</th>\n      <th title=\"Horizon Interval Number\">_horizon_</th>\n      <th title=\"Valuation Date\">_date_</th>\n      <th title=\"Horizon Index\">_horidx_</th>\n      <th title=\"Result Name\">ResultName</th>\n      <th title=\"VAR\">VAR</th>\n      <th title=\"ES\">ES</th>\n    </tr>\n  </thead>\n  <tbody>\n    <tr>\n      <td>0</td>\n      <td>1000.0</td>\n      <td>0.05</td>\n      <td>PL</td>\n      <td>1.0</td>\n      <td>2020-03-03</td>\n      <td>1.0</td>\n      <td></td>\n      <td>37692.906226</td>\n      <td>51617.666695</td>\n    </tr>\n  </tbody>\n</table>\n</div>"
     },
     "metadata": {},
     "output_type": "execute_result",
     "execution_count": 21
    }
   ],
   "source": [
    "query.head()"
   ]
  },
  {
   "cell_type": "markdown",
   "metadata": {
    "slideshow": {
     "slide_type": "subslide"
    }
   },
   "source": [
    "### Slice and dice by cross-classification variable\n",
    "\n",
    "We can specify the levels of aggregation using the 'requests' attribute.\n",
    "\n",
    "We can filter out positions using cross-class filters. In this example, we only keep positions of type 'CorporateBond,' and drop positions belonging to Desks B and C."
   ]
  },
  {
   "cell_type": "code",
   "execution_count": 22,
   "metadata": {
    "slideshow": {
     "slide_type": "fragment"
    },
    "pycharm": {
     "is_executing": false
    }
   },
   "outputs": [
    {
     "name": "stdout",
     "text": [
      "NOTE: Executing action 'builtins.loadActionSet'.\n",
      "NOTE: Added action set 'riskresults'.\n",
      "NOTE: Action 'builtins.loadActionSet' used (Total process time):\n",
      "NOTE:       real time               0.006885 seconds\n",
      "NOTE:       cpu time                0.012997 seconds (188.77%)\n",
      "NOTE:       total nodes             3 (48 cores)\n",
      "NOTE:       total memory            756.70G\n",
      "NOTE:       memory                  652.97K (0.00%)\n",
      "NOTE: Executing action 'riskResults.query'.\n",
      "NOTE: Starting the query action.\n",
      "NOTE: The table 'Results_stat' in caslib 'CASUSER(daston)' has 10 observations and 12 variables.\n",
      "NOTE: Action 'riskResults.query' used (Total process time):\n",
      "NOTE:       real time               1.636074 seconds\n",
      "NOTE:       cpu time                5.899102 seconds (360.56%)\n",
      "NOTE:       data movement time      0.014310 seconds\n",
      "NOTE:       total nodes             3 (48 cores)\n",
      "NOTE:       total memory            756.70G\n",
      "NOTE:       memory                  491.81M (0.06%)\n",
      "NOTE:       bytes moved             211.88K\n"
     ],
     "output_type": "stream"
    }
   ],
   "source": [
    "results.requests = [ '_TOP_', 'Desk', ['Desk','Region'], ['Desk','Region','insttype'] ]\n",
    "\n",
    "results.filters = [{'crossClass':'insttype', 'keep':'CorporateBond'},\n",
    "                   {'crossClass':'Desk', 'drop':['B','C']}]\n",
    "\n",
    "query = results.query()"
   ]
  },
  {
   "cell_type": "markdown",
   "metadata": {
    "slideshow": {
     "slide_type": "subslide"
    }
   },
   "source": [
    "Let's view the results:"
   ]
  },
  {
   "cell_type": "code",
   "execution_count": 23,
   "metadata": {
    "slideshow": {
     "slide_type": "fragment"
    },
    "pycharm": {
     "is_executing": false
    }
   },
   "outputs": [
    {
     "data": {
      "text/plain": "Selected Rows from Table RESULTS_STAT\n\n  Desk Region       insttype  NInst  alpha OutputVariable  _horizon_  \\\n0    A   East  CorporateBond   42.0   0.05             PL        1.0   \n1    A   East              +   42.0   0.05             PL        1.0   \n2    A      +              +  159.0   0.05             PL        1.0   \n3    +      +              +  159.0   0.05             PL        1.0   \n4    A  South  CorporateBond   40.0   0.05             PL        1.0   \n5    A  South              +   40.0   0.05             PL        1.0   \n6    A  North  CorporateBond   39.0   0.05             PL        1.0   \n7    A  North              +   39.0   0.05             PL        1.0   \n8    A   West  CorporateBond   38.0   0.05             PL        1.0   \n9    A   West              +   38.0   0.05             PL        1.0   \n\n       _date_  _horidx_ ResultName          VAR            ES  \n0  2020-03-03       1.0             2374.657686   3009.657376  \n1  2020-03-03       1.0             2374.657686   3009.657376  \n2  2020-03-03       1.0             8460.807347  10724.376349  \n3  2020-03-03       1.0             8460.807347  10724.376349  \n4  2020-03-03       1.0             2026.101150   2570.221270  \n5  2020-03-03       1.0             2026.101150   2570.221270  \n6  2020-03-03       1.0             1965.318257   2491.578886  \n7  2020-03-03       1.0             1965.318257   2491.578886  \n8  2020-03-03       1.0             2094.730254   2652.918817  \n9  2020-03-03       1.0             2094.730254   2652.918817  ",
      "text/html": "<div>\n<style scoped>\n    .dataframe tbody tr th:only-of-type {\n        vertical-align: middle;\n    }\n\n    .dataframe tbody tr th {\n        vertical-align: top;\n    }\n\n    .dataframe thead th {\n        text-align: right;\n    }\n</style>\n<table border=\"1\" class=\"dataframe\"><caption>Selected Rows from Table RESULTS_STAT</caption>\n  <thead>\n    <tr style=\"text-align: right;\">\n      <th title=\"\"></th>\n      <th title=\"Desk\">Desk</th>\n      <th title=\"Region\">Region</th>\n      <th title=\"insttype\">insttype</th>\n      <th title=\"Number of Instruments\">NInst</th>\n      <th title=\"Alpha\">alpha</th>\n      <th title=\"Output Variable\">OutputVariable</th>\n      <th title=\"Horizon Interval Number\">_horizon_</th>\n      <th title=\"Valuation Date\">_date_</th>\n      <th title=\"Horizon Index\">_horidx_</th>\n      <th title=\"Result Name\">ResultName</th>\n      <th title=\"VAR\">VAR</th>\n      <th title=\"ES\">ES</th>\n    </tr>\n  </thead>\n  <tbody>\n    <tr>\n      <td>0</td>\n      <td>A</td>\n      <td>East</td>\n      <td>CorporateBond</td>\n      <td>42.0</td>\n      <td>0.05</td>\n      <td>PL</td>\n      <td>1.0</td>\n      <td>2020-03-03</td>\n      <td>1.0</td>\n      <td></td>\n      <td>2374.657686</td>\n      <td>3009.657376</td>\n    </tr>\n    <tr>\n      <td>1</td>\n      <td>A</td>\n      <td>East</td>\n      <td>+</td>\n      <td>42.0</td>\n      <td>0.05</td>\n      <td>PL</td>\n      <td>1.0</td>\n      <td>2020-03-03</td>\n      <td>1.0</td>\n      <td></td>\n      <td>2374.657686</td>\n      <td>3009.657376</td>\n    </tr>\n    <tr>\n      <td>2</td>\n      <td>A</td>\n      <td>+</td>\n      <td>+</td>\n      <td>159.0</td>\n      <td>0.05</td>\n      <td>PL</td>\n      <td>1.0</td>\n      <td>2020-03-03</td>\n      <td>1.0</td>\n      <td></td>\n      <td>8460.807347</td>\n      <td>10724.376349</td>\n    </tr>\n    <tr>\n      <td>3</td>\n      <td>+</td>\n      <td>+</td>\n      <td>+</td>\n      <td>159.0</td>\n      <td>0.05</td>\n      <td>PL</td>\n      <td>1.0</td>\n      <td>2020-03-03</td>\n      <td>1.0</td>\n      <td></td>\n      <td>8460.807347</td>\n      <td>10724.376349</td>\n    </tr>\n    <tr>\n      <td>4</td>\n      <td>A</td>\n      <td>South</td>\n      <td>CorporateBond</td>\n      <td>40.0</td>\n      <td>0.05</td>\n      <td>PL</td>\n      <td>1.0</td>\n      <td>2020-03-03</td>\n      <td>1.0</td>\n      <td></td>\n      <td>2026.101150</td>\n      <td>2570.221270</td>\n    </tr>\n    <tr>\n      <td>5</td>\n      <td>A</td>\n      <td>South</td>\n      <td>+</td>\n      <td>40.0</td>\n      <td>0.05</td>\n      <td>PL</td>\n      <td>1.0</td>\n      <td>2020-03-03</td>\n      <td>1.0</td>\n      <td></td>\n      <td>2026.101150</td>\n      <td>2570.221270</td>\n    </tr>\n    <tr>\n      <td>6</td>\n      <td>A</td>\n      <td>North</td>\n      <td>CorporateBond</td>\n      <td>39.0</td>\n      <td>0.05</td>\n      <td>PL</td>\n      <td>1.0</td>\n      <td>2020-03-03</td>\n      <td>1.0</td>\n      <td></td>\n      <td>1965.318257</td>\n      <td>2491.578886</td>\n    </tr>\n    <tr>\n      <td>7</td>\n      <td>A</td>\n      <td>North</td>\n      <td>+</td>\n      <td>39.0</td>\n      <td>0.05</td>\n      <td>PL</td>\n      <td>1.0</td>\n      <td>2020-03-03</td>\n      <td>1.0</td>\n      <td></td>\n      <td>1965.318257</td>\n      <td>2491.578886</td>\n    </tr>\n    <tr>\n      <td>8</td>\n      <td>A</td>\n      <td>West</td>\n      <td>CorporateBond</td>\n      <td>38.0</td>\n      <td>0.05</td>\n      <td>PL</td>\n      <td>1.0</td>\n      <td>2020-03-03</td>\n      <td>1.0</td>\n      <td></td>\n      <td>2094.730254</td>\n      <td>2652.918817</td>\n    </tr>\n    <tr>\n      <td>9</td>\n      <td>A</td>\n      <td>West</td>\n      <td>+</td>\n      <td>38.0</td>\n      <td>0.05</td>\n      <td>PL</td>\n      <td>1.0</td>\n      <td>2020-03-03</td>\n      <td>1.0</td>\n      <td></td>\n      <td>2094.730254</td>\n      <td>2652.918817</td>\n    </tr>\n  </tbody>\n</table>\n</div>"
     },
     "metadata": {},
     "output_type": "execute_result",
     "execution_count": 23
    }
   ],
   "source": [
    "query.head(10)"
   ]
  },
  {
   "cell_type": "markdown",
   "metadata": {
    "slideshow": {
     "slide_type": "subslide"
    }
   },
   "source": [
    "### Change confidence interval for statistics"
   ]
  },
  {
   "cell_type": "code",
   "execution_count": 24,
   "metadata": {
    "slideshow": {
     "slide_type": "fragment"
    },
    "pycharm": {
     "is_executing": false
    }
   },
   "outputs": [
    {
     "name": "stdout",
     "text": [
      "NOTE: Executing action 'builtins.loadActionSet'.\n",
      "NOTE: Added action set 'riskresults'.\n",
      "NOTE: Action 'builtins.loadActionSet' used (Total process time):\n",
      "NOTE:       real time               0.007753 seconds\n",
      "NOTE:       cpu time                0.013998 seconds (180.55%)\n",
      "NOTE:       total nodes             3 (48 cores)\n",
      "NOTE:       total memory            756.70G\n",
      "NOTE:       memory                  647.91K (0.00%)\n",
      "NOTE: Executing action 'riskResults.query'.\n",
      "NOTE: Starting the query action.\n",
      "NOTE: The table 'Results_stat' in caslib 'CASUSER(daston)' has 10 observations and 12 variables.\n",
      "NOTE: Action 'riskResults.query' used (Total process time):\n",
      "NOTE:       real time               1.988808 seconds\n",
      "NOTE:       cpu time                6.337037 seconds (318.63%)\n",
      "NOTE:       data movement time      0.013118 seconds\n",
      "NOTE:       total nodes             3 (48 cores)\n",
      "NOTE:       total memory            756.70G\n",
      "NOTE:       memory                  491.78M (0.06%)\n",
      "NOTE:       bytes moved             211.88K\n"
     ],
     "output_type": "stream"
    }
   ],
   "source": [
    "results.alpha = 0.01\n",
    "query = results.query()"
   ]
  },
  {
   "cell_type": "code",
   "execution_count": 25,
   "metadata": {
    "slideshow": {
     "slide_type": "fragment"
    },
    "pycharm": {
     "is_executing": false
    }
   },
   "outputs": [
    {
     "data": {
      "text/plain": "Selected Rows from Table RESULTS_STAT\n\n  Desk Region       insttype  NInst  alpha OutputVariable  _horizon_  \\\n0    A  South  CorporateBond   40.0   0.01             PL        1.0   \n1    A  South              +   40.0   0.01             PL        1.0   \n2    A      +              +  159.0   0.01             PL        1.0   \n3    +      +              +  159.0   0.01             PL        1.0   \n4    A   East  CorporateBond   42.0   0.01             PL        1.0   \n5    A   East              +   42.0   0.01             PL        1.0   \n6    A  North  CorporateBond   39.0   0.01             PL        1.0   \n7    A  North              +   39.0   0.01             PL        1.0   \n8    A   West  CorporateBond   38.0   0.01             PL        1.0   \n9    A   West              +   38.0   0.01             PL        1.0   \n\n       _date_  _horidx_ ResultName           VAR            ES  \n0  2020-03-03       1.0              2934.236864   3663.040458  \n1  2020-03-03       1.0              2934.236864   3663.040458  \n2  2020-03-03       1.0             12238.721206  15270.492532  \n3  2020-03-03       1.0             12238.721206  15270.492532  \n4  2020-03-03       1.0              3434.499413   4284.903149  \n5  2020-03-03       1.0              3434.499413   4284.903149  \n6  2020-03-03       1.0              2843.649893   3548.517079  \n7  2020-03-03       1.0              2843.649893   3548.517079  \n8  2020-03-03       1.0              3026.335035   3774.031847  \n9  2020-03-03       1.0              3026.335035   3774.031847  ",
      "text/html": "<div>\n<style scoped>\n    .dataframe tbody tr th:only-of-type {\n        vertical-align: middle;\n    }\n\n    .dataframe tbody tr th {\n        vertical-align: top;\n    }\n\n    .dataframe thead th {\n        text-align: right;\n    }\n</style>\n<table border=\"1\" class=\"dataframe\"><caption>Selected Rows from Table RESULTS_STAT</caption>\n  <thead>\n    <tr style=\"text-align: right;\">\n      <th title=\"\"></th>\n      <th title=\"Desk\">Desk</th>\n      <th title=\"Region\">Region</th>\n      <th title=\"insttype\">insttype</th>\n      <th title=\"Number of Instruments\">NInst</th>\n      <th title=\"Alpha\">alpha</th>\n      <th title=\"Output Variable\">OutputVariable</th>\n      <th title=\"Horizon Interval Number\">_horizon_</th>\n      <th title=\"Valuation Date\">_date_</th>\n      <th title=\"Horizon Index\">_horidx_</th>\n      <th title=\"Result Name\">ResultName</th>\n      <th title=\"VAR\">VAR</th>\n      <th title=\"ES\">ES</th>\n    </tr>\n  </thead>\n  <tbody>\n    <tr>\n      <td>0</td>\n      <td>A</td>\n      <td>South</td>\n      <td>CorporateBond</td>\n      <td>40.0</td>\n      <td>0.01</td>\n      <td>PL</td>\n      <td>1.0</td>\n      <td>2020-03-03</td>\n      <td>1.0</td>\n      <td></td>\n      <td>2934.236864</td>\n      <td>3663.040458</td>\n    </tr>\n    <tr>\n      <td>1</td>\n      <td>A</td>\n      <td>South</td>\n      <td>+</td>\n      <td>40.0</td>\n      <td>0.01</td>\n      <td>PL</td>\n      <td>1.0</td>\n      <td>2020-03-03</td>\n      <td>1.0</td>\n      <td></td>\n      <td>2934.236864</td>\n      <td>3663.040458</td>\n    </tr>\n    <tr>\n      <td>2</td>\n      <td>A</td>\n      <td>+</td>\n      <td>+</td>\n      <td>159.0</td>\n      <td>0.01</td>\n      <td>PL</td>\n      <td>1.0</td>\n      <td>2020-03-03</td>\n      <td>1.0</td>\n      <td></td>\n      <td>12238.721206</td>\n      <td>15270.492532</td>\n    </tr>\n    <tr>\n      <td>3</td>\n      <td>+</td>\n      <td>+</td>\n      <td>+</td>\n      <td>159.0</td>\n      <td>0.01</td>\n      <td>PL</td>\n      <td>1.0</td>\n      <td>2020-03-03</td>\n      <td>1.0</td>\n      <td></td>\n      <td>12238.721206</td>\n      <td>15270.492532</td>\n    </tr>\n    <tr>\n      <td>4</td>\n      <td>A</td>\n      <td>East</td>\n      <td>CorporateBond</td>\n      <td>42.0</td>\n      <td>0.01</td>\n      <td>PL</td>\n      <td>1.0</td>\n      <td>2020-03-03</td>\n      <td>1.0</td>\n      <td></td>\n      <td>3434.499413</td>\n      <td>4284.903149</td>\n    </tr>\n    <tr>\n      <td>5</td>\n      <td>A</td>\n      <td>East</td>\n      <td>+</td>\n      <td>42.0</td>\n      <td>0.01</td>\n      <td>PL</td>\n      <td>1.0</td>\n      <td>2020-03-03</td>\n      <td>1.0</td>\n      <td></td>\n      <td>3434.499413</td>\n      <td>4284.903149</td>\n    </tr>\n    <tr>\n      <td>6</td>\n      <td>A</td>\n      <td>North</td>\n      <td>CorporateBond</td>\n      <td>39.0</td>\n      <td>0.01</td>\n      <td>PL</td>\n      <td>1.0</td>\n      <td>2020-03-03</td>\n      <td>1.0</td>\n      <td></td>\n      <td>2843.649893</td>\n      <td>3548.517079</td>\n    </tr>\n    <tr>\n      <td>7</td>\n      <td>A</td>\n      <td>North</td>\n      <td>+</td>\n      <td>39.0</td>\n      <td>0.01</td>\n      <td>PL</td>\n      <td>1.0</td>\n      <td>2020-03-03</td>\n      <td>1.0</td>\n      <td></td>\n      <td>2843.649893</td>\n      <td>3548.517079</td>\n    </tr>\n    <tr>\n      <td>8</td>\n      <td>A</td>\n      <td>West</td>\n      <td>CorporateBond</td>\n      <td>38.0</td>\n      <td>0.01</td>\n      <td>PL</td>\n      <td>1.0</td>\n      <td>2020-03-03</td>\n      <td>1.0</td>\n      <td></td>\n      <td>3026.335035</td>\n      <td>3774.031847</td>\n    </tr>\n    <tr>\n      <td>9</td>\n      <td>A</td>\n      <td>West</td>\n      <td>+</td>\n      <td>38.0</td>\n      <td>0.01</td>\n      <td>PL</td>\n      <td>1.0</td>\n      <td>2020-03-03</td>\n      <td>1.0</td>\n      <td></td>\n      <td>3026.335035</td>\n      <td>3774.031847</td>\n    </tr>\n  </tbody>\n</table>\n</div>"
     },
     "metadata": {},
     "output_type": "execute_result",
     "execution_count": 25
    }
   ],
   "source": [
    "query.head(10)"
   ]
  },
  {
   "cell_type": "markdown",
   "metadata": {
    "slideshow": {
     "slide_type": "subslide"
    }
   },
   "source": [
    "We can easily send our results to Excel for further analysis:"
   ]
  },
  {
   "cell_type": "code",
   "execution_count": 26,
   "metadata": {
    "slideshow": {
     "slide_type": "fragment"
    },
    "pycharm": {
     "is_executing": false
    }
   },
   "outputs": [],
   "source": [
    "query.to_excel('stats.xlsx')"
   ]
  },
  {
   "cell_type": "markdown",
   "metadata": {
    "slideshow": {
     "slide_type": "subslide"
    }
   },
   "source": [
    "### Query for values instead of statistics"
   ]
  },
  {
   "cell_type": "code",
   "execution_count": 27,
   "metadata": {
    "slideshow": {
     "slide_type": "fragment"
    },
    "pycharm": {
     "is_executing": false
    }
   },
   "outputs": [
    {
     "name": "stdout",
     "text": [
      "NOTE: Executing action 'builtins.loadActionSet'.\n",
      "NOTE: Added action set 'riskresults'.\n",
      "NOTE: Action 'builtins.loadActionSet' used (Total process time):\n",
      "NOTE:       real time               0.007238 seconds\n",
      "NOTE:       cpu time                0.012998 seconds (179.58%)\n",
      "NOTE:       total nodes             3 (48 cores)\n",
      "NOTE:       total memory            756.70G\n",
      "NOTE:       memory                  653.06K (0.00%)\n",
      "NOTE: Executing action 'riskResults.query'.\n",
      "NOTE: Starting the query action.\n",
      "NOTE: The table 'Results_values' in caslib 'CASUSER(daston)' has 500 observations and 7 variables.\n",
      "NOTE: Action 'riskResults.query' used (Total process time):\n",
      "NOTE:       real time               0.939789 seconds\n",
      "NOTE:       cpu time                8.027780 seconds (854.21%)\n",
      "NOTE:       data movement time      0.014394 seconds\n",
      "NOTE:       total nodes             3 (48 cores)\n",
      "NOTE:       total memory            756.70G\n",
      "NOTE:       memory                  101.75M (0.01%)\n",
      "NOTE:       bytes moved             240.19K\n"
     ],
     "output_type": "stream"
    }
   ],
   "source": [
    "results.out_type = 'values'\n",
    "results.requests = ['_TOP_']\n",
    "results.filters  = None\n",
    "\n",
    "query = results.query(max_rows=500)\n",
    "\n",
    "loss = -1 * query['PL'] # For plotting later"
   ]
  },
  {
   "cell_type": "code",
   "execution_count": 28,
   "metadata": {
    "slideshow": {
     "slide_type": "fragment"
    },
    "pycharm": {
     "is_executing": false
    }
   },
   "outputs": [
    {
     "data": {
      "text/plain": "Selected Rows from Table RESULTS_VALUES\n\n    NInst ResultName      _date_  _horizon_  _horidx_  _rep_             PL\n0  1000.0             2020-03-03        1.0       1.0    1.0 -117774.202127\n1  1000.0             2020-03-03        1.0       1.0    2.0  143206.767074\n2  1000.0             2020-03-03        1.0       1.0    3.0   59383.947497\n3  1000.0             2020-03-03        1.0       1.0    4.0   48471.201559\n4  1000.0             2020-03-03        1.0       1.0    5.0   40819.776270",
      "text/html": "<div>\n<style scoped>\n    .dataframe tbody tr th:only-of-type {\n        vertical-align: middle;\n    }\n\n    .dataframe tbody tr th {\n        vertical-align: top;\n    }\n\n    .dataframe thead th {\n        text-align: right;\n    }\n</style>\n<table border=\"1\" class=\"dataframe\"><caption>Selected Rows from Table RESULTS_VALUES</caption>\n  <thead>\n    <tr style=\"text-align: right;\">\n      <th title=\"\"></th>\n      <th title=\"Number of Instruments\">NInst</th>\n      <th title=\"Result Name\">ResultName</th>\n      <th title=\"Valuation Date\">_date_</th>\n      <th title=\"Horizon Interval Number\">_horizon_</th>\n      <th title=\"Horizon Index\">_horidx_</th>\n      <th title=\"Replication Number\">_rep_</th>\n      <th title=\"PL\">PL</th>\n    </tr>\n  </thead>\n  <tbody>\n    <tr>\n      <td>0</td>\n      <td>1000.0</td>\n      <td></td>\n      <td>2020-03-03</td>\n      <td>1.0</td>\n      <td>1.0</td>\n      <td>1.0</td>\n      <td>-117774.202127</td>\n    </tr>\n    <tr>\n      <td>1</td>\n      <td>1000.0</td>\n      <td></td>\n      <td>2020-03-03</td>\n      <td>1.0</td>\n      <td>1.0</td>\n      <td>2.0</td>\n      <td>143206.767074</td>\n    </tr>\n    <tr>\n      <td>2</td>\n      <td>1000.0</td>\n      <td></td>\n      <td>2020-03-03</td>\n      <td>1.0</td>\n      <td>1.0</td>\n      <td>3.0</td>\n      <td>59383.947497</td>\n    </tr>\n    <tr>\n      <td>3</td>\n      <td>1000.0</td>\n      <td></td>\n      <td>2020-03-03</td>\n      <td>1.0</td>\n      <td>1.0</td>\n      <td>4.0</td>\n      <td>48471.201559</td>\n    </tr>\n    <tr>\n      <td>4</td>\n      <td>1000.0</td>\n      <td></td>\n      <td>2020-03-03</td>\n      <td>1.0</td>\n      <td>1.0</td>\n      <td>5.0</td>\n      <td>40819.776270</td>\n    </tr>\n  </tbody>\n</table>\n</div>"
     },
     "metadata": {},
     "output_type": "execute_result",
     "execution_count": 28
    }
   ],
   "source": [
    "query.head()"
   ]
  },
  {
   "cell_type": "markdown",
   "metadata": {
    "slideshow": {
     "slide_type": "slide"
    }
   },
   "source": [
    "## Create Report: Value-at-Risk and Expected Shortfall\n",
    "\n",
    "Let's create a report showing portfolio VaR and ES at various confidence intervals.\n",
    "\n",
    "As before, we start by configuring the Results object:"
   ]
  },
  {
   "cell_type": "code",
   "execution_count": 29,
   "metadata": {
    "slideshow": {
     "slide_type": "fragment"
    },
    "pycharm": {
     "is_executing": false
    }
   },
   "outputs": [],
   "source": [
    "results = riskpy.Results(\n",
    "    values          = values, \n",
    "    session_context = conn,\n",
    "    horizons        = 1,\n",
    "    statistics      = ['VAR', 'ES'],\n",
    "    outvars         = 'PL')"
   ]
  },
  {
   "cell_type": "markdown",
   "metadata": {
    "slideshow": {
     "slide_type": "subslide"
    }
   },
   "source": [
    "Now, we simply run a few queries with different alphas, and append them all together:"
   ]
  },
  {
   "cell_type": "code",
   "execution_count": 30,
   "metadata": {
    "collapsed": true,
    "slideshow": {
     "slide_type": "fragment"
    },
    "pycharm": {
     "is_executing": false
    }
   },
   "outputs": [
    {
     "name": "stdout",
     "text": [
      "NOTE: Executing action 'builtins.loadActionSet'.\n",
      "NOTE: Added action set 'riskresults'.\n",
      "NOTE: Action 'builtins.loadActionSet' used (Total process time):\n",
      "NOTE:       real time               0.006646 seconds\n",
      "NOTE:       cpu time                0.013997 seconds (210.61%)\n",
      "NOTE:       total nodes             3 (48 cores)\n",
      "NOTE:       total memory            756.70G\n",
      "NOTE:       memory                  653.06K (0.00%)\n",
      "NOTE: Executing action 'riskResults.query'.\n",
      "NOTE: Starting the query action.\n",
      "NOTE: The table 'Results_stat' in caslib 'CASUSER(daston)' has 1 observations and 9 variables.\n",
      "NOTE: Action 'riskResults.query' used (Total process time):\n",
      "NOTE:       real time               0.926772 seconds\n",
      "NOTE:       cpu time                8.015781 seconds (864.91%)\n",
      "NOTE:       data movement time      0.014094 seconds\n",
      "NOTE:       total nodes             3 (48 cores)\n",
      "NOTE:       total memory            756.70G\n",
      "NOTE:       memory                  102.07M (0.01%)\n",
      "NOTE:       bytes moved             209.03K\n",
      "NOTE: Executing action 'builtins.loadActionSet'.\n",
      "NOTE: Added action set 'riskresults'.\n",
      "NOTE: Action 'builtins.loadActionSet' used (Total process time):\n",
      "NOTE:       real time               0.006538 seconds\n",
      "NOTE:       cpu time                0.012000 seconds (183.54%)\n",
      "NOTE:       total nodes             3 (48 cores)\n",
      "NOTE:       total memory            756.70G\n",
      "NOTE:       memory                  658.97K (0.00%)\n",
      "NOTE: Executing action 'riskResults.query'.\n",
      "NOTE: Starting the query action.\n",
      "NOTE: The table 'Results_stat' in caslib 'CASUSER(daston)' has 1 observations and 9 variables.\n",
      "NOTE: Action 'riskResults.query' used (Total process time):\n",
      "NOTE:       real time               0.942270 seconds\n",
      "NOTE:       cpu time                8.044777 seconds (853.77%)\n",
      "NOTE:       data movement time      0.014021 seconds\n",
      "NOTE:       total nodes             3 (48 cores)\n",
      "NOTE:       total memory            756.70G\n",
      "NOTE:       memory                  102.05M (0.01%)\n",
      "NOTE:       bytes moved             209.03K\n",
      "NOTE: Executing action 'builtins.loadActionSet'.\n",
      "NOTE: Added action set 'riskresults'.\n",
      "NOTE: Action 'builtins.loadActionSet' used (Total process time):\n",
      "NOTE:       real time               0.006427 seconds\n",
      "NOTE:       cpu time                0.011999 seconds (186.70%)\n",
      "NOTE:       total nodes             3 (48 cores)\n",
      "NOTE:       total memory            756.70G\n",
      "NOTE:       memory                  657.56K (0.00%)\n",
      "NOTE: Executing action 'riskResults.query'.\n",
      "NOTE: Starting the query action.\n",
      "NOTE: The table 'Results_stat' in caslib 'CASUSER(daston)' has 1 observations and 9 variables.\n",
      "NOTE: Action 'riskResults.query' used (Total process time):\n",
      "NOTE:       real time               0.953215 seconds\n",
      "NOTE:       cpu time                8.060774 seconds (845.64%)\n",
      "NOTE:       data movement time      0.014743 seconds\n",
      "NOTE:       total nodes             3 (48 cores)\n",
      "NOTE:       total memory            756.70G\n",
      "NOTE:       memory                  101.81M (0.01%)\n",
      "NOTE:       bytes moved             209.03K\n"
     ],
     "output_type": "stream"
    }
   ],
   "source": [
    "results.alpha = 0.05\n",
    "query1 = results.query().to_frame()\n",
    "\n",
    "results.alpha = 0.01\n",
    "query2 = results.query().to_frame()\n",
    "\n",
    "results.alpha = 0.005\n",
    "query3 = results.query().to_frame()\n",
    "\n",
    "report = query1.append([query2, query3])"
   ]
  },
  {
   "cell_type": "code",
   "execution_count": 31,
   "metadata": {
    "slideshow": {
     "slide_type": "fragment"
    },
    "pycharm": {
     "is_executing": false
    }
   },
   "outputs": [
    {
     "data": {
      "text/plain": "    NInst  alpha OutputVariable  _horizon_      _date_  _horidx_ ResultName  \\\n0  1000.0  0.050             PL        1.0  2020-03-03       1.0              \n0  1000.0  0.010             PL        1.0  2020-03-03       1.0              \n0  1000.0  0.005             PL        1.0  2020-03-03       1.0              \n\n            VAR            ES  \n0  37692.906226  51617.666695  \n0  60292.934250  79566.427339  \n0  68315.229741  94234.975556  ",
      "text/html": "<div>\n<style scoped>\n    .dataframe tbody tr th:only-of-type {\n        vertical-align: middle;\n    }\n\n    .dataframe tbody tr th {\n        vertical-align: top;\n    }\n\n    .dataframe thead th {\n        text-align: right;\n    }\n</style>\n<table border=\"1\" class=\"dataframe\">\n  <thead>\n    <tr style=\"text-align: right;\">\n      <th title=\"\"></th>\n      <th title=\"NInst\">NInst</th>\n      <th title=\"alpha\">alpha</th>\n      <th title=\"OutputVariable\">OutputVariable</th>\n      <th title=\"_horizon_\">_horizon_</th>\n      <th title=\"_date_\">_date_</th>\n      <th title=\"_horidx_\">_horidx_</th>\n      <th title=\"ResultName\">ResultName</th>\n      <th title=\"VAR\">VAR</th>\n      <th title=\"ES\">ES</th>\n    </tr>\n  </thead>\n  <tbody>\n    <tr>\n      <td>0</td>\n      <td>1000.0</td>\n      <td>0.050</td>\n      <td>PL</td>\n      <td>1.0</td>\n      <td>2020-03-03</td>\n      <td>1.0</td>\n      <td></td>\n      <td>37692.906226</td>\n      <td>51617.666695</td>\n    </tr>\n    <tr>\n      <td>0</td>\n      <td>1000.0</td>\n      <td>0.010</td>\n      <td>PL</td>\n      <td>1.0</td>\n      <td>2020-03-03</td>\n      <td>1.0</td>\n      <td></td>\n      <td>60292.934250</td>\n      <td>79566.427339</td>\n    </tr>\n    <tr>\n      <td>0</td>\n      <td>1000.0</td>\n      <td>0.005</td>\n      <td>PL</td>\n      <td>1.0</td>\n      <td>2020-03-03</td>\n      <td>1.0</td>\n      <td></td>\n      <td>68315.229741</td>\n      <td>94234.975556</td>\n    </tr>\n  </tbody>\n</table>\n</div>"
     },
     "metadata": {},
     "output_type": "execute_result",
     "execution_count": 31
    }
   ],
   "source": [
    "report"
   ]
  },
  {
   "cell_type": "markdown",
   "metadata": {
    "slideshow": {
     "slide_type": "slide"
    }
   },
   "source": [
    "## Plot using well-known Python packages"
   ]
  },
  {
   "cell_type": "code",
   "execution_count": 32,
   "metadata": {
    "slideshow": {
     "slide_type": "fragment"
    },
    "pycharm": {
     "is_executing": false
    }
   },
   "outputs": [
    {
     "data": {
      "text/plain": "Text(0.5, 1.0, 'Histogram and Density Plot of Loss Distribution')"
     },
     "metadata": {},
     "output_type": "execute_result",
     "execution_count": 32
    },
    {
     "data": {
      "text/plain": "<Figure size 432x288 with 1 Axes>",
      "image/png": "[encoded data removed]"
     },
     "metadata": {},
     "output_type": "display_data"
    }
   ],
   "source": [
    "sns.set_style(\"darkgrid\")\n",
    "sns.distplot(loss, hist=True, kde=True, bins=50, color='darkblue', axlabel=\"Loss Amount\",\n",
    "             hist_kws={'edgecolor':'black'},\n",
    "             kde_kws={'linewidth': 4})\n",
    "varline = plt.axvline(query2['VAR'][0], color='yellow')\n",
    "esline  = plt.axvline(query2['ES'][0],  color='red')\n",
    "plt.legend(handles=[varline, esline], labels=[\"VaR (99%)\", \"ES (99%)\"])\n",
    "plt.title(\"Histogram and Density Plot of Loss Distribution\")"
   ]
  },
  {
   "cell_type": "code",
   "execution_count": 32,
   "metadata": {
    "pycharm": {
     "is_executing": false
    }
   },
   "outputs": [],
   "source": []
  }
 ],
 "metadata": {
  "kernelspec": {
   "display_name": "Python 3",
   "language": "python",
   "name": "python3"
  },
  "language_info": {
   "codemirror_mode": {
    "name": "ipython",
    "version": 3
   },
   "file_extension": ".py",
   "mimetype": "text/x-python",
   "name": "python",
   "nbconvert_exporter": "python",
   "pygments_lexer": "ipython3",
   "version": "3.7.3"
  },
  "pycharm": {
   "stem_cell": {
    "cell_type": "raw",
    "source": [],
    "metadata": {
     "collapsed": false
    }
   }
  }
 },
 "nbformat": 4,
 "nbformat_minor": 2
}